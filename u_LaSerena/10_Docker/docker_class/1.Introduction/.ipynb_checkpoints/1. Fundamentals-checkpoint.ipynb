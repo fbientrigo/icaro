{
 "cells": [
  {
   "cell_type": "code",
   "execution_count": null,
   "metadata": {},
   "outputs": [],
   "source": [
    "#<img src=\"http://lssds.aura-astronomy.org/winter_school/sites/default/files/sods_atfdds_header01.jpg\" alt=\"La Serena School for Data Science: Applied Tools for Data-driven Sciences\" />\n"
   ]
  },
  {
   "cell_type": "markdown",
   "metadata": {},
   "source": [
    "![source: https://bernhardwenzel.com/2022/the-mental-model-of-docker-container-shipping/](images/hfa.png)\n"
   ]
  },
  {
   "cell_type": "markdown",
   "metadata": {},
   "source": [
    "# 1. Introduction to Docker:\n",
    "\n",
    "Docker is a powerful platform and tool that allows you to develop, ship, and run applications inside isolated, lightweight containers. Containers are a form of virtualization that packages applications and their dependencies together, ensuring consistency across different environments. This theoretical introduction will help you understand the fundamental concepts of Docker."
   ]
  },
  {
   "cell_type": "markdown",
   "metadata": {},
   "source": [
    "<img src=\"https://www.docker.com/wp-content/uploads/2022/03/horizontal-logo-monochromatic-white.png\" alt=\"La Serena School for Data Science: Applied Tools for Data-driven Sciences\" />"
   ]
  },
  {
   "cell_type": "markdown",
   "metadata": {},
   "source": [
    "## 1.1 The Mental Model Of Docker Container Shipping\n",
    "___\n",
    "\n",
    "The analogy of \"The Mental Model of Docker Container Shipping\" is a way to explain the concept of Docker containers using a real-world comparison to shipping containers. Just as standardized shipping containers revolutionized the transportation of goods across the globe, Docker containers revolutionize the way applications are packaged, shipped, and deployed across different computing environments."
   ]
  },
  {
   "cell_type": "markdown",
   "metadata": {},
   "source": [
    "![source: https://bernhardwenzel.com/2022/the-mental-model-of-docker-container-shipping/](images/container-shipping-docker.jpeg)\n",
    "\n",
    "\n",
    "\n",
    "Here's how the analogy works:\n",
    "\n",
    "1. **Standardization:** Just like shipping containers come in standardized sizes that fit on various types of ships, trucks, and trains, Docker containers use a standardized format that can run on any system that supports Docker. This ensures consistency and portability across different environments.\n",
    "\n",
    "2. **Isolation:** Shipping containers isolate goods from external factors like weather, pests, and theft. Similarly, Docker containers isolate applications and their dependencies from the host system and other containers, preventing conflicts and ensuring consistent behavior.\n",
    "\n",
    "3. **Packaging:** Shipping containers allow various types of goods to be packaged and shipped together. Docker containers package an application along with its runtime, libraries, and dependencies, creating a self-sufficient unit that can be shipped as a single entity.\n",
    "\n",
    "4. **Ease of Handling:** Shipping containers are designed for easy loading, unloading, and transportation. Docker containers are easy to create, move, and deploy across different environments, making the development and deployment process more streamlined.\n",
    "\n",
    "5. **Efficiency:** Shipping containers optimize space, allowing goods to be stacked and transported efficiently. Docker containers share the host system's operating system kernel, which optimizes resource utilization and enables multiple containers to run on the same host.\n",
    "\n",
    "6. **Modularity:** Shipping containers allow goods to be compartmentalized and loaded independently. Docker containers promote a modular approach to application development, where each component or service can be encapsulated in its own container.\n",
    "\n",
    "7. **Interchangeability:** Shipping containers can be easily transferred between different modes of transportation (ships, trucks, trains). Docker containers can be moved between different environments (development, testing, production) and even between cloud providers with minimal changes.\n",
    "\n",
    "8. **Consistency:** Shipping containers ensure that goods are protected and handled consistently throughout their journey. Docker containers ensure that applications run consistently across different stages of the development lifecycle.\n",
    "\n",
    "9. **Easy Deployment:** Shipping containers can be loaded onto various vehicles without needing to repack the goods. Docker containers can be deployed onto different systems without needing to modify the application, ensuring consistent behavior.\n",
    "\n",
    "10. **Flexibility:** Just as shipping containers can hold a wide variety of goods, Docker containers can package applications of different types and technologies. This makes them suitable for a diverse range of applications.\n",
    "\n",
    "The analogy helps individuals understand the fundamental concepts of Docker containers by comparing them to a familiar and tangible concept—shipping containers. It simplifies the complexities of containerization, isolation, and portability, making it easier for people to grasp the benefits and use cases of Docker containers in modern software development and deployment.\n",
    "\n",
    "ref:https://bernhardwenzel.com/2022/the-mental-model-of-docker-container-shipping/"
   ]
  },
  {
   "cell_type": "markdown",
   "metadata": {},
   "source": [
    "## 1.2 What is the motivation to use docker?\n",
    "___"
   ]
  },
  {
   "cell_type": "markdown",
   "metadata": {},
   "source": [
    "The motivation to use Docker stems from several key benefits and challenges faced in software development and deployment. Docker addresses these challenges and provides a more efficient, consistent, and streamlined way to manage applications and their dependencies. Here are some of the main motivations to use Docker:\n",
    "\n",
    "1. **Consistency Across Environments:**\n",
    "   Docker ensures that applications run consistently across different environments, such as development, testing, and production. This eliminates the \"it works on my machine\" problem and minimizes discrepancies between development and deployment environments.\n",
    "\n",
    "2. **Isolation and Dependency Management:**\n",
    "   Containers isolate applications and their dependencies from the host system and from each other. This prevents conflicts between different applications and enables efficient management of dependencies without interfering with other parts of the system.\n",
    "\n",
    "3. **Portability:**\n",
    "   Docker containers can run on any system that supports Docker, regardless of the underlying infrastructure. This portability makes it easier to move applications between development, testing, and production environments, as well as between on-premises and cloud environments.\n",
    "\n",
    "4. **Efficiency and Resource Utilization:**\n",
    "   Containers share the host system's operating system kernel, making them lightweight and fast to start and stop. This efficient resource utilization allows more containers to run on the same host compared to traditional virtual machines.\n",
    "\n",
    "5. **Rapid Deployment:**\n",
    "   Docker enables rapid deployment of applications as containers can be created, started, and stopped quickly. This is particularly valuable for continuous integration and continuous deployment (CI/CD) pipelines.\n",
    "\n",
    "6. **Scalability:**\n",
    "   Docker's container-based architecture allows applications to be easily scaled horizontally by running multiple containers of the same image. This scalability is essential for handling increased workloads.\n",
    "\n",
    "7. **Version Control and Reproducibility:**\n",
    "   Docker images can be versioned, allowing developers to maintain consistent configurations and easily roll back to previous versions if needed. This ensures that different stages of development and deployment use the same image.\n",
    "\n",
    "8. **Simplified DevOps:**\n",
    "   Docker simplifies the collaboration between development and operations teams. It streamlines the process of packaging, distributing, and deploying applications, reducing conflicts and friction between teams.\n",
    "\n",
    "9. **Microservices Architecture:**\n",
    "   Docker is commonly used in microservices architecture, where applications are broken down into smaller, loosely coupled services. Each service runs in its own container, enabling independent development, deployment, and scaling of different components.\n",
    "\n",
    "10. **Ecosystem and Community:**\n",
    "    Docker has a thriving ecosystem with a wide range of pre-built images available on Docker Hub. The Docker community shares best practices, tutorials, and tools that make it easier to adopt containerization.\n",
    "\n",
    "**Summary:** Docker's motivation lies in its ability to simplify the software development and deployment process by providing a standardized way to package, distribute, and run applications, while addressing challenges related to consistency, dependency management, portability, efficiency, and scalability."
   ]
  },
  {
   "cell_type": "markdown",
   "metadata": {},
   "source": [
    "## 2. Containerization and Isolation:\n",
    "---\n",
    "\n",
    "Containerization and isolation are fundamental concepts in Docker that play a crucial role in how applications are deployed, managed, and run. Let's explore these concepts in detail:\n",
    "\n",
    "- **Containerization:** Is the process of packaging an application and its dependencies into a single unit called a container. Containers provide a consistent and isolated environment for running applications, ensuring that they behave the same way across different environments, from development to production.\n",
    "\n",
    "- **Isolation:** Isolation in Docker refers to the separation of resources, processes, and environments between containers and between containers and the host system. Isolation ensures that containers do not interfere with each other, and they operate as if they are running in their own independent environments."
   ]
  },
  {
   "cell_type": "markdown",
   "metadata": {},
   "source": [
    "![https://www.netscaler.com/articles/what-is-containerization](images/what-is-containerization.png)"
   ]
  },
  {
   "cell_type": "markdown",
   "metadata": {},
   "source": [
    "## 3. Docker Image:\n",
    "___\n",
    "\n",
    "- A Docker image is a lightweight, stand-alone, executable package that includes everything needed to run a piece of software, including the code, runtime, system tools, libraries, and settings.\n",
    "- Docker images serve as templates for creating containers. They are built from a set of instructions defined in a special file called a Dockerfile."
   ]
  },
  {
   "cell_type": "markdown",
   "metadata": {},
   "source": [
    "![https://www.netscaler.com/articles/what-is-containerization](images/docker_image.webp)"
   ]
  },
  {
   "cell_type": "markdown",
   "metadata": {},
   "source": [
    "Here are the key components and details that define what a Docker image is:\n",
    "\n",
    "1. **Layers:** Docker images are composed of multiple layers. Each layer represents a set of filesystem changes. Layers are stacked on top of each other, with each layer representing a change or modification to the filesystem. This layered approach allows for efficient use of disk space and faster image sharing.\n",
    "\n",
    "2. **Base Image:** Images are typically based on a base image, which is the starting point for building your custom image. The base image can be an official image provided by Docker or a customized image created by you or others in the community.\n",
    "\n",
    "3. **Dockerfile:** Images are defined by a Dockerfile, which is a plain text configuration file that specifies the instructions for building the image. The Dockerfile includes details such as the base image, additional software installations, environment variables, working directory, and more.\n",
    "\n",
    "4. **Immutable:** Docker images are immutable, meaning once they are created, their contents cannot be changed. If modifications are required, a new image must be created based on the existing one.\n",
    "\n",
    "5. **Versioning:** Images can be versioned using tags. Tags are labels that indicate a specific version of the image. For example, an image might have tags like \"latest,\" \"v1.0,\" or \"dev.\"\n",
    "\n",
    "6. **Reproducibility:** Docker images provide a way to ensure that the same environment is used across different stages of the software development lifecycle, from development and testing to production. This reproducibility reduces inconsistencies and deployment issues.\n",
    "\n",
    "7. **Docker Hub and Registries:** Docker images can be shared and distributed through Docker Hub, a cloud-based registry where you can find and share public images. Private registries can also be set up for organizations that need to manage their own image distribution.\n",
    "\n",
    "8. **Efficiency:** Images are designed to be lightweight. Docker uses a Union File System to share layers between images, which optimizes storage and reduces duplication of files.\n",
    "\n",
    "9. **Application Isolation:** Docker images provide a way to isolate applications and their dependencies from the host system and from other applications. This isolation ensures that applications run consistently regardless of the host environment.\n",
    "\n",
    "10. **Ease of Deployment:** Docker images make it easy to package applications and their dependencies into a single unit. This unit can be easily deployed and run on any Docker-compatible environment.\n",
    "\n",
    "**Summary:** a Docker image is a snapshot of a filesystem that contains everything necessary to run an application. It serves as a portable, consistent, and isolated unit that enables the deployment and execution of applications across various environments. Images are defined by Dockerfiles and can be versioned, shared, and distributed through container registries."
   ]
  },
  {
   "cell_type": "markdown",
   "metadata": {},
   "source": [
    "## 4. Dockerfile:\n",
    "___\n",
    "\n",
    "A Dockerfile is a plain text configuration file used to define the instructions for building a Docker image. It outlines the steps and commands needed to create a customized, self-contained, and executable software package that can be run as a Docker container. Dockerfiles are a core component of the Docker ecosystem and are crucial for creating consistent, reproducible, and portable environments for applications."
   ]
  },
  {
   "cell_type": "markdown",
   "metadata": {},
   "source": [
    "![https://www.netscaler.com/articles/what-is-containerization](images/dockerfile.png)"
   ]
  },
  {
   "cell_type": "markdown",
   "metadata": {},
   "source": [
    "## 5. Docker Container:\n",
    "___\n",
    "\n",
    "A Docker container is a lightweight, standalone, and executable software package that contains everything needed to run a piece of software, including the application code, runtime, libraries, environment variables, and system tools. Containers are created from Docker images and provide a consistent and isolated environment for running applications. They encapsulate applications and their dependencies, allowing them to run reliably across different environments without causing conflicts or interfering with other applications."
   ]
  },
  {
   "cell_type": "markdown",
   "metadata": {},
   "source": [
    "![Texto alternativo](images/Container_01_KMJ.jpeg)"
   ]
  },
  {
   "cell_type": "markdown",
   "metadata": {},
   "source": [
    "Here are the key components and details that define what a Docker container is:\n",
    "\n",
    "1. **Isolation:** Containers isolate applications and their dependencies from the host system and from other containers. This isolation ensures that changes in one container do not affect others, providing a clean and controlled environment for running applications.\n",
    "\n",
    "2. **Standardization:** Docker containers are standardized units that package applications and their dependencies together. This standardization simplifies deployment, testing, and maintenance processes.\n",
    "\n",
    "3. **Portability:** Containers can run on any system that supports Docker, regardless of the underlying infrastructure. This portability makes it easy to move applications between development, testing, and production environments, as well as between on-premises and cloud environments.\n",
    "\n",
    "4. **Filesystem and Libraries:** Containers have their own isolated filesystem that contains the application code, runtime, libraries, and other necessary files. This isolated filesystem ensures that the container has the required environment to run the application.\n",
    "\n",
    "5. **Resource Efficiency:** Containers share the host system's operating system kernel, which makes them lightweight and resource-efficient. They consume fewer resources compared to traditional virtual machines.\n",
    "\n",
    "6. **Dependency Management:** Containers encapsulate application dependencies, ensuring that they are consistent and isolated from the host system and other containers. This eliminates conflicts between different application requirements.\n",
    "\n",
    "7. **Immutable:** Containers are immutable, meaning that their contents cannot be changed once they are created. If you need to make changes, you create a new container from an updated image.\n",
    "\n",
    "8. **Networking:** Containers can be connected to different networks, enabling communication between containers or with external resources. This networking capability allows for the creation of microservices architectures.\n",
    "\n",
    "9. **Versioning:** Containers can be versioned using image tags. Different versions of an application can be maintained and deployed by using specific image tags.\n",
    "\n",
    "10. **Lifecycle Management:** Containers have a well-defined lifecycle, from creation to execution and termination. Docker provides commands to manage container creation, starting, stopping, pausing, and removing.\n",
    "\n",
    "11. **Security and Isolation:** Containers provide an additional layer of security by isolating applications from each other and from the host system. This helps prevent vulnerabilities in one application from affecting others.\n",
    "\n",
    "12. **Application Deployment and Scaling:** Containers simplify application deployment and scaling. They can be easily orchestrated and managed using tools like Docker Compose, Kubernetes, and Docker Swarm.\n",
    "\n",
    "**Summary:** a Docker container is a self-contained unit that packages an application and its dependencies, providing a consistent, isolated, and portable environment for running software across different systems and environments. Containers are a key technology for modern application development, enabling efficient deployment, scalability, and management."
   ]
  },
  {
   "cell_type": "markdown",
   "metadata": {},
   "source": [
    "## 5. Docker Hub and Registries:\n",
    "___\n",
    "\n",
    "Docker Hub and container registries are platforms designed to store, manage, distribute, and share Docker images. They play a critical role in the Docker ecosystem by providing a centralized location for developers and organizations to upload, access, and collaborate on container images. Here's a explanation of Docker Hub and container registries owrkflow:\n",
    "\n"
   ]
  },
  {
   "cell_type": "markdown",
   "metadata": {},
   "source": [
    "![Texto alternativo](images/dockerhub.png)"
   ]
  },
  {
   "cell_type": "markdown",
   "metadata": {},
   "source": [
    "Docker Hub and container registries are platforms designed to store, manage, distribute, and share Docker images. They play a critical role in the Docker ecosystem by providing a centralized location for developers and organizations to upload, access, and collaborate on container images. Here's a detailed explanation of Docker Hub and container registries:\n",
    "\n",
    "**Docker Hub:**\n",
    "\n",
    "Docker Hub is the default and most widely used cloud-based container registry. It serves as a public repository for Docker images, allowing users to find, share, and collaborate on images across the Docker community. Some key aspects of Docker Hub include:\n",
    "\n",
    "1. **Image Hosting:** Docker Hub hosts a vast collection of Docker images, including official images provided and maintained by Docker, as well as images contributed by the community.\n",
    "\n",
    "2. **Public and Private Repositories:** Docker Hub supports both public and private repositories. Public repositories are accessible to anyone, while private repositories require authentication to access. Private repositories are useful for storing proprietary or sensitive images.\n",
    "\n",
    "3. **Collaboration:** Docker Hub enables collaboration by allowing users to publish and share their Docker images. Developers and organizations can contribute images to the community, making them available for others to use.\n",
    "\n",
    "4. **Official Images:** Docker Hub hosts a collection of official images, which are maintained and provided by Docker. These images serve as trusted base images for various technologies and frameworks.\n",
    "\n",
    "5. **Versioning:** Images hosted on Docker Hub can be versioned using tags. This allows users to access specific versions of an image and helps in maintaining consistency across deployments.\n",
    "\n",
    "6. **Automated Builds:** Docker Hub provides the option to set up automated builds for GitHub, Bitbucket, and other version control repositories. This allows images to be automatically built and updated whenever code changes are pushed.\n",
    "\n",
    "7. **Integration:** Docker Hub integrates with various tools and platforms, including Docker Desktop, Docker Cloud (now integrated into Docker Hub), continuous integration/continuous deployment (CI/CD) pipelines, and orchestration tools like Kubernetes.\n",
    "\n",
    "**Container Registries:**\n",
    "\n",
    "In addition to Docker Hub, there are other container registry solutions that organizations can set up for their internal use. These private registries provide a controlled environment for storing and managing images within an organization. Some examples include:\n",
    "\n",
    "1. **Private Registries:** Organizations can set up private container registries to store their own Docker images. This is particularly important for proprietary applications or when stricter control over image distribution and access is required.\n",
    "\n",
    "2. **Security and Compliance:** Private registries allow organizations to ensure compliance with security policies and industry regulations by managing images within their own infrastructure.\n",
    "\n",
    "3. **Network Efficiency:** Hosting images internally can be more efficient in terms of network usage, especially when dealing with large images or in scenarios with limited internet connectivity.\n",
    "\n",
    "4. **Customization:** Private registries can be customized to suit the organization's requirements, including authentication, access control, and integration with existing systems.\n",
    "\n",
    "Popular private container registry solutions include:\n",
    "\n",
    "- **[Amazon Elastic Container Registry (ECR)](https://aws.amazon.com/es/ecr/):** A fully managed Docker container registry provided by Amazon Web Services (AWS).\n",
    "- **[Artifact Registry](https://cloud.google.com/artifact-registry?hl=es-419):** Google Cloud's managed container registry service.\n",
    "- **[Azure Container Registry](https://azure.microsoft.com/en-us/products/container-registry):** Microsoft Azure's container registry service.\n",
    "- **[Harbor](https://goharbor.io/):** An open-source container registry that can be deployed in your own infrastructure.\n",
    "___\n",
    "**Summary:** Docker Hub and container registries provide platforms for storing, sharing, and distributing Docker images. Docker Hub serves as a public registry for the Docker community, while organizations can set up private registries to manage their own images securely and efficiently. "
   ]
  },
  {
   "cell_type": "markdown",
   "metadata": {},
   "source": [
    "## 6. Use cases in science for docker\n",
    "___\n",
    "- Docker is widely used for various purposes, including web development, microservices architecture, continuous integration and deployment, testing, and dev/test environments.\n",
    "\n",
    "\n",
    "Docker has found numerous use cases in the field of science due to its ability to create isolated and reproducible environments for running applications. Here are some use cases where Docker is commonly applied in scientific research and experimentation:\n",
    "\n",
    "1. **Reproducible Research:** Docker containers allow scientists to encapsulate the entire computational environment, including software dependencies and configurations. This ensures that research results are reproducible, as others can run the same containerized environment to validate findings.\n",
    "\n",
    "2. **Data Analysis:** Docker can be used to create containerized environments for data analysis tasks, allowing researchers to package their data processing pipelines, libraries, and scripts. This makes it easier to share and collaborate on analysis workflows.\n",
    "\n",
    "3. **Machine Learning and AI:** Docker is frequently used in machine learning and artificial intelligence research. Researchers can package their models, libraries, and dependencies in containers to ensure consistent results across different environments.\n",
    "\n",
    "4. **Bioinformatics:** Docker is used in bioinformatics to package complex analysis pipelines and tools for processing biological data. This allows researchers to share and reproduce analyses in a controlled environment.\n",
    "\n",
    "5. **High-Performance Computing:** Docker containers can be employed on high-performance computing clusters to create consistent environments for scientific simulations and calculations. Containers are lightweight and can be easily scaled across cluster nodes.\n",
    "\n",
    "6. **Scientific Simulation:** Docker containers are used to create isolated environments for running simulations, whether in physics, chemistry, engineering, or other scientific disciplines. The isolated environment ensures consistency in simulation outcomes.\n",
    "\n",
    "7. **Collaboration:** Docker simplifies collaboration among researchers by ensuring that everyone uses the same environment. Containers eliminate compatibility issues and the need to set up environments from scratch.\n",
    "\n",
    "8. **Virtual Laboratories:** Researchers can use Docker to create virtual laboratories for students and colleagues, where they can access pre-configured environments for experimentation and learning.\n",
    "\n",
    "9. **Cloud Computing and DevOps:** Docker containers are well-suited for deploying scientific applications to the cloud. Containers can be easily moved between on-premises and cloud environments, making cloud-based research more efficient.\n",
    "\n",
    "10. **Field Studies:** Docker containers can be used to set up consistent and controlled environments for field studies and remote experiments, ensuring that data collection and analysis are standardized.\n",
    "\n",
    "11. **Custom Software:** Researchers can package custom software tools, algorithms, and applications into Docker containers, making it easier to distribute and use their tools by others in the community.\n",
    "\n",
    "12. **Legacy Software Preservation:** Docker can be used to encapsulate and maintain older software that might be necessary for replicating historical experiments or analyzing old datasets.\n",
    "\n",
    "In summary, Docker's ability to provide consistent and isolated environments makes it a valuable tool in scientific research. It enhances reproducibility, facilitates collaboration, and simplifies the deployment of scientific applications across various environments.\n"
   ]
  },
  {
   "cell_type": "markdown",
   "metadata": {},
   "source": [
    "## Verify Docker Installation:\n",
    "\n",
    "- Open a terminal or command prompt.\n",
    "- Type ***docker --version*** to check if Docker is installed properly.\n",
    "- Type ***docker info*** to get detailed information about your Docker installation."
   ]
  },
  {
   "cell_type": "code",
   "execution_count": null,
   "metadata": {},
   "outputs": [],
   "source": [
    "!docker --version"
   ]
  },
  {
   "cell_type": "markdown",
   "metadata": {},
   "source": [
    "## 3. Run Your First Docker Container:\n",
    "\n",
    "\n",
    "\n",
    "### Basic:\n",
    "- Open a terminal or command prompt.\n",
    "- Type ***docker run hello-world***.\n",
    "- Docker will download the \"hello-world\" image from the Docker Hub and run it in a container.\n",
    "- If everything is set up correctly, you should see a message confirming that Docker is working."
   ]
  },
  {
   "cell_type": "code",
   "execution_count": 23,
   "metadata": {},
   "outputs": [
    {
     "name": "stdout",
     "output_type": "stream",
     "text": [
      "\r\n",
      "Hello from Docker!\r\n",
      "This message shows that your installation appears to be working correctly.\r\n",
      "\r\n",
      "To generate this message, Docker took the following steps:\r\n",
      " 1. The Docker client contacted the Docker daemon.\r\n",
      " 2. The Docker daemon pulled the \"hello-world\" image from the Docker Hub.\r\n",
      "    (amd64)\r\n",
      " 3. The Docker daemon created a new container from that image which runs the\r\n",
      "    executable that produces the output you are currently reading.\r\n",
      " 4. The Docker daemon streamed that output to the Docker client, which sent it\r\n",
      "    to your terminal.\r\n",
      "\r\n",
      "To try something more ambitious, you can run an Ubuntu container with:\r\n",
      " $ docker run -it ubuntu bash\r\n",
      "\r\n",
      "Share images, automate workflows, and more with a free Docker ID:\r\n",
      " https://hub.docker.com/\r\n",
      "\r\n",
      "For more examples and ideas, visit:\r\n",
      " https://docs.docker.com/get-started/\r\n",
      "\r\n"
     ]
    }
   ],
   "source": [
    "!docker run hello-world"
   ]
  },
  {
   "cell_type": "markdown",
   "metadata": {},
   "source": [
    "### Medium: Pull the Nginx Image\n",
    "\n",
    "**Step 1:** Pull the Nginx Image\n",
    "\n",
    "- Type the following command to download the Nginx image from Docker Hub:"
   ]
  },
  {
   "cell_type": "code",
   "execution_count": 24,
   "metadata": {},
   "outputs": [
    {
     "name": "stdout",
     "output_type": "stream",
     "text": [
      "Using default tag: latest\n",
      "Error response from daemon: Get \"https://registry-1.docker.io/v2/\": dialing registry-1.docker.io:443 with direct connection: resolving host registry-1.docker.io: lookup registry-1.docker.io: no such host\n"
     ]
    }
   ],
   "source": [
    "!docker pull nginx"
   ]
  },
  {
   "cell_type": "markdown",
   "metadata": {},
   "source": [
    "**Step 2:** Create a Directory and HTML File\n",
    "\n",
    "- Create a directory on your system where you'll place your custom index.html file. For this example, let's call it \"my_website\":"
   ]
  },
  {
   "cell_type": "code",
   "execution_count": 25,
   "metadata": {},
   "outputs": [
    {
     "name": "stdout",
     "output_type": "stream",
     "text": [
      "1. Fundamentals.ipynb  index.html\r\n",
      "\u001b[1m\u001b[36mimages\u001b[m\u001b[m/                \u001b[1m\u001b[36mmy_website\u001b[m\u001b[m/\r\n"
     ]
    }
   ],
   "source": [
    "ls"
   ]
  },
  {
   "cell_type": "code",
   "execution_count": null,
   "metadata": {},
   "outputs": [],
   "source": [
    "#!mkdir my_website"
   ]
  },
  {
   "cell_type": "markdown",
   "metadata": {},
   "source": [
    "- Inside the \"my_website\" directory, create an index.html file and add some content to it. For example:\n",
    "\n",
    "        <html>\n",
    "        <head>\n",
    "            <title>Welcome to My Website</title>\n",
    "        </head>\n",
    "        <body>\n",
    "            <h1>Hello, Docker!</h1>\n",
    "            <p>This is my first Docker container.</p>\n",
    "        </body>\n",
    "        </html>\n"
   ]
  },
  {
   "cell_type": "code",
   "execution_count": null,
   "metadata": {},
   "outputs": [],
   "source": [
    "!cat index.html"
   ]
  },
  {
   "cell_type": "markdown",
   "metadata": {},
   "source": [
    "**Step 3:** Run the Nginx Container\n",
    "\n",
    "- Run the following command to start an Nginx container:"
   ]
  },
  {
   "cell_type": "code",
   "execution_count": 26,
   "metadata": {},
   "outputs": [
    {
     "name": "stdout",
     "output_type": "stream",
     "text": [
      "46d34b2dfaec887e998dc3a7a7f16b3fa9154410858d2a621fcb794ab0f1c8ab\r\n"
     ]
    }
   ],
   "source": [
    "!docker run -d -p 80:80 -v $(pwd):/usr/share/nginx/html --name my_nginx_container nginx"
   ]
  },
  {
   "cell_type": "markdown",
   "metadata": {},
   "source": [
    "Let's break down this command:\n",
    "- ***docker run***: This is the command to create and start a container from an image.\n",
    "- ***-d***: This flag runs the container in detached mode, meaning it runs in the background.\n",
    "- ***-p 80:80***: This flag maps port 80 of the host to port 80 inside the container, allowing you to access the Nginx web server on port 80 of your localhost.\n",
    "- ***-v $(pwd):/usr/share/nginx/html***: This flag mounts the current directory (my_website) on your host machine to the ***/usr/share/nginx/html*** directory inside the container. This way, your custom ***index.html*** file will be served by Nginx.\n",
    "- ***--name my_nginx_container***: This flag gives the container a custom name, in this case, \"my_nginx_container\".\n",
    "- ***nginx***: This is the name of the image you want to use to create the container."
   ]
  },
  {
   "cell_type": "markdown",
   "metadata": {},
   "source": [
    "- **Step 5**: Access the Web Server\n",
    "\n",
    "Now that your container is running, you can access the web server by opening a web browser and entering http://localhost or http://127.0.0.1.\n",
    "You should see the content of your custom index.html file displayed in the browser.\n"
   ]
  },
  {
   "cell_type": "markdown",
   "metadata": {},
   "source": [
    "- **Step 6**: Stop and Remove the Container (Optional)\n",
    "\n",
    "To stop the running container, use the following command:"
   ]
  },
  {
   "cell_type": "code",
   "execution_count": 27,
   "metadata": {},
   "outputs": [
    {
     "name": "stdout",
     "output_type": "stream",
     "text": [
      "my_nginx_container\r\n"
     ]
    }
   ],
   "source": [
    "!docker stop my_nginx_container"
   ]
  },
  {
   "cell_type": "markdown",
   "metadata": {},
   "source": [
    "To remove the container, use the following command:\n"
   ]
  },
  {
   "cell_type": "code",
   "execution_count": null,
   "metadata": {},
   "outputs": [],
   "source": [
    "!docker rm my_nginx_container"
   ]
  },
  {
   "cell_type": "markdown",
   "metadata": {},
   "source": [
    "***Note***: If you don't plan to use the container anymore, you can remove it to free up resources. However, keep in mind that removing a container also removes its data, so if you want to keep the data, you should consider using volumes to persist it.\n"
   ]
  },
  {
   "cell_type": "markdown",
   "metadata": {},
   "source": [
    "That's it! You have successfully run your first Docker container. \n",
    "\n",
    "\n",
    "**BORRAR**: You can now explore more Docker features, such as creating custom images using Dockerfiles, using Docker Compose to manage multi-container applications, and much more. Happy containerizing!"
   ]
  },
  {
   "cell_type": "markdown",
   "metadata": {},
   "source": [
    "### 4. Explore Docker Images:\n",
    "\n",
    "Exploring Docker images is an essential part of working with Docker. Docker images are the building blocks of containers and contain all the necessary dependencies and configurations to run your application. Docker images are templates for containers. You can use existing images or create your own. Here's a detailed process to explore Docker images."
   ]
  },
  {
   "cell_type": "markdown",
   "metadata": {},
   "source": [
    "- List Available Docker Images:\n",
    "\n",
    "To see a list of Docker images available on your system, open a terminal or command prompt and type:"
   ]
  },
  {
   "cell_type": "code",
   "execution_count": null,
   "metadata": {},
   "outputs": [],
   "source": [
    "!docker images"
   ]
  },
  {
   "cell_type": "markdown",
   "metadata": {},
   "source": [
    "This command will display a list of all the Docker images you have downloaded and saved locally on your machine."
   ]
  },
  {
   "cell_type": "markdown",
   "metadata": {},
   "source": [
    "- Pull Docker Images from Docker Hub:\n",
    "\n",
    "If you want to explore new Docker images, you can pull them from the official Docker Hub repository or other public or private registries. To pull an image from Docker Hub, use the ***docker pull*** command followed by the image name and optionally the tag (version). For example:"
   ]
  },
  {
   "cell_type": "code",
   "execution_count": null,
   "metadata": {},
   "outputs": [],
   "source": [
    "!docker pull nginx"
   ]
  },
  {
   "cell_type": "markdown",
   "metadata": {},
   "source": [
    "This command will download the latest version of the Nginx image from Docker Hub."
   ]
  },
  {
   "cell_type": "markdown",
   "metadata": {},
   "source": [
    "- Inspect Docker Images:\n",
    "\n",
    "To get more detailed information about a specific Docker image, you can use the **docker inspect** command followed by the image name or image ID. For example:\n"
   ]
  },
  {
   "cell_type": "code",
   "execution_count": null,
   "metadata": {},
   "outputs": [],
   "source": [
    "!docker inspect nginx"
   ]
  },
  {
   "cell_type": "markdown",
   "metadata": {},
   "source": [
    "This command will provide a JSON-formatted output with various details about the image, such as its configuration, layers, environment variables, and more."
   ]
  },
  {
   "cell_type": "markdown",
   "metadata": {},
   "source": [
    "- Tag Docker Images:\n",
    "\n",
    "You can give a Docker image a custom tag to make it easier to manage or identify later. To tag an image, use the docker tag command followed by the source image and the new tag. For example:"
   ]
  },
  {
   "cell_type": "code",
   "execution_count": null,
   "metadata": {},
   "outputs": [],
   "source": [
    "!docker tag nginx my_custom_nginx:latest"
   ]
  },
  {
   "cell_type": "code",
   "execution_count": null,
   "metadata": {},
   "outputs": [],
   "source": [
    "!docker images"
   ]
  },
  {
   "cell_type": "markdown",
   "metadata": {},
   "source": [
    "This will create a new image with the tag my_custom_nginx:latest based on the original nginx image."
   ]
  },
  {
   "cell_type": "markdown",
   "metadata": {},
   "source": [
    "- Remove Docker Images:\n",
    "\n",
    "If you have images that you no longer need, you can remove them to free up disk space. To remove a Docker image, use the docker rmi command followed by the image name or image ID. For example:"
   ]
  },
  {
   "cell_type": "code",
   "execution_count": null,
   "metadata": {},
   "outputs": [],
   "source": [
    "!docker rmi nginx"
   ]
  },
  {
   "cell_type": "markdown",
   "metadata": {},
   "source": [
    "**Note** that you cannot remove an image if it is being used by a running container. You need to stop and remove all containers that are based on the image before you can remove it.\n"
   ]
  },
  {
   "cell_type": "markdown",
   "metadata": {},
   "source": [
    "- Docker Image History:\n",
    "\n",
    "You can view the history of a Docker image to see how it was built and what layers it consists of. To view the image history, use the docker history command followed by the image name or image ID. For example:\n"
   ]
  },
  {
   "cell_type": "code",
   "execution_count": null,
   "metadata": {},
   "outputs": [],
   "source": [
    "!docker history hfarias"
   ]
  },
  {
   "cell_type": "markdown",
   "metadata": {},
   "source": [
    "This command will display a list of layers and commands used to build the < tag> image.\n"
   ]
  },
  {
   "cell_type": "markdown",
   "metadata": {},
   "source": [
    "**Summary**: Exploring Docker images is crucial for understanding their contents and managing your development and production environments effectively. With this knowledge, you can pull, inspect, tag, and remove Docker images to suit your specific needs."
   ]
  },
  {
   "cell_type": "markdown",
   "metadata": {},
   "source": [
    "## 5. Manage Containers:\n",
    "\n",
    "Managing Docker containers involves tasks such as starting, stopping, inspecting, and removing containers. Here's a detailed process for managing Docker containers:"
   ]
  },
  {
   "cell_type": "markdown",
   "metadata": {},
   "source": [
    "- **5.1 List Running Containers:**\n",
    "\n",
    "To see a list of all the running containers on your system, open a terminal or command prompt and use the following command:"
   ]
  },
  {
   "cell_type": "code",
   "execution_count": null,
   "metadata": {},
   "outputs": [],
   "source": [
    "!docker ps"
   ]
  },
  {
   "cell_type": "markdown",
   "metadata": {},
   "source": [
    "This command will display a list of running containers along with their details, such as Container ID, Image, Command, Status, Ports, and Names.\n"
   ]
  },
  {
   "cell_type": "markdown",
   "metadata": {},
   "source": [
    "- **5.2 List All Containers (Running and Stopped):**\n",
    "\n",
    "To see a list of all containers, including both running and stopped ones, use the following command:"
   ]
  },
  {
   "cell_type": "code",
   "execution_count": null,
   "metadata": {},
   "outputs": [],
   "source": [
    "!docker ps -a"
   ]
  },
  {
   "cell_type": "markdown",
   "metadata": {},
   "source": [
    "This will show all containers along with their details."
   ]
  },
  {
   "cell_type": "markdown",
   "metadata": {},
   "source": [
    "- **5.3 Start a Stopped Container:**\n",
    "\n",
    "To start a stopped container, you need to know its Container ID or Name. Use the following command to start the container:"
   ]
  },
  {
   "cell_type": "code",
   "execution_count": null,
   "metadata": {},
   "outputs": [],
   "source": [
    "!docker start <container_id_or_name>"
   ]
  },
  {
   "cell_type": "markdown",
   "metadata": {},
   "source": [
    "- **5.4 Stop a Running Container:**\n",
    "\n",
    "To stop a running container, you also need its Container ID or Name. Use the following command to stop the container gracefully:"
   ]
  },
  {
   "cell_type": "code",
   "execution_count": null,
   "metadata": {},
   "outputs": [],
   "source": [
    "!docker stop <container_id_or_name>"
   ]
  },
  {
   "cell_type": "markdown",
   "metadata": {},
   "source": [
    "If you want to forcefully stop a container, you can use the ***docker kill*** command instead."
   ]
  },
  {
   "cell_type": "markdown",
   "metadata": {},
   "source": [
    "- **5.5 Inspect Container Details:**\n",
    "\n",
    "To get more detailed information about a specific container, use the docker inspect command followed by the Container ID or Name. For example:"
   ]
  },
  {
   "cell_type": "code",
   "execution_count": null,
   "metadata": {},
   "outputs": [],
   "source": [
    "!docker inspect my_container"
   ]
  },
  {
   "cell_type": "markdown",
   "metadata": {},
   "source": [
    "- **5.6 Inspect Container Details:**\n",
    "\n",
    "To get more detailed information about a specific container, use the docker inspect command followed by the Container ID or Name. For example:"
   ]
  },
  {
   "cell_type": "code",
   "execution_count": null,
   "metadata": {},
   "outputs": [],
   "source": [
    "!docker inspect my_container"
   ]
  },
  {
   "cell_type": "markdown",
   "metadata": {},
   "source": [
    "This will provide a JSON-formatted output with various details about the container, such as its configuration, network settings, environment variables, and more."
   ]
  },
  {
   "cell_type": "markdown",
   "metadata": {},
   "source": [
    "- **5.7 Remove a Container:**\n",
    "\n",
    "To remove a container, it must be stopped. If it's still running, you'll need to stop it first using the docker stop command (as mentioned in step 5.4).\n",
    "Once the container is stopped, use the following command to remove it:"
   ]
  },
  {
   "cell_type": "code",
   "execution_count": null,
   "metadata": {},
   "outputs": [],
   "source": [
    "!docker rm <container_id_or_name>"
   ]
  },
  {
   "cell_type": "markdown",
   "metadata": {},
   "source": [
    "**Note:** The container will be ***permanently deleted***, and its resources will be freed up."
   ]
  },
  {
   "cell_type": "markdown",
   "metadata": {},
   "source": [
    "- **5.8 Remove All Stopped Containers:**\n",
    "\n",
    "If you want to remove all stopped containers at once, you can use the following command:"
   ]
  },
  {
   "cell_type": "code",
   "execution_count": null,
   "metadata": {},
   "outputs": [],
   "source": [
    "!docker container prune"
   ]
  },
  {
   "cell_type": "markdown",
   "metadata": {},
   "source": [
    "**Note: This will remove all stopped containers**, freeing up disk space."
   ]
  },
  {
   "cell_type": "markdown",
   "metadata": {},
   "source": [
    "- **5.9 Manage Container Logs:**\n",
    "\n",
    "To view the logs of a specific container, use the following command:"
   ]
  },
  {
   "cell_type": "code",
   "execution_count": null,
   "metadata": {},
   "outputs": [],
   "source": [
    "!docker logs <container_id_or_name>"
   ]
  },
  {
   "cell_type": "markdown",
   "metadata": {},
   "source": [
    "**Summary**: These are some of the basic container management commands. Docker provides many more options and functionalities for managing containers, including pausing, renaming, and attaching to containers, among others. To explore more advanced container management features, you can refer to the official Docker documentation (https://docs.docker.com/)."
   ]
  },
  {
   "cell_type": "code",
   "execution_count": null,
   "metadata": {},
   "outputs": [],
   "source": []
  }
 ],
 "metadata": {
  "kernelspec": {
   "display_name": "Python 3 (ipykernel)",
   "language": "python",
   "name": "python3"
  },
  "language_info": {
   "codemirror_mode": {
    "name": "ipython",
    "version": 3
   },
   "file_extension": ".py",
   "mimetype": "text/x-python",
   "name": "python",
   "nbconvert_exporter": "python",
   "pygments_lexer": "ipython3",
   "version": "3.9.12"
  }
 },
 "nbformat": 4,
 "nbformat_minor": 4
}
