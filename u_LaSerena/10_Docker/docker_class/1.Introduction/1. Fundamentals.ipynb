{
 "cells": [
  {
   "cell_type": "code",
   "execution_count": null,
   "metadata": {},
   "outputs": [],
   "source": [
    "#<img src=\"http://lssds.aura-astronomy.org/winter_school/sites/default/files/sods_atfdds_header01.jpg\" alt=\"La Serena School for Data Science: Applied Tools for Data-driven Sciences\" />\n"
   ]
  },
  {
   "cell_type": "markdown",
   "metadata": {},
   "source": [
    "![source: https://bernhardwenzel.com/2022/the-mental-model-of-docker-container-shipping/](images/hfa.png)\n"
   ]
  },
  {
   "cell_type": "markdown",
   "metadata": {},
   "source": [
    "# 1. Introduction to Docker:\n",
    "\n",
    "Docker is a powerful platform and tool that allows you to develop, ship, and run applications inside isolated, lightweight containers. Containers are a form of virtualization that packages applications and their dependencies together, ensuring consistency across different environments. This theoretical introduction will help you understand the fundamental concepts of Docker."
   ]
  },
  {
   "cell_type": "markdown",
   "metadata": {},
   "source": [
    "<img src=\"https://www.docker.com/wp-content/uploads/2022/03/horizontal-logo-monochromatic-white.png\" alt=\"La Serena School for Data Science: Applied Tools for Data-driven Sciences\" />"
   ]
  },
  {
   "cell_type": "markdown",
   "metadata": {},
   "source": [
    "## 1.1 The Mental Model Of Docker Container Shipping\n",
    "___\n",
    "\n",
    "The analogy of \"The Mental Model of Docker Container Shipping\" is a way to explain the concept of Docker containers using a real-world comparison to shipping containers. Just as standardized shipping containers revolutionized the transportation of goods across the globe, Docker containers revolutionize the way applications are packaged, shipped, and deployed across different computing environments."
   ]
  },
  {
   "cell_type": "markdown",
   "metadata": {},
   "source": [
    "![source: https://bernhardwenzel.com/2022/the-mental-model-of-docker-container-shipping/](images/container-shipping-docker.jpeg)\n",
    "\n",
    "\n",
    "\n",
    "Here's how the analogy works:\n",
    "\n",
    "1. **Standardization:** Just like shipping containers come in standardized sizes that fit on various types of ships, trucks, and trains, Docker containers use a standardized format that can run on any system that supports Docker. This ensures consistency and portability across different environments.\n",
    "\n",
    "2. **Isolation:** Shipping containers isolate goods from external factors like weather, pests, and theft. Similarly, Docker containers isolate applications and their dependencies from the host system and other containers, preventing conflicts and ensuring consistent behavior.\n",
    "\n",
    "3. **Packaging:** Shipping containers allow various types of goods to be packaged and shipped together. Docker containers package an application along with its runtime, libraries, and dependencies, creating a self-sufficient unit that can be shipped as a single entity.\n",
    "\n",
    "4. **Ease of Handling:** Shipping containers are designed for easy loading, unloading, and transportation. Docker containers are easy to create, move, and deploy across different environments, making the development and deployment process more streamlined.\n",
    "\n",
    "5. **Efficiency:** Shipping containers optimize space, allowing goods to be stacked and transported efficiently. Docker containers share the host system's operating system kernel, which optimizes resource utilization and enables multiple containers to run on the same host.\n",
    "\n",
    "6. **Modularity:** Shipping containers allow goods to be compartmentalized and loaded independently. Docker containers promote a modular approach to application development, where each component or service can be encapsulated in its own container.\n",
    "\n",
    "7. **Interchangeability:** Shipping containers can be easily transferred between different modes of transportation (ships, trucks, trains). Docker containers can be moved between different environments (development, testing, production) and even between cloud providers with minimal changes.\n",
    "\n",
    "8. **Consistency:** Shipping containers ensure that goods are protected and handled consistently throughout their journey. Docker containers ensure that applications run consistently across different stages of the development lifecycle.\n",
    "\n",
    "9. **Easy Deployment:** Shipping containers can be loaded onto various vehicles without needing to repack the goods. Docker containers can be deployed onto different systems without needing to modify the application, ensuring consistent behavior.\n",
    "\n",
    "10. **Flexibility:** Just as shipping containers can hold a wide variety of goods, Docker containers can package applications of different types and technologies. This makes them suitable for a diverse range of applications.\n",
    "\n",
    "The analogy helps individuals understand the fundamental concepts of Docker containers by comparing them to a familiar and tangible concept—shipping containers. It simplifies the complexities of containerization, isolation, and portability, making it easier for people to grasp the benefits and use cases of Docker containers in modern software development and deployment.\n",
    "\n",
    "ref:https://bernhardwenzel.com/2022/the-mental-model-of-docker-container-shipping/"
   ]
  },
  {
   "cell_type": "markdown",
   "metadata": {},
   "source": [
    "## 1.2 What is the motivation to use docker?\n",
    "___"
   ]
  },
  {
   "cell_type": "markdown",
   "metadata": {},
   "source": [
    "The motivation to use Docker stems from several key benefits and challenges faced in software development and deployment. Docker addresses these challenges and provides a more efficient, consistent, and streamlined way to manage applications and their dependencies. Here are some of the main motivations to use Docker:\n",
    "\n",
    "1. **Consistency Across Environments:**\n",
    "   Docker ensures that applications run consistently across different environments, such as development, testing, and production. This eliminates the \"it works on my machine\" problem and minimizes discrepancies between development and deployment environments.\n",
    "\n",
    "2. **Isolation and Dependency Management:**\n",
    "   Containers isolate applications and their dependencies from the host system and from each other. This prevents conflicts between different applications and enables efficient management of dependencies without interfering with other parts of the system.\n",
    "\n",
    "3. **Portability:**\n",
    "   Docker containers can run on any system that supports Docker, regardless of the underlying infrastructure. This portability makes it easier to move applications between development, testing, and production environments, as well as between on-premises and cloud environments.\n",
    "\n",
    "4. **Efficiency and Resource Utilization:**\n",
    "   Containers share the host system's operating system kernel, making them lightweight and fast to start and stop. This efficient resource utilization allows more containers to run on the same host compared to traditional virtual machines.\n",
    "\n",
    "5. **Rapid Deployment:**\n",
    "   Docker enables rapid deployment of applications as containers can be created, started, and stopped quickly. This is particularly valuable for continuous integration and continuous deployment (CI/CD) pipelines.\n",
    "\n",
    "6. **Scalability:**\n",
    "   Docker's container-based architecture allows applications to be easily scaled horizontally by running multiple containers of the same image. This scalability is essential for handling increased workloads.\n",
    "\n",
    "7. **Version Control and Reproducibility:**\n",
    "   Docker images can be versioned, allowing developers to maintain consistent configurations and easily roll back to previous versions if needed. This ensures that different stages of development and deployment use the same image.\n",
    "\n",
    "8. **Simplified DevOps:**\n",
    "   Docker simplifies the collaboration between development and operations teams. It streamlines the process of packaging, distributing, and deploying applications, reducing conflicts and friction between teams.\n",
    "\n",
    "9. **Microservices Architecture:**\n",
    "   Docker is commonly used in microservices architecture, where applications are broken down into smaller, loosely coupled services. Each service runs in its own container, enabling independent development, deployment, and scaling of different components.\n",
    "\n",
    "10. **Ecosystem and Community:**\n",
    "    Docker has a thriving ecosystem with a wide range of pre-built images available on Docker Hub. The Docker community shares best practices, tutorials, and tools that make it easier to adopt containerization.\n",
    "\n",
    "**Summary:** Docker's motivation lies in its ability to simplify the software development and deployment process by providing a standardized way to package, distribute, and run applications, while addressing challenges related to consistency, dependency management, portability, efficiency, and scalability."
   ]
  },
  {
   "cell_type": "markdown",
   "metadata": {},
   "source": [
    "## 2. Containerization and Isolation:\n",
    "---\n",
    "\n",
    "Containerization and isolation are fundamental concepts in Docker that play a crucial role in how applications are deployed, managed, and run. Let's explore these concepts in detail:\n",
    "\n",
    "- **Containerization:** Is the process of packaging an application and its dependencies into a single unit called a container. Containers provide a consistent and isolated environment for running applications, ensuring that they behave the same way across different environments, from development to production.\n",
    "\n",
    "- **Isolation:** Isolation in Docker refers to the separation of resources, processes, and environments between containers and between containers and the host system. Isolation ensures that containers do not interfere with each other, and they operate as if they are running in their own independent environments."
   ]
  },
  {
   "cell_type": "markdown",
   "metadata": {},
   "source": [
    "![https://www.netscaler.com/articles/what-is-containerization](images/what-is-containerization.png)"
   ]
  },
  {
   "cell_type": "markdown",
   "metadata": {},
   "source": [
    "## 3. Docker Image:\n",
    "___\n",
    "\n",
    "- A Docker image is a lightweight, stand-alone, executable package that includes everything needed to run a piece of software, including the code, runtime, system tools, libraries, and settings.\n",
    "- Docker images serve as templates for creating containers. They are built from a set of instructions defined in a special file called a Dockerfile."
   ]
  },
  {
   "cell_type": "markdown",
   "metadata": {},
   "source": [
    "![https://www.netscaler.com/articles/what-is-containerization](images/docker_image.webp)"
   ]
  },
  {
   "cell_type": "markdown",
   "metadata": {},
   "source": [
    "Here are the key components and details that define what a Docker image is:\n",
    "\n",
    "1. **Layers:** Docker images are composed of multiple layers. Each layer represents a set of filesystem changes. Layers are stacked on top of each other, with each layer representing a change or modification to the filesystem. This layered approach allows for efficient use of disk space and faster image sharing.\n",
    "\n",
    "2. **Base Image:** Images are typically based on a base image, which is the starting point for building your custom image. The base image can be an official image provided by Docker or a customized image created by you or others in the community.\n",
    "\n",
    "3. **Dockerfile:** Images are defined by a Dockerfile, which is a plain text configuration file that specifies the instructions for building the image. The Dockerfile includes details such as the base image, additional software installations, environment variables, working directory, and more.\n",
    "\n",
    "4. **Immutable:** Docker images are immutable, meaning once they are created, their contents cannot be changed. If modifications are required, a new image must be created based on the existing one.\n",
    "\n",
    "5. **Versioning:** Images can be versioned using tags. Tags are labels that indicate a specific version of the image. For example, an image might have tags like \"latest,\" \"v1.0,\" or \"dev.\"\n",
    "\n",
    "6. **Reproducibility:** Docker images provide a way to ensure that the same environment is used across different stages of the software development lifecycle, from development and testing to production. This reproducibility reduces inconsistencies and deployment issues.\n",
    "\n",
    "7. **Docker Hub and Registries:** Docker images can be shared and distributed through Docker Hub, a cloud-based registry where you can find and share public images. Private registries can also be set up for organizations that need to manage their own image distribution.\n",
    "\n",
    "8. **Efficiency:** Images are designed to be lightweight. Docker uses a Union File System to share layers between images, which optimizes storage and reduces duplication of files.\n",
    "\n",
    "9. **Application Isolation:** Docker images provide a way to isolate applications and their dependencies from the host system and from other applications. This isolation ensures that applications run consistently regardless of the host environment.\n",
    "\n",
    "10. **Ease of Deployment:** Docker images make it easy to package applications and their dependencies into a single unit. This unit can be easily deployed and run on any Docker-compatible environment.\n",
    "\n",
    "**Summary:** a Docker image is a snapshot of a filesystem that contains everything necessary to run an application. It serves as a portable, consistent, and isolated unit that enables the deployment and execution of applications across various environments. Images are defined by Dockerfiles and can be versioned, shared, and distributed through container registries."
   ]
  },
  {
   "cell_type": "markdown",
   "metadata": {},
   "source": [
    "## 4. Dockerfile:\n",
    "___\n",
    "\n",
    "A Dockerfile is a plain text configuration file used to define the instructions for building a Docker image. It outlines the steps and commands needed to create a customized, self-contained, and executable software package that can be run as a Docker container. Dockerfiles are a core component of the Docker ecosystem and are crucial for creating consistent, reproducible, and portable environments for applications."
   ]
  },
  {
   "cell_type": "markdown",
   "metadata": {},
   "source": [
    "![https://www.netscaler.com/articles/what-is-containerization](images/dockerfile.png)"
   ]
  },
  {
   "cell_type": "markdown",
   "metadata": {},
   "source": [
    "## 5. Docker Container:\n",
    "___\n",
    "\n",
    "A Docker container is a lightweight, standalone, and executable software package that contains everything needed to run a piece of software, including the application code, runtime, libraries, environment variables, and system tools. Containers are created from Docker images and provide a consistent and isolated environment for running applications. They encapsulate applications and their dependencies, allowing them to run reliably across different environments without causing conflicts or interfering with other applications."
   ]
  },
  {
   "cell_type": "markdown",
   "metadata": {},
   "source": [
    "![Texto alternativo](images/Container_01_KMJ.jpeg)"
   ]
  },
  {
   "cell_type": "markdown",
   "metadata": {},
   "source": [
    "Here are the key components and details that define what a Docker container is:\n",
    "\n",
    "1. **Isolation:** Containers isolate applications and their dependencies from the host system and from other containers. This isolation ensures that changes in one container do not affect others, providing a clean and controlled environment for running applications.\n",
    "\n",
    "2. **Standardization:** Docker containers are standardized units that package applications and their dependencies together. This standardization simplifies deployment, testing, and maintenance processes.\n",
    "\n",
    "3. **Portability:** Containers can run on any system that supports Docker, regardless of the underlying infrastructure. This portability makes it easy to move applications between development, testing, and production environments, as well as between on-premises and cloud environments.\n",
    "\n",
    "4. **Filesystem and Libraries:** Containers have their own isolated filesystem that contains the application code, runtime, libraries, and other necessary files. This isolated filesystem ensures that the container has the required environment to run the application.\n",
    "\n",
    "5. **Resource Efficiency:** Containers share the host system's operating system kernel, which makes them lightweight and resource-efficient. They consume fewer resources compared to traditional virtual machines.\n",
    "\n",
    "6. **Dependency Management:** Containers encapsulate application dependencies, ensuring that they are consistent and isolated from the host system and other containers. This eliminates conflicts between different application requirements.\n",
    "\n",
    "7. **Immutable:** Containers are immutable, meaning that their contents cannot be changed once they are created. If you need to make changes, you create a new container from an updated image.\n",
    "\n",
    "8. **Networking:** Containers can be connected to different networks, enabling communication between containers or with external resources. This networking capability allows for the creation of microservices architectures.\n",
    "\n",
    "9. **Versioning:** Containers can be versioned using image tags. Different versions of an application can be maintained and deployed by using specific image tags.\n",
    "\n",
    "10. **Lifecycle Management:** Containers have a well-defined lifecycle, from creation to execution and termination. Docker provides commands to manage container creation, starting, stopping, pausing, and removing.\n",
    "\n",
    "11. **Security and Isolation:** Containers provide an additional layer of security by isolating applications from each other and from the host system. This helps prevent vulnerabilities in one application from affecting others.\n",
    "\n",
    "12. **Application Deployment and Scaling:** Containers simplify application deployment and scaling. They can be easily orchestrated and managed using tools like Docker Compose, Kubernetes, and Docker Swarm.\n",
    "\n",
    "**Summary:** a Docker container is a self-contained unit that packages an application and its dependencies, providing a consistent, isolated, and portable environment for running software across different systems and environments. Containers are a key technology for modern application development, enabling efficient deployment, scalability, and management."
   ]
  },
  {
   "cell_type": "markdown",
   "metadata": {},
   "source": [
    "## 5. Docker Hub and Registries:\n",
    "___\n",
    "\n",
    "Docker Hub and container registries are platforms designed to store, manage, distribute, and share Docker images. They play a critical role in the Docker ecosystem by providing a centralized location for developers and organizations to upload, access, and collaborate on container images. Here's a explanation of Docker Hub and container registries owrkflow:\n",
    "\n"
   ]
  },
  {
   "cell_type": "markdown",
   "metadata": {},
   "source": [
    "![Texto alternativo](images/dockerhub.png)"
   ]
  },
  {
   "cell_type": "markdown",
   "metadata": {},
   "source": [
    "Docker Hub and container registries are platforms designed to store, manage, distribute, and share Docker images. They play a critical role in the Docker ecosystem by providing a centralized location for developers and organizations to upload, access, and collaborate on container images. Here's a detailed explanation of Docker Hub and container registries:\n",
    "\n",
    "**Docker Hub:**\n",
    "\n",
    "Docker Hub is the default and most widely used cloud-based container registry. It serves as a public repository for Docker images, allowing users to find, share, and collaborate on images across the Docker community. Some key aspects of Docker Hub include:\n",
    "\n",
    "1. **Image Hosting:** Docker Hub hosts a vast collection of Docker images, including official images provided and maintained by Docker, as well as images contributed by the community.\n",
    "\n",
    "2. **Public and Private Repositories:** Docker Hub supports both public and private repositories. Public repositories are accessible to anyone, while private repositories require authentication to access. Private repositories are useful for storing proprietary or sensitive images.\n",
    "\n",
    "3. **Collaboration:** Docker Hub enables collaboration by allowing users to publish and share their Docker images. Developers and organizations can contribute images to the community, making them available for others to use.\n",
    "\n",
    "4. **Official Images:** Docker Hub hosts a collection of official images, which are maintained and provided by Docker. These images serve as trusted base images for various technologies and frameworks.\n",
    "\n",
    "5. **Versioning:** Images hosted on Docker Hub can be versioned using tags. This allows users to access specific versions of an image and helps in maintaining consistency across deployments.\n",
    "\n",
    "6. **Automated Builds:** Docker Hub provides the option to set up automated builds for GitHub, Bitbucket, and other version control repositories. This allows images to be automatically built and updated whenever code changes are pushed.\n",
    "\n",
    "7. **Integration:** Docker Hub integrates with various tools and platforms, including Docker Desktop, Docker Cloud (now integrated into Docker Hub), continuous integration/continuous deployment (CI/CD) pipelines, and orchestration tools like Kubernetes.\n",
    "\n",
    "**Container Registries:**\n",
    "\n",
    "In addition to Docker Hub, there are other container registry solutions that organizations can set up for their internal use. These private registries provide a controlled environment for storing and managing images within an organization. Some examples include:\n",
    "\n",
    "1. **Private Registries:** Organizations can set up private container registries to store their own Docker images. This is particularly important for proprietary applications or when stricter control over image distribution and access is required.\n",
    "\n",
    "2. **Security and Compliance:** Private registries allow organizations to ensure compliance with security policies and industry regulations by managing images within their own infrastructure.\n",
    "\n",
    "3. **Network Efficiency:** Hosting images internally can be more efficient in terms of network usage, especially when dealing with large images or in scenarios with limited internet connectivity.\n",
    "\n",
    "4. **Customization:** Private registries can be customized to suit the organization's requirements, including authentication, access control, and integration with existing systems.\n",
    "\n",
    "Popular private container registry solutions include:\n",
    "\n",
    "- **[Amazon Elastic Container Registry (ECR)](https://aws.amazon.com/es/ecr/):** A fully managed Docker container registry provided by Amazon Web Services (AWS).\n",
    "- **[Artifact Registry](https://cloud.google.com/artifact-registry?hl=es-419):** Google Cloud's managed container registry service.\n",
    "- **[Azure Container Registry](https://azure.microsoft.com/en-us/products/container-registry):** Microsoft Azure's container registry service.\n",
    "- **[Harbor](https://goharbor.io/):** An open-source container registry that can be deployed in your own infrastructure.\n",
    "___\n",
    "**Summary:** Docker Hub and container registries provide platforms for storing, sharing, and distributing Docker images. Docker Hub serves as a public registry for the Docker community, while organizations can set up private registries to manage their own images securely and efficiently. "
   ]
  },
  {
   "cell_type": "markdown",
   "metadata": {},
   "source": [
    "## 6. Use cases in science for docker\n",
    "___\n",
    "- Docker is widely used for various purposes, including web development, microservices architecture, continuous integration and deployment, testing, and dev/test environments.\n",
    "\n",
    "\n",
    "Docker has found numerous use cases in the field of science due to its ability to create isolated and reproducible environments for running applications. Here are some use cases where Docker is commonly applied in scientific research and experimentation:\n",
    "\n",
    "1. **Reproducible Research:** Docker containers allow scientists to encapsulate the entire computational environment, including software dependencies and configurations. This ensures that research results are reproducible, as others can run the same containerized environment to validate findings.\n",
    "\n",
    "2. **Data Analysis:** Docker can be used to create containerized environments for data analysis tasks, allowing researchers to package their data processing pipelines, libraries, and scripts. This makes it easier to share and collaborate on analysis workflows.\n",
    "\n",
    "3. **Machine Learning and AI:** Docker is frequently used in machine learning and artificial intelligence research. Researchers can package their models, libraries, and dependencies in containers to ensure consistent results across different environments.\n",
    "\n",
    "4. **Bioinformatics:** Docker is used in bioinformatics to package complex analysis pipelines and tools for processing biological data. This allows researchers to share and reproduce analyses in a controlled environment.\n",
    "\n",
    "5. **High-Performance Computing:** Docker containers can be employed on high-performance computing clusters to create consistent environments for scientific simulations and calculations. Containers are lightweight and can be easily scaled across cluster nodes.\n",
    "\n",
    "6. **Scientific Simulation:** Docker containers are used to create isolated environments for running simulations, whether in physics, chemistry, engineering, or other scientific disciplines. The isolated environment ensures consistency in simulation outcomes.\n",
    "\n",
    "7. **Collaboration:** Docker simplifies collaboration among researchers by ensuring that everyone uses the same environment. Containers eliminate compatibility issues and the need to set up environments from scratch.\n",
    "\n",
    "8. **Virtual Laboratories:** Researchers can use Docker to create virtual laboratories for students and colleagues, where they can access pre-configured environments for experimentation and learning.\n",
    "\n",
    "9. **Cloud Computing and DevOps:** Docker containers are well-suited for deploying scientific applications to the cloud. Containers can be easily moved between on-premises and cloud environments, making cloud-based research more efficient.\n",
    "\n",
    "10. **Field Studies:** Docker containers can be used to set up consistent and controlled environments for field studies and remote experiments, ensuring that data collection and analysis are standardized.\n",
    "\n",
    "11. **Custom Software:** Researchers can package custom software tools, algorithms, and applications into Docker containers, making it easier to distribute and use their tools by others in the community.\n",
    "\n",
    "12. **Legacy Software Preservation:** Docker can be used to encapsulate and maintain older software that might be necessary for replicating historical experiments or analyzing old datasets.\n",
    "\n",
    "In summary, Docker's ability to provide consistent and isolated environments makes it a valuable tool in scientific research. It enhances reproducibility, facilitates collaboration, and simplifies the deployment of scientific applications across various environments.\n"
   ]
  },
  {
   "cell_type": "markdown",
   "metadata": {},
   "source": [
    "## Verify Docker Installation:\n",
    "\n",
    "- Open a terminal or command prompt.\n",
    "- Type ***docker --version*** to check if Docker is installed properly.\n",
    "- Type ***docker info*** to get detailed information about your Docker installation."
   ]
  },
  {
   "cell_type": "code",
   "execution_count": 28,
   "metadata": {},
   "outputs": [
    {
     "name": "stdout",
     "output_type": "stream",
     "text": [
      "Docker version 20.10.24, build 297e128\r\n"
     ]
    }
   ],
   "source": [
    "!docker --version"
   ]
  },
  {
   "cell_type": "markdown",
   "metadata": {},
   "source": [
    "## 3. Run Your First Docker Container:\n",
    "\n",
    "\n",
    "\n",
    "### Basic:\n",
    "- Open a terminal or command prompt.\n",
    "- Type ***docker run hello-world***.\n",
    "- Docker will download the \"hello-world\" image from the Docker Hub and run it in a container.\n",
    "- If everything is set up correctly, you should see a message confirming that Docker is working."
   ]
  },
  {
   "cell_type": "code",
   "execution_count": 29,
   "metadata": {},
   "outputs": [
    {
     "name": "stdout",
     "output_type": "stream",
     "text": [
      "\r\n",
      "Hello from Docker!\r\n",
      "This message shows that your installation appears to be working correctly.\r\n",
      "\r\n",
      "To generate this message, Docker took the following steps:\r\n",
      " 1. The Docker client contacted the Docker daemon.\r\n",
      " 2. The Docker daemon pulled the \"hello-world\" image from the Docker Hub.\r\n",
      "    (amd64)\r\n",
      " 3. The Docker daemon created a new container from that image which runs the\r\n",
      "    executable that produces the output you are currently reading.\r\n",
      " 4. The Docker daemon streamed that output to the Docker client, which sent it\r\n",
      "    to your terminal.\r\n",
      "\r\n",
      "To try something more ambitious, you can run an Ubuntu container with:\r\n",
      " $ docker run -it ubuntu bash\r\n",
      "\r\n",
      "Share images, automate workflows, and more with a free Docker ID:\r\n",
      " https://hub.docker.com/\r\n",
      "\r\n",
      "For more examples and ideas, visit:\r\n",
      " https://docs.docker.com/get-started/\r\n",
      "\r\n"
     ]
    }
   ],
   "source": [
    "!docker run hello-world"
   ]
  },
  {
   "cell_type": "markdown",
   "metadata": {},
   "source": [
    "### Medium: Pull the Nginx Image\n",
    "\n",
    "**Step 1:** Pull the Nginx Image\n",
    "\n",
    "- Type the following command to download the Nginx image from Docker Hub:"
   ]
  },
  {
   "cell_type": "code",
   "execution_count": 30,
   "metadata": {},
   "outputs": [
    {
     "name": "stdout",
     "output_type": "stream",
     "text": [
      "Using default tag: latest\n",
      "Error response from daemon: Get \"https://registry-1.docker.io/v2/\": dialing registry-1.docker.io:443 with direct connection: resolving host registry-1.docker.io: lookup registry-1.docker.io: no such host\n"
     ]
    }
   ],
   "source": [
    "!docker pull nginx"
   ]
  },
  {
   "cell_type": "markdown",
   "metadata": {},
   "source": [
    "**Step 2:** Create a Directory and HTML File\n",
    "\n",
    "- Create a directory on your system where you'll place your custom index.html file. For this example, let's call it \"my_website\":"
   ]
  },
  {
   "cell_type": "code",
   "execution_count": 31,
   "metadata": {},
   "outputs": [
    {
     "name": "stdout",
     "output_type": "stream",
     "text": [
      "1. Fundamentals.ipynb  index.html\r\n",
      "\u001b[1m\u001b[36mimages\u001b[m\u001b[m/                \u001b[1m\u001b[36mmy_website\u001b[m\u001b[m/\r\n"
     ]
    }
   ],
   "source": [
    "ls"
   ]
  },
  {
   "cell_type": "code",
   "execution_count": null,
   "metadata": {},
   "outputs": [],
   "source": [
    "#!mkdir my_website"
   ]
  },
  {
   "cell_type": "markdown",
   "metadata": {},
   "source": [
    "- Inside the \"my_website\" directory, create an index.html file and add some content to it. For example:\n",
    "\n",
    "        <html>\n",
    "        <head>\n",
    "            <title>Welcome to My Website</title>\n",
    "        </head>\n",
    "        <body>\n",
    "            <h1>Hello, Docker!</h1>\n",
    "            <p>This is my first Docker container.</p>\n",
    "        </body>\n",
    "        </html>\n"
   ]
  },
  {
   "cell_type": "code",
   "execution_count": 32,
   "metadata": {},
   "outputs": [
    {
     "name": "stdout",
     "output_type": "stream",
     "text": [
      "<!DOCTYPE html>\r\n",
      "<html>\r\n",
      "<head>\r\n",
      "    <title>Welcome to My Website</title>\r\n",
      "</head>\r\n",
      "<body>\r\n",
      "    <h1>Hello, Docker!</h1>\r\n",
      "    <p>This is my first Docker container.</p>\r\n",
      "</body>\r\n",
      "</html>"
     ]
    }
   ],
   "source": [
    "!cat index.html"
   ]
  },
  {
   "cell_type": "markdown",
   "metadata": {},
   "source": [
    "**Step 3:** Run the Nginx Container\n",
    "\n",
    "- Run the following command to start an Nginx container:"
   ]
  },
  {
   "cell_type": "code",
   "execution_count": 35,
   "metadata": {},
   "outputs": [
    {
     "name": "stdout",
     "output_type": "stream",
     "text": [
      "4dbe99e90a9b32e9b72ce0ecca47da377a5ce931424de3710f4801c01c2e447b\r\n"
     ]
    }
   ],
   "source": [
    "!docker run -d -p 80:80 -v $(pwd):/usr/share/nginx/html --name my_nginx_container nginx"
   ]
  },
  {
   "cell_type": "markdown",
   "metadata": {},
   "source": [
    "Let's break down this command:\n",
    "- ***docker run***: This is the command to create and start a container from an image.\n",
    "- ***-d***: This flag runs the container in detached mode, meaning it runs in the background.\n",
    "- ***-p 80:80***: This flag maps port 80 of the host to port 80 inside the container, allowing you to access the Nginx web server on port 80 of your localhost.\n",
    "- ***-v $(pwd):/usr/share/nginx/html***: This flag mounts the current directory (my_website) on your host machine to the ***/usr/share/nginx/html*** directory inside the container. This way, your custom ***index.html*** file will be served by Nginx.\n",
    "- ***--name my_nginx_container***: This flag gives the container a custom name, in this case, \"my_nginx_container\".\n",
    "- ***nginx***: This is the name of the image you want to use to create the container."
   ]
  },
  {
   "cell_type": "markdown",
   "metadata": {},
   "source": [
    "- **Step 5**: Access the Web Server\n",
    "\n",
    "Now that your container is running, you can access the web server by opening a web browser and entering http://localhost or http://127.0.0.1.\n",
    "You should see the content of your custom index.html file displayed in the browser.\n"
   ]
  },
  {
   "cell_type": "markdown",
   "metadata": {},
   "source": [
    "- **Step 6**: Stop and Remove the Container (Optional)\n",
    "\n",
    "To stop the running container, use the following command:"
   ]
  },
  {
   "cell_type": "code",
   "execution_count": 36,
   "metadata": {},
   "outputs": [
    {
     "name": "stdout",
     "output_type": "stream",
     "text": [
      "my_nginx_container\r\n"
     ]
    }
   ],
   "source": [
    "!docker stop my_nginx_container"
   ]
  },
  {
   "cell_type": "markdown",
   "metadata": {},
   "source": [
    "To remove the container, use the following command:\n"
   ]
  },
  {
   "cell_type": "code",
   "execution_count": 37,
   "metadata": {},
   "outputs": [
    {
     "name": "stdout",
     "output_type": "stream",
     "text": [
      "my_nginx_container\r\n"
     ]
    }
   ],
   "source": [
    "!docker rm my_nginx_container"
   ]
  },
  {
   "cell_type": "markdown",
   "metadata": {},
   "source": [
    "***Note***: If you don't plan to use the container anymore, you can remove it to free up resources. However, keep in mind that removing a container also removes its data, so if you want to keep the data, you should consider using volumes to persist it.\n"
   ]
  },
  {
   "cell_type": "markdown",
   "metadata": {},
   "source": [
    "That's it! You have successfully run your first Docker container. \n",
    "\n",
    "\n",
    "**BORRAR**: You can now explore more Docker features, such as creating custom images using Dockerfiles, using Docker Compose to manage multi-container applications, and much more. Happy containerizing!"
   ]
  },
  {
   "cell_type": "markdown",
   "metadata": {},
   "source": [
    "### 4. Explore Docker Images:\n",
    "\n",
    "Exploring Docker images is an essential part of working with Docker. Docker images are the building blocks of containers and contain all the necessary dependencies and configurations to run your application. Docker images are templates for containers. You can use existing images or create your own. Here's a detailed process to explore Docker images."
   ]
  },
  {
   "cell_type": "markdown",
   "metadata": {},
   "source": [
    "- List Available Docker Images:\n",
    "\n",
    "To see a list of Docker images available on your system, open a terminal or command prompt and type:"
   ]
  },
  {
   "cell_type": "code",
   "execution_count": 38,
   "metadata": {},
   "outputs": [
    {
     "name": "stdout",
     "output_type": "stream",
     "text": [
      "REPOSITORY                    TAG       IMAGE ID       CREATED         SIZE\r\n",
      "jupyter_server                latest    bd735acb6f7b   4 days ago      1.35GB\r\n",
      "<none>                        <none>    e804ba8004c9   4 days ago      1.35GB\r\n",
      "<none>                        <none>    341a2135d531   4 days ago      1.35GB\r\n",
      "<none>                        <none>    073ce6b0f986   4 days ago      1.35GB\r\n",
      "<none>                        <none>    ade86720168c   4 days ago      1.35GB\r\n",
      "jupyter/base-notebook         latest    eb7eb8b805af   5 days ago      1.06GB\r\n",
      "daskdev/dask                  latest    f0a7c6addbe7   7 days ago      1.32GB\r\n",
      "my_custom_nginx               latest    89da1fb6dcb9   2 weeks ago     187MB\r\n",
      "nginx                         latest    89da1fb6dcb9   2 weeks ago     187MB\r\n",
      "python                        3.9       60d390c1959b   2 months ago    997MB\r\n",
      "hfarias                       latest    42eb93eb9464   3 months ago    179MB\r\n",
      "miapp                         latest    42eb93eb9464   3 months ago    179MB\r\n",
      "test                          latest    42eb93eb9464   3 months ago    179MB\r\n",
      "docker/disk-usage-extension   0.2.7     94a994303197   3 months ago    2.81MB\r\n",
      "ghcr.io/dask/dask-notebook    latest    59ffc0ebaa2b   3 months ago    1.58GB\r\n",
      "ghcr.io/dask/dask             latest    c9a1114a74e0   3 months ago    1.3GB\r\n",
      "docker/welcome-to-docker      latest    924b9d1abd68   5 months ago    13.1MB\r\n",
      "hello-world                   latest    feb5d9fea6a5   22 months ago   13.3kB\r\n"
     ]
    }
   ],
   "source": [
    "!docker images"
   ]
  },
  {
   "cell_type": "markdown",
   "metadata": {},
   "source": [
    "This command will display a list of all the Docker images you have downloaded and saved locally on your machine."
   ]
  },
  {
   "cell_type": "markdown",
   "metadata": {},
   "source": [
    "- Pull Docker Images from Docker Hub:\n",
    "\n",
    "If you want to explore new Docker images, you can pull them from the official Docker Hub repository or other public or private registries. To pull an image from Docker Hub, use the ***docker pull*** command followed by the image name and optionally the tag (version). For example:"
   ]
  },
  {
   "cell_type": "code",
   "execution_count": 39,
   "metadata": {},
   "outputs": [
    {
     "name": "stdout",
     "output_type": "stream",
     "text": [
      "Using default tag: latest\n",
      "Error response from daemon: Get \"https://registry-1.docker.io/v2/\": dialing registry-1.docker.io:443 with direct connection: resolving host registry-1.docker.io: lookup registry-1.docker.io: no such host\n"
     ]
    }
   ],
   "source": [
    "!docker pull nginx"
   ]
  },
  {
   "cell_type": "markdown",
   "metadata": {},
   "source": [
    "This command will download the latest version of the Nginx image from Docker Hub."
   ]
  },
  {
   "cell_type": "markdown",
   "metadata": {},
   "source": [
    "- Inspect Docker Images:\n",
    "\n",
    "To get more detailed information about a specific Docker image, you can use the **docker inspect** command followed by the image name or image ID. For example:\n"
   ]
  },
  {
   "cell_type": "code",
   "execution_count": 40,
   "metadata": {},
   "outputs": [
    {
     "name": "stdout",
     "output_type": "stream",
     "text": [
      "[\r\n",
      "    {\r\n",
      "        \"Id\": \"sha256:89da1fb6dcb964dd35c3f41b7b93ffc35eaf20bc61f2e1335fea710a18424287\",\r\n",
      "        \"RepoTags\": [\r\n",
      "            \"my_custom_nginx:latest\",\r\n",
      "            \"nginx:latest\"\r\n",
      "        ],\r\n",
      "        \"RepoDigests\": [\r\n",
      "            \"nginx@sha256:67f9a4f10d147a6e04629340e6493c9703300ca23a2f7f3aa56fe615d75d31ca\"\r\n",
      "        ],\r\n",
      "        \"Parent\": \"\",\r\n",
      "        \"Comment\": \"\",\r\n",
      "        \"Created\": \"2023-07-28T02:30:07.215160457Z\",\r\n",
      "        \"Container\": \"bf98dc4dfdd59d7841d9111d2c8e347b70b76c5e224de9e5469a37cd6192b60f\",\r\n",
      "        \"ContainerConfig\": {\r\n",
      "            \"Hostname\": \"bf98dc4dfdd5\",\r\n",
      "            \"Domainname\": \"\",\r\n",
      "            \"User\": \"\",\r\n",
      "            \"AttachStdin\": false,\r\n",
      "            \"AttachStdout\": false,\r\n",
      "            \"AttachStderr\": false,\r\n",
      "            \"ExposedPorts\": {\r\n",
      "                \"80/tcp\": {}\r\n",
      "            },\r\n",
      "            \"Tty\": false,\r\n",
      "            \"OpenStdin\": false,\r\n",
      "            \"StdinOnce\": false,\r\n",
      "            \"Env\": [\r\n",
      "                \"PATH=/usr/local/sbin:/usr/local/bin:/usr/sbin:/usr/bin:/sbin:/bin\",\r\n",
      "                \"NGINX_VERSION=1.25.1\",\r\n",
      "                \"NJS_VERSION=0.7.12\",\r\n",
      "                \"PKG_RELEASE=1~bookworm\"\r\n",
      "            ],\r\n",
      "            \"Cmd\": [\r\n",
      "                \"/bin/sh\",\r\n",
      "                \"-c\",\r\n",
      "                \"#(nop) \",\r\n",
      "                \"CMD [\\\"nginx\\\" \\\"-g\\\" \\\"daemon off;\\\"]\"\r\n",
      "            ],\r\n",
      "            \"Image\": \"sha256:6634f389b46db3b5c23f6c0a5f9e5595c83a2cbd9f1359a47028ab313a393315\",\r\n",
      "            \"Volumes\": null,\r\n",
      "            \"WorkingDir\": \"\",\r\n",
      "            \"Entrypoint\": [\r\n",
      "                \"/docker-entrypoint.sh\"\r\n",
      "            ],\r\n",
      "            \"OnBuild\": null,\r\n",
      "            \"Labels\": {\r\n",
      "                \"maintainer\": \"NGINX Docker Maintainers <docker-maint@nginx.com>\"\r\n",
      "            },\r\n",
      "            \"StopSignal\": \"SIGQUIT\"\r\n",
      "        },\r\n",
      "        \"DockerVersion\": \"20.10.23\",\r\n",
      "        \"Author\": \"\",\r\n",
      "        \"Config\": {\r\n",
      "            \"Hostname\": \"\",\r\n",
      "            \"Domainname\": \"\",\r\n",
      "            \"User\": \"\",\r\n",
      "            \"AttachStdin\": false,\r\n",
      "            \"AttachStdout\": false,\r\n",
      "            \"AttachStderr\": false,\r\n",
      "            \"ExposedPorts\": {\r\n",
      "                \"80/tcp\": {}\r\n",
      "            },\r\n",
      "            \"Tty\": false,\r\n",
      "            \"OpenStdin\": false,\r\n",
      "            \"StdinOnce\": false,\r\n",
      "            \"Env\": [\r\n",
      "                \"PATH=/usr/local/sbin:/usr/local/bin:/usr/sbin:/usr/bin:/sbin:/bin\",\r\n",
      "                \"NGINX_VERSION=1.25.1\",\r\n",
      "                \"NJS_VERSION=0.7.12\",\r\n",
      "                \"PKG_RELEASE=1~bookworm\"\r\n",
      "            ],\r\n",
      "            \"Cmd\": [\r\n",
      "                \"nginx\",\r\n",
      "                \"-g\",\r\n",
      "                \"daemon off;\"\r\n",
      "            ],\r\n",
      "            \"Image\": \"sha256:6634f389b46db3b5c23f6c0a5f9e5595c83a2cbd9f1359a47028ab313a393315\",\r\n",
      "            \"Volumes\": null,\r\n",
      "            \"WorkingDir\": \"\",\r\n",
      "            \"Entrypoint\": [\r\n",
      "                \"/docker-entrypoint.sh\"\r\n",
      "            ],\r\n",
      "            \"OnBuild\": null,\r\n",
      "            \"Labels\": {\r\n",
      "                \"maintainer\": \"NGINX Docker Maintainers <docker-maint@nginx.com>\"\r\n",
      "            },\r\n",
      "            \"StopSignal\": \"SIGQUIT\"\r\n",
      "        },\r\n",
      "        \"Architecture\": \"amd64\",\r\n",
      "        \"Os\": \"linux\",\r\n",
      "        \"Size\": 186860096,\r\n",
      "        \"VirtualSize\": 186860096,\r\n",
      "        \"GraphDriver\": {\r\n",
      "            \"Data\": {\r\n",
      "                \"LowerDir\": \"/var/lib/docker/overlay2/1a3b1a20272954a7620a9ede91bfa7a3f83353ae6fb933893d2123b7ca45fb15/diff:/var/lib/docker/overlay2/26134aea6628139b558ae617be06abfe5bcaed405da2714fc5eead3d1b94b3ee/diff:/var/lib/docker/overlay2/0f3298beecc9a96965f2d9023b58c2fcb9ce09364305bf5b573904c7de4efe7b/diff:/var/lib/docker/overlay2/ab023abe0b7a17f7dd4dee8f2aac57d76c25d5b57fc450e7f3c0b336588be9f9/diff:/var/lib/docker/overlay2/af7f19e1e6316f36131a2e6596e2958f9d67cf3f394d6d0a8250d3d9216130b7/diff:/var/lib/docker/overlay2/7f5b4b693f043667f882051c24b1a0ab9040c4ee30f6d12b46886b99d240d0e2/diff\",\r\n",
      "                \"MergedDir\": \"/var/lib/docker/overlay2/cde5be0706cb9b2afc87a702afa15b8c98ce0b63ca0e0218422fd6afcec41885/merged\",\r\n",
      "                \"UpperDir\": \"/var/lib/docker/overlay2/cde5be0706cb9b2afc87a702afa15b8c98ce0b63ca0e0218422fd6afcec41885/diff\",\r\n",
      "                \"WorkDir\": \"/var/lib/docker/overlay2/cde5be0706cb9b2afc87a702afa15b8c98ce0b63ca0e0218422fd6afcec41885/work\"\r\n",
      "            },\r\n",
      "            \"Name\": \"overlay2\"\r\n",
      "        },\r\n",
      "        \"RootFS\": {\r\n",
      "            \"Type\": \"layers\",\r\n",
      "            \"Layers\": [\r\n",
      "                \"sha256:c6e34807c2d51444c41c15f4fda65847faa2f43c9b4b976a2f6f476eca7429ce\",\r\n",
      "                \"sha256:24ee1d7d6a627866b28ea4606d2cefa5441de7bda3c7b572b4ae2ad64b9c3015\",\r\n",
      "                \"sha256:4deafab383fa6927aa8bf6f8eca2d6e9753e915586c646ce52282fb9ae30cb95\",\r\n",
      "                \"sha256:8aedfcd777c711e7340119f3a0ec335c627bd27f8ff7fdab6625b68399556e0a\",\r\n",
      "                \"sha256:c88d3a8ff0091f25bdc96b39ec98a24febf6322d7029658739fd66b2cac9ef55\",\r\n",
      "                \"sha256:abc3beec4b30391beaa095ee8912bbf9266029b57007991a703038de9dd2d68c\",\r\n",
      "                \"sha256:922d16116201a9a9ce374dee93adc656cc91f5165dc3ee2d4606c5d71681fd6a\"\r\n",
      "            ]\r\n",
      "        },\r\n",
      "        \"Metadata\": {\r\n",
      "            \"LastTagTime\": \"2023-08-03T22:24:17.605731592Z\"\r\n",
      "        }\r\n",
      "    }\r\n",
      "]\r\n"
     ]
    }
   ],
   "source": [
    "!docker inspect nginx"
   ]
  },
  {
   "cell_type": "markdown",
   "metadata": {},
   "source": [
    "This command will provide a JSON-formatted output with various details about the image, such as its configuration, layers, environment variables, and more."
   ]
  },
  {
   "cell_type": "markdown",
   "metadata": {},
   "source": [
    "- Tag Docker Images:\n",
    "\n",
    "You can give a Docker image a custom tag to make it easier to manage or identify later. To tag an image, use the docker tag command followed by the source image and the new tag. For example:"
   ]
  },
  {
   "cell_type": "code",
   "execution_count": 41,
   "metadata": {},
   "outputs": [],
   "source": [
    "!docker tag nginx my_custom_nginx:latest"
   ]
  },
  {
   "cell_type": "code",
   "execution_count": 42,
   "metadata": {},
   "outputs": [
    {
     "name": "stdout",
     "output_type": "stream",
     "text": [
      "REPOSITORY                    TAG       IMAGE ID       CREATED         SIZE\r\n",
      "jupyter_server                latest    bd735acb6f7b   4 days ago      1.35GB\r\n",
      "<none>                        <none>    e804ba8004c9   4 days ago      1.35GB\r\n",
      "<none>                        <none>    341a2135d531   4 days ago      1.35GB\r\n",
      "<none>                        <none>    073ce6b0f986   4 days ago      1.35GB\r\n",
      "<none>                        <none>    ade86720168c   4 days ago      1.35GB\r\n",
      "jupyter/base-notebook         latest    eb7eb8b805af   5 days ago      1.06GB\r\n",
      "daskdev/dask                  latest    f0a7c6addbe7   7 days ago      1.32GB\r\n",
      "my_custom_nginx               latest    89da1fb6dcb9   2 weeks ago     187MB\r\n",
      "nginx                         latest    89da1fb6dcb9   2 weeks ago     187MB\r\n",
      "python                        3.9       60d390c1959b   2 months ago    997MB\r\n",
      "hfarias                       latest    42eb93eb9464   3 months ago    179MB\r\n",
      "miapp                         latest    42eb93eb9464   3 months ago    179MB\r\n",
      "test                          latest    42eb93eb9464   3 months ago    179MB\r\n",
      "docker/disk-usage-extension   0.2.7     94a994303197   3 months ago    2.81MB\r\n",
      "ghcr.io/dask/dask-notebook    latest    59ffc0ebaa2b   3 months ago    1.58GB\r\n",
      "ghcr.io/dask/dask             latest    c9a1114a74e0   3 months ago    1.3GB\r\n",
      "docker/welcome-to-docker      latest    924b9d1abd68   5 months ago    13.1MB\r\n",
      "hello-world                   latest    feb5d9fea6a5   22 months ago   13.3kB\r\n"
     ]
    }
   ],
   "source": [
    "!docker images"
   ]
  },
  {
   "cell_type": "markdown",
   "metadata": {},
   "source": [
    "This will create a new image with the tag my_custom_nginx:latest based on the original nginx image."
   ]
  },
  {
   "cell_type": "markdown",
   "metadata": {},
   "source": [
    "- Remove Docker Images:\n",
    "\n",
    "If you have images that you no longer need, you can remove them to free up disk space. To remove a Docker image, use the docker rmi command followed by the image name or image ID. For example:"
   ]
  },
  {
   "cell_type": "code",
   "execution_count": null,
   "metadata": {},
   "outputs": [],
   "source": [
    "!docker rmi nginx"
   ]
  },
  {
   "cell_type": "markdown",
   "metadata": {},
   "source": [
    "**Note** that you cannot remove an image if it is being used by a running container. You need to stop and remove all containers that are based on the image before you can remove it.\n"
   ]
  },
  {
   "cell_type": "markdown",
   "metadata": {},
   "source": [
    "- Docker Image History:\n",
    "\n",
    "You can view the history of a Docker image to see how it was built and what layers it consists of. To view the image history, use the docker history command followed by the image name or image ID. For example:\n"
   ]
  },
  {
   "cell_type": "code",
   "execution_count": 43,
   "metadata": {},
   "outputs": [
    {
     "name": "stdout",
     "output_type": "stream",
     "text": [
      "IMAGE          CREATED        CREATED BY                                      SIZE      COMMENT\r\n",
      "42eb93eb9464   3 months ago   CMD [\"node\" \"/app/src/index.js\"]                0B        buildkit.dockerfile.v0\r\n",
      "<missing>      3 months ago   RUN /bin/sh -c yarn install --production # b…   85.3MB    buildkit.dockerfile.v0\r\n",
      "<missing>      3 months ago   COPY . . # buildkit                             4.63MB    buildkit.dockerfile.v0\r\n",
      "<missing>      3 months ago   WORKDIR /app                                    0B        buildkit.dockerfile.v0\r\n",
      "<missing>      2 years ago    /bin/sh -c #(nop)  CMD [\"node\"]                 0B        \r\n",
      "<missing>      2 years ago    /bin/sh -c #(nop)  ENTRYPOINT [\"docker-entry…   0B        \r\n",
      "<missing>      2 years ago    /bin/sh -c #(nop) COPY file:238737301d473041…   116B      \r\n",
      "<missing>      2 years ago    /bin/sh -c apk add --no-cache --virtual .bui…   7.62MB    \r\n",
      "<missing>      2 years ago    /bin/sh -c #(nop)  ENV YARN_VERSION=1.22.5      0B        \r\n",
      "<missing>      2 years ago    /bin/sh -c addgroup -g 1000 node     && addu…   75.7MB    \r\n",
      "<missing>      2 years ago    /bin/sh -c #(nop)  ENV NODE_VERSION=12.22.1     0B        \r\n",
      "<missing>      2 years ago    /bin/sh -c #(nop)  CMD [\"/bin/sh\"]              0B        \r\n",
      "<missing>      2 years ago    /bin/sh -c #(nop) ADD file:282b9d56236cae296…   5.62MB    \r\n"
     ]
    }
   ],
   "source": [
    "!docker history hfarias"
   ]
  },
  {
   "cell_type": "markdown",
   "metadata": {},
   "source": [
    "This command will display a list of layers and commands used to build the < tag> image.\n"
   ]
  },
  {
   "cell_type": "markdown",
   "metadata": {},
   "source": [
    "**Summary**: Exploring Docker images is crucial for understanding their contents and managing your development and production environments effectively. With this knowledge, you can pull, inspect, tag, and remove Docker images to suit your specific needs."
   ]
  },
  {
   "cell_type": "markdown",
   "metadata": {},
   "source": [
    "## 5. Manage Containers:\n",
    "\n",
    "Managing Docker containers involves tasks such as starting, stopping, inspecting, and removing containers. Here's a detailed process for managing Docker containers:"
   ]
  },
  {
   "cell_type": "markdown",
   "metadata": {},
   "source": [
    "- **5.1 List Running Containers:**\n",
    "\n",
    "To see a list of all the running containers on your system, open a terminal or command prompt and use the following command:"
   ]
  },
  {
   "cell_type": "code",
   "execution_count": 44,
   "metadata": {},
   "outputs": [
    {
     "name": "stdout",
     "output_type": "stream",
     "text": [
      "CONTAINER ID   IMAGE     COMMAND   CREATED   STATUS    PORTS     NAMES\r\n"
     ]
    }
   ],
   "source": [
    "!docker ps"
   ]
  },
  {
   "cell_type": "markdown",
   "metadata": {},
   "source": [
    "This command will display a list of running containers along with their details, such as Container ID, Image, Command, Status, Ports, and Names.\n"
   ]
  },
  {
   "cell_type": "markdown",
   "metadata": {},
   "source": [
    "- **5.2 List All Containers (Running and Stopped):**\n",
    "\n",
    "To see a list of all containers, including both running and stopped ones, use the following command:"
   ]
  },
  {
   "cell_type": "code",
   "execution_count": 45,
   "metadata": {},
   "outputs": [
    {
     "name": "stdout",
     "output_type": "stream",
     "text": [
      "CONTAINER ID   IMAGE                               COMMAND                  CREATED         STATUS                      PORTS                    NAMES\r\n",
      "7c23411281bc   hello-world                         \"/hello\"                 9 minutes ago   Exited (0) 9 minutes ago                             epic_zhukovsky\r\n",
      "c752202a4a68   hello-world                         \"/hello\"                 2 hours ago     Exited (0) 2 hours ago                               magical_merkle\r\n",
      "b476822bd603   jupyter_server                      \"tini -g -- jupyter …\"   3 hours ago     Exited (130) 3 hours ago                             hungry_wilson\r\n",
      "0a50008d0c48   hello-world                         \"/hello\"                 17 hours ago    Exited (0) 17 hours ago                              mystifying_driscoll\r\n",
      "fae8696c13cb   hello-world                         \"/hello\"                 17 hours ago    Exited (0) 17 hours ago                              kind_leavitt\r\n",
      "33b81f51d921   jupyter_server                      \"tini -g -- jupyter …\"   4 days ago      Exited (130) 4 days ago                              focused_brahmagupta\r\n",
      "e2a2a39fcd36   jupyter/base-notebook:latest        \"tini -g -- start-no…\"   5 days ago      Exited (130) 4 days ago                              happy_gould\r\n",
      "5c74c4101305   python:3.9                          \"python3\"                5 days ago      Exited (0) 5 days ago                                nifty_jang\r\n",
      "dfab14486004   hello-world                         \"/hello\"                 8 days ago      Exited (0) 8 days ago                                dreamy_perlman\r\n",
      "9befb5fc7151   ghcr.io/dask/dask:latest            \"tini -g -- /usr/bin…\"   3 months ago    Exited (0) 3 months ago                              compose-worker-3\r\n",
      "4ec747df652b   ghcr.io/dask/dask:latest            \"tini -g -- /usr/bin…\"   3 months ago    Exited (0) 3 months ago                              compose-scheduler-1\r\n",
      "f7a35a1df658   ghcr.io/dask/dask:latest            \"tini -g -- /usr/bin…\"   3 months ago    Exited (0) 3 months ago                              compose-worker-1\r\n",
      "e5f1875009b8   ghcr.io/dask/dask-notebook:latest   \"tini -- /usr/bin/pr…\"   3 months ago    Exited (0) 3 months ago                              compose-notebook-1\r\n",
      "c1491f4346c1   ghcr.io/dask/dask:latest            \"tini -g -- /usr/bin…\"   3 months ago    Exited (0) 3 months ago                              compose-worker-2\r\n",
      "d175926ba97c   ghcr.io/dask/dask-notebook          \"tini -- /usr/bin/pr…\"   3 months ago    Exited (129) 3 months ago                            nifty_cerf\r\n",
      "9abc81d81334   ghcr.io/dask/dask                   \"tini -g -- /usr/bin…\"   3 months ago    Exited (0) 3 months ago                              gifted_rubin\r\n",
      "4d6b47c33aeb   ghcr.io/dask/dask                   \"tini -g -- /usr/bin…\"   3 months ago    Exited (0) 3 months ago                              eager_almeida\r\n",
      "923871ad78ac   ghcr.io/dask/dask                   \"tini -g -- /usr/bin…\"   3 months ago    Exited (130) 3 months ago                            gallant_montalcini\r\n",
      "ab7088092484   ghcr.io/dask/dask                   \"tini -g -- /usr/bin…\"   3 months ago    Exited (0) 3 months ago                              objective_tu\r\n",
      "fe46614832ef   ghcr.io/dask/dask                   \"tini -g -- /usr/bin…\"   3 months ago    Exited (130) 3 months ago                            blissful_albattani\r\n",
      "e35cc22b8325   ghcr.io/dask/dask                   \"tini -g -- /usr/bin…\"   3 months ago    Exited (130) 3 months ago                            scheduler3\r\n",
      "0e8953672c80   hfarias                             \"docker-entrypoint.s…\"   3 months ago    Exited (255) 2 months ago   0.0.0.0:3000->3000/tcp   inspiring_mayer\r\n",
      "7e581aa30c34   hfarias                             \"docker-entrypoint.s…\"   3 months ago    Exited (0) 3 months ago                              infallible_chandrasekhar\r\n",
      "0353039311f0   hfarias                             \"docker-entrypoint.s…\"   3 months ago    Exited (0) 3 months ago                              elegant_albattani\r\n",
      "9d667e79dec4   hfarias                             \"docker-entrypoint.s…\"   3 months ago    Exited (1) 3 months ago                              pensive_wright\r\n",
      "6fa5116e98d0   hfarias                             \"docker-entrypoint.s…\"   3 months ago    Exited (0) 3 months ago                              sweet_sutherland\r\n",
      "3c47d07da805   miapp                               \"docker-entrypoint.s…\"   3 months ago    Exited (0) 3 months ago                              ecstatic_hugle\r\n",
      "13195adec06e   miapp                               \"docker-entrypoint.s…\"   3 months ago    Exited (1) 3 months ago                              dreamy_vaughan\r\n",
      "d51b4d5cf319   miapp                               \"docker-entrypoint.s…\"   3 months ago    Exited (0) 3 months ago                              strange_williamson\r\n",
      "e25a9885d4ed   ghcr.io/dask/dask                   \"tini -g -- /usr/bin…\"   3 months ago    Exited (1) 3 months ago                              agitated_brahmagupta\r\n",
      "0cd8752601f7   ghcr.io/dask/dask                   \"tini -g -- /usr/bin…\"   3 months ago    Exited (130) 3 months ago                            elated_poitras\r\n",
      "201fa067603d   ghcr.io/dask/dask                   \"tini -g -- /usr/bin…\"   3 months ago    Exited (130) 3 months ago                            scheduler2\r\n",
      "4e3996926bce   ghcr.io/dask/dask-notebook          \"tini -- /usr/bin/pr…\"   3 months ago    Exited (130) 3 months ago                            elated_lamarr\r\n",
      "6bddf6b759aa   ghcr.io/dask/dask-notebook          \"tini -- /usr/bin/pr…\"   3 months ago    Exited (130) 3 months ago                            exciting_buck\r\n",
      "a54051800d4a   ghcr.io/dask/dask                   \"tini -g -- /usr/bin…\"   3 months ago    Exited (0) 3 months ago                              competent_bose\r\n",
      "dd43659e45e8   ghcr.io/dask/dask                   \"tini -g -- /usr/bin…\"   3 months ago    Exited (1) 3 months ago                              awesome_sinoussi\r\n",
      "87d24d502be9   ghcr.io/dask/dask                   \"tini -g -- /usr/bin…\"   3 months ago    Exited (1) 3 months ago                              tender_jackson\r\n",
      "f6d5904d1c2c   ghcr.io/dask/dask                   \"tini -g -- /usr/bin…\"   3 months ago    Exited (130) 3 months ago                            scheduler\r\n"
     ]
    }
   ],
   "source": [
    "!docker ps -a"
   ]
  },
  {
   "cell_type": "markdown",
   "metadata": {},
   "source": [
    "This will show all containers along with their details."
   ]
  },
  {
   "cell_type": "markdown",
   "metadata": {},
   "source": [
    "- **5.3 Start a Stopped Container:**\n",
    "\n",
    "To start a stopped container, you need to know its Container ID or Name. Use the following command to start the container:"
   ]
  },
  {
   "cell_type": "code",
   "execution_count": null,
   "metadata": {},
   "outputs": [],
   "source": [
    "!docker start <container_id_or_name>"
   ]
  },
  {
   "cell_type": "markdown",
   "metadata": {},
   "source": [
    "- **5.4 Stop a Running Container:**\n",
    "\n",
    "To stop a running container, you also need its Container ID or Name. Use the following command to stop the container gracefully:"
   ]
  },
  {
   "cell_type": "code",
   "execution_count": null,
   "metadata": {},
   "outputs": [],
   "source": [
    "!docker stop <container_id_or_name>"
   ]
  },
  {
   "cell_type": "markdown",
   "metadata": {},
   "source": [
    "If you want to forcefully stop a container, you can use the ***docker kill*** command instead."
   ]
  },
  {
   "cell_type": "markdown",
   "metadata": {},
   "source": [
    "- **5.5 Inspect Container Details:**\n",
    "\n",
    "To get more detailed information about a specific container, use the docker inspect command followed by the Container ID or Name. For example:"
   ]
  },
  {
   "cell_type": "code",
   "execution_count": null,
   "metadata": {},
   "outputs": [],
   "source": [
    "!docker inspect my_container"
   ]
  },
  {
   "cell_type": "markdown",
   "metadata": {},
   "source": [
    "- **5.6 Inspect Container Details:**\n",
    "\n",
    "To get more detailed information about a specific container, use the docker inspect command followed by the Container ID or Name. For example:"
   ]
  },
  {
   "cell_type": "code",
   "execution_count": null,
   "metadata": {},
   "outputs": [],
   "source": [
    "!docker inspect my_container"
   ]
  },
  {
   "cell_type": "markdown",
   "metadata": {},
   "source": [
    "This will provide a JSON-formatted output with various details about the container, such as its configuration, network settings, environment variables, and more."
   ]
  },
  {
   "cell_type": "markdown",
   "metadata": {},
   "source": [
    "- **5.7 Remove a Container:**\n",
    "\n",
    "To remove a container, it must be stopped. If it's still running, you'll need to stop it first using the docker stop command (as mentioned in step 5.4).\n",
    "Once the container is stopped, use the following command to remove it:"
   ]
  },
  {
   "cell_type": "code",
   "execution_count": null,
   "metadata": {},
   "outputs": [],
   "source": [
    "!docker rm <container_id_or_name>"
   ]
  },
  {
   "cell_type": "markdown",
   "metadata": {},
   "source": [
    "**Note:** The container will be ***permanently deleted***, and its resources will be freed up."
   ]
  },
  {
   "cell_type": "markdown",
   "metadata": {},
   "source": [
    "- **5.8 Remove All Stopped Containers:**\n",
    "\n",
    "If you want to remove all stopped containers at once, you can use the following command:"
   ]
  },
  {
   "cell_type": "code",
   "execution_count": null,
   "metadata": {},
   "outputs": [],
   "source": [
    "!docker container prune"
   ]
  },
  {
   "cell_type": "markdown",
   "metadata": {},
   "source": [
    "**Note: This will remove all stopped containers**, freeing up disk space."
   ]
  },
  {
   "cell_type": "markdown",
   "metadata": {},
   "source": [
    "- **5.9 Manage Container Logs:**\n",
    "\n",
    "To view the logs of a specific container, use the following command:"
   ]
  },
  {
   "cell_type": "code",
   "execution_count": null,
   "metadata": {},
   "outputs": [],
   "source": [
    "!docker logs <container_id_or_name>"
   ]
  },
  {
   "cell_type": "markdown",
   "metadata": {},
   "source": [
    "**Summary**: These are some of the basic container management commands. Docker provides many more options and functionalities for managing containers, including pausing, renaming, and attaching to containers, among others. To explore more advanced container management features, you can refer to the official Docker documentation (https://docs.docker.com/)."
   ]
  },
  {
   "cell_type": "code",
   "execution_count": null,
   "metadata": {},
   "outputs": [],
   "source": []
  }
 ],
 "metadata": {
  "kernelspec": {
   "display_name": "Python 3 (ipykernel)",
   "language": "python",
   "name": "python3"
  },
  "language_info": {
   "codemirror_mode": {
    "name": "ipython",
    "version": 3
   },
   "file_extension": ".py",
   "mimetype": "text/x-python",
   "name": "python",
   "nbconvert_exporter": "python",
   "pygments_lexer": "ipython3",
   "version": "3.9.12"
  }
 },
 "nbformat": 4,
 "nbformat_minor": 4
}
