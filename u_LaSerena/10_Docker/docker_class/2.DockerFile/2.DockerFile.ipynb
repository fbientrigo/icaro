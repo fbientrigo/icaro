{
 "cells": [
  {
   "cell_type": "markdown",
   "metadata": {},
   "source": [
    "<img src=\"http://lssds.aura-astronomy.org/winter_school/sites/default/files/sods_atfdds_header01.jpg\" alt=\"La Serena School for Data Science: Applied Tools for Data-driven Sciences\" />\n"
   ]
  },
  {
   "cell_type": "markdown",
   "metadata": {},
   "source": [
    "## 1. Introduction:\n",
    "\n",
    "A Dockerfile is a plain text configuration file used to define the steps for building a Docker image. It is a critical component of the Docker ecosystem, allowing developers to automate the process of creating reproducible and consistent container images. Dockerfiles are used to encapsulate the configuration and dependencies of an application or service, making it easier to package, distribute, and deploy software as containers.\n",
    "\n",
    "The Dockerfile typically includes a series of instructions, each on a separate line, that dictate how the image should be constructed. The Docker engine interprets these instructions and builds the image layer by layer. When a new container is created from the image, the file system is constructed based on these layers, making it efficient and fast.\n",
    "\n",
    "Below is an example of a Dockerfile for creating a Jupyter Notebook server using the official Jupyter Docker Stacks image:"
   ]
  },
  {
   "cell_type": "code",
   "execution_count": null,
   "metadata": {},
   "outputs": [],
   "source": [
    "!cat Dockerfile"
   ]
  },
  {
   "cell_type": "markdown",
   "metadata": {},
   "source": [
    "## 2. key components of a Dockerfile:"
   ]
  },
  {
   "cell_type": "markdown",
   "metadata": {},
   "source": [
    "- **2.1 Base Image:**\n",
    "\n",
    "The Dockerfile starts with specifying the base image upon which the custom image will be built. The base image is the starting point for your application's image and contains the operating system and other pre-installed software or libraries.\n",
    "The base image is defined using the FROM instruction. For example:"
   ]
  },
  {
   "cell_type": "code",
   "execution_count": null,
   "metadata": {},
   "outputs": [],
   "source": [
    "FROM jupyter/minimal-notebook"
   ]
  },
  {
   "cell_type": "markdown",
   "metadata": {},
   "source": [
    "- **2.2 Environment Configuration:**\n",
    "\n",
    "The Dockerfile can include environment configuration settings that define variables, specify working directories, and set other runtime behaviors.\n",
    "Environment configuration is set using the ENV instruction. For example:"
   ]
  },
  {
   "cell_type": "code",
   "execution_count": null,
   "metadata": {},
   "outputs": [],
   "source": [
    "ENV NODE_ENV=production"
   ]
  },
  {
   "cell_type": "markdown",
   "metadata": {},
   "source": [
    "- **2.3 Copying Files:**\n",
    "\n",
    "The COPY instruction allows you to copy files and directories from the host system to the image's file system. This step is essential for adding your application code and any necessary resources to the image.\n",
    "For example:"
   ]
  },
  {
   "cell_type": "code",
   "execution_count": null,
   "metadata": {},
   "outputs": [],
   "source": [
    "COPY . /app"
   ]
  },
  {
   "cell_type": "markdown",
   "metadata": {},
   "source": [
    "- **2.4 Running Commands:**\n",
    "\n",
    "The RUN instruction is used to execute commands within the image's file system. This is commonly used to install packages, dependencies, and other software needed for your application to run.\n",
    "\n",
    "For example, for a Node.js application, you might run the following command to install Node.js dependencies:"
   ]
  },
  {
   "cell_type": "code",
   "execution_count": null,
   "metadata": {},
   "outputs": [],
   "source": [
    "RUN npm install"
   ]
  },
  {
   "cell_type": "markdown",
   "metadata": {},
   "source": [
    "- **2.5 Exposing Ports:**\n",
    "\n",
    "The EXPOSE instruction is used to specify which ports the container should listen on. It does not actually publish the ports but serves as documentation for developers and users of the image.\n",
    "\n",
    "For example, to indicate that the container listens on port 3000, you would add the following line:"
   ]
  },
  {
   "cell_type": "code",
   "execution_count": null,
   "metadata": {},
   "outputs": [],
   "source": [
    "EXPOSE 3000"
   ]
  },
  {
   "cell_type": "markdown",
   "metadata": {},
   "source": [
    "- **2.6 Container Execution Command:**\n",
    "\n",
    "The ***CMD*** or ***ENTRYPOINT*** instruction defines the command that should be executed when a container is started from the image. This is usually the main process of your application.\n",
    "\n",
    "For example, for a Node.js application, you might use:"
   ]
  },
  {
   "cell_type": "code",
   "execution_count": null,
   "metadata": {},
   "outputs": [],
   "source": [
    "CMD [\"node\", \"app.js\"]"
   ]
  },
  {
   "cell_type": "markdown",
   "metadata": {},
   "source": [
    "Once you have defined your Dockerfile, you can use the ***docker build*** command to build the Docker image based on the instructions provided in the file. This will create a container image that contains all the specified configurations, dependencies, and code necessary to run your application.\n",
    "\n",
    "Dockerfiles are a powerful tool for creating consistent and reproducible container images. They allow developers to define the exact environment needed for their applications, making it easier to share and distribute software across different environments and systems."
   ]
  },
  {
   "cell_type": "markdown",
   "metadata": {},
   "source": [
    "## 3. Create a step-by-step Dockerfile:\n",
    "\n",
    "Let's create a step-by-step Dockerfile for a Jupyter Notebook server using the official Jupyter Docker Stacks image:"
   ]
  },
  {
   "cell_type": "markdown",
   "metadata": {},
   "source": [
    "- **3.1: Choose the Base Image**\n",
    "\n",
    "We'll use the official Jupyter Notebook image from Jupyter Docker Stacks as the base image. This image includes the basic Jupyter Notebook installation.\n",
    "Choose the tag for the base image based on your requirements. In this example, we'll use the ***base-notebook*** tag."
   ]
  },
  {
   "cell_type": "code",
   "execution_count": null,
   "metadata": {},
   "outputs": [],
   "source": [
    "FROM jupyter/base-notebook:latest"
   ]
  },
  {
   "cell_type": "markdown",
   "metadata": {},
   "source": [
    "- **3.2: Set the Working Directory**\n",
    "\n",
    "It's a good practice to set the working directory inside the container where your Jupyter Notebook files will be located.\n",
    "We'll set it to ***/home/jovyan/work***, which is the default directory for Jupyter Notebook files in the base image"
   ]
  },
  {
   "cell_type": "code",
   "execution_count": null,
   "metadata": {},
   "outputs": [],
   "source": [
    "WORKDIR /home/jovyan/work"
   ]
  },
  {
   "cell_type": "markdown",
   "metadata": {},
   "source": [
    "- **3.3: Copy Notebook Files**\n",
    "\n",
    "Next, we'll copy the Jupyter Notebook files from the local directory (where the Dockerfile is located) into the container's working directory.\n",
    "Make sure that your Jupyter Notebook files (e.g., ***.ipynb files***) are present in the same directory as the Dockerfile."
   ]
  },
  {
   "cell_type": "code",
   "execution_count": null,
   "metadata": {},
   "outputs": [],
   "source": [
    "COPY . /home/jovyan/work"
   ]
  },
  {
   "cell_type": "markdown",
   "metadata": {},
   "source": [
    "- **3.4: Expose Port**\n",
    "\n",
    "The Jupyter Notebook runs on port 8888 by default but there are cases where this port may be used, so we will change it to 8889. To access it from the host machine, we need to expose this port from the container."
   ]
  },
  {
   "cell_type": "code",
   "execution_count": null,
   "metadata": {},
   "outputs": [],
   "source": [
    "EXPOSE 8889"
   ]
  },
  {
   "cell_type": "markdown",
   "metadata": {},
   "source": [
    "- **3.5: Install Additional Packages (Optional)**\n",
    "\n",
    "If your Jupyter Notebooks require additional Python packages or libraries, you can install them using pip or conda.\n",
    "In this example, we'll use pip to install pandas and matplotlib."
   ]
  },
  {
   "cell_type": "code",
   "execution_count": null,
   "metadata": {},
   "outputs": [],
   "source": [
    "RUN pip install pandas matplotlib"
   ]
  },
  {
   "cell_type": "markdown",
   "metadata": {},
   "source": [
    "- **3.6: Start Jupyter Notebook Server**\n",
    "\n",
    "Finally, we'll add the command to start the Jupyter Notebook server when the container is run.\n",
    "The --ip=0.0.0.0 option allows access to the server from all IP addresses, and --no-browser prevents Jupyter from trying to open a browser inside the container."
   ]
  },
  {
   "cell_type": "code",
   "execution_count": null,
   "metadata": {},
   "outputs": [],
   "source": [
    "CMD [\"jupyter\", \"notebook\", \"--ip=0.0.0.0\", \"--port=8889\",\"--no-browser\"]"
   ]
  },
  {
   "cell_type": "markdown",
   "metadata": {},
   "source": [
    "The complete Dockerfile will look like this:"
   ]
  },
  {
   "cell_type": "code",
   "execution_count": null,
   "metadata": {},
   "outputs": [],
   "source": [
    "!cat Dockerfile"
   ]
  },
  {
   "cell_type": "markdown",
   "metadata": {},
   "source": [
    "To build the Docker image, save the above code into a file named Dockerfile in the same directory as your Jupyter Notebook files. Then, open a terminal or command prompt, navigate to the directory containing the Dockerfile, and run the following command:"
   ]
  },
  {
   "cell_type": "code",
   "execution_count": null,
   "metadata": {},
   "outputs": [],
   "source": [
    "!docker build -t jupyter_server ."
   ]
  },
  {
   "cell_type": "markdown",
   "metadata": {},
   "source": [
    "The build process will create a Docker image with your Jupyter Notebook server configuration.\n",
    "\n",
    "To run the Jupyter Notebook server in a container based on the image you just built, use the following command:"
   ]
  },
  {
   "cell_type": "code",
   "execution_count": null,
   "metadata": {},
   "outputs": [],
   "source": [
    "!docker run -p 8889:8889 jupyter_server"
   ]
  },
  {
   "cell_type": "markdown",
   "metadata": {},
   "source": [
    "The **-p 8889:8889** maps port 8889 from the container to port 8889 on the host machine. You can then access the Jupyter Notebook server by opening a web browser and navigating to http://localhost:8889 in the host machine. You'll see the Jupyter Notebook interface and can start working with your notebooks."
   ]
  }
 ],
 "metadata": {
  "kernelspec": {
   "display_name": "Python 3 (ipykernel)",
   "language": "python",
   "name": "python3"
  },
  "language_info": {
   "codemirror_mode": {
    "name": "ipython",
    "version": 3
   },
   "file_extension": ".py",
   "mimetype": "text/x-python",
   "name": "python",
   "nbconvert_exporter": "python",
   "pygments_lexer": "ipython3",
   "version": "3.9.12"
  }
 },
 "nbformat": 4,
 "nbformat_minor": 4
}
