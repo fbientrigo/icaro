{
 "cells": [
  {
   "cell_type": "markdown",
   "metadata": {},
   "source": [
    "# Introduction to Relational Databases with Python"
   ]
  },
  {
   "cell_type": "markdown",
   "metadata": {},
   "source": [
    "**La Serena School for Data Science: Applied Tools for Data-driven Science**, \n",
    "\n",
    "La Serena, August 2021.\n",
    "\n",
    "Mauro San Martín, \n",
    "`msmartin@userena.cl`"
   ]
  },
  {
   "cell_type": "markdown",
   "metadata": {},
   "source": [
    "This notebook is provided as supplementary material for the course **Introduction to Relational Databases** at the **La Serena School for Data Science: Applied Tools for Data-driven Science**, and its purpose is to support the work during the synchronic hands-on sesion (last part of the course)."
   ]
  },
  {
   "cell_type": "markdown",
   "metadata": {},
   "source": [
    "This notebook is organized as follows:\n",
    "1.\t*Preliminaries*. \n",
    "    What do you need to do before start to work with this notebook.\n",
    "2.\t*Creating a Database*. \n",
    "    Implementing a schema for the weather database. \n",
    "3.\t*Loading data into the database*. \n",
    "    Loading the data from csv files into the database.\n",
    "4.  *Querying the database*.\n",
    "    Examples of queries over the weather database.\n"
   ]
  },
  {
   "cell_type": "markdown",
   "metadata": {},
   "source": [
    "## Preliminaries"
   ]
  },
  {
   "cell_type": "markdown",
   "metadata": {},
   "source": [
    "The intent of this notebook is to be used during the class, to that end you need the proper software environment installed and working:\n",
    "\n",
    "- Base software: `python`, `ipython`, and `jupyter-notebooks` (If your computer did not have them before the school, you probably already install them in a previous course of the school). For the optional activities you will also need `mathplotlib`.\n",
    "\n",
    "- `sqlite3`:programming library that implements a self contained SQL database engine (www.sqlite.org)\n"
   ]
  },
  {
   "cell_type": "markdown",
   "metadata": {},
   "source": [
    "### Plan B: using an actual RDBMS (in case you have one)"
   ]
  },
  {
   "cell_type": "markdown",
   "metadata": {},
   "source": [
    ">***WARNING*** The information in this section is provided as a complement so you know how to connect to a RDBMS, however in this hands-on we will not use an RDBMS. If you want to try the code in this section you need to provide your own RDBMS."
   ]
  },
  {
   "cell_type": "markdown",
   "metadata": {},
   "source": [
    "If you want to execute the examples after the course, using an actual RDBMS like PostgreSQL, you will need access to a server where to configure the database (You may install [PostgreSQL](www.postgresql.org) in your computer). Once created, you will be able to populate the database with this notebook, as long the correct connection information is provided.\n",
    "\n",
    "You also will need the appropriate libraries:\n",
    "- Packages and extensions for database connection: `psycopg2`, `sqlAlchemy`, and `ipython-sql`.\n",
    "\n",
    "If `conda` is available in your computer, you can install `psycopg2` with \n",
    "\n",
    "`conda install psycopg2` \n",
    "\n",
    "To date it seems that `ipython-sql` is not available to `conda` in the official repository, but if you have a recent version of `conda` (or you used only pip all the way) you can install it with pip: \n",
    "\n",
    "`pip install ipython-sql` \n",
    "\n",
    "This also install `sqlAlchemy`.\n",
    "\n",
    "If there were no errors so far you should be ready to connect to the database.\n",
    "\n",
    "The following example can be used as a guide to connect to an RDBMS."
   ]
  },
  {
   "cell_type": "code",
   "execution_count": null,
   "metadata": {},
   "outputs": [],
   "source": [
    "#%tb\n",
    "#!/usr/bin/python\n",
    "# -*- coding: utf-8 -*-\n",
    "\n",
    "#step 1: import the package that implements the connector \n",
    "import psycopg2\n",
    "import sys\n",
    "\n",
    "con = None\n",
    "\n",
    "try:\n",
    "#step 2: create a connection     \n",
    "    con = psycopg2.connect(host='192.168.1.128', database='envdata', user='student', password='lssds2019') \n",
    "    cur = con.cursor()\n",
    "#step 3: issue a query. You can try the other SQL examples in here \n",
    "    cur.execute('SELECT * from bme680 LIMIT 10')          \n",
    "    rows = cur.fetchall()\n",
    "    for row in rows:\n",
    "        print (row)    \n",
    "    \n",
    "\n",
    "except psycopg2.DatabaseError as e:\n",
    "    print ('Error %s' % e)    \n",
    "    sys.exit(1)\n",
    "    \n",
    "    \n",
    "finally:\n",
    "    \n",
    "    if con:\n",
    "#step 4: close the connection\n",
    "        con.close()"
   ]
  },
  {
   "cell_type": "markdown",
   "metadata": {},
   "source": [
    "# Creating the database"
   ]
  },
  {
   "cell_type": "markdown",
   "metadata": {},
   "source": [
    "The following example implements a small database with data from  weather stations of the Centro de Estudios Avanzados en Zonas Áridas (CEAZA), www.ceazamet.cl.\n",
    "From this site we downloaded five years of daily data (min, avg, and max) from selected sensors of three stations nearby La Serena, each station has a different array of sensors.\n"
   ]
  },
  {
   "cell_type": "markdown",
   "metadata": {},
   "source": [
    "Data is available in five `.csv` files:\n",
    "- `stations.csv`: stations data.\n",
    "- `sensors.csv`: data of sensors available in each station.\n",
    "- `lsc.csv`: five years of daily measures (min, avg, and max) for selected sensors of La Serena - CEAZA station.\n",
    "- `cgr.csv`: five years of daily measures (min, avg, and max) for selected sensors of La Serena - Cerro Grande station.\n",
    "- `rmr.csv`: five years of daily measures (min, avg, and max) for selected sensors of La Serena - Romeral station."
   ]
  },
  {
   "cell_type": "code",
   "execution_count": null,
   "metadata": {},
   "outputs": [],
   "source": [
    "import pandas as pd\n",
    "import re"
   ]
  },
  {
   "cell_type": "code",
   "execution_count": null,
   "metadata": {},
   "outputs": [],
   "source": [
    "import sqlite3\n",
    "# Creates a connection to the SQLite database\n",
    "# This library only requires a file name, if the file exists opens the database, if not it creates a new one.\n",
    "con = sqlite3.connect(\"data/la_serena_wheather.sqlite\")\n",
    "cur = con.cursor()"
   ]
  },
  {
   "cell_type": "code",
   "execution_count": null,
   "metadata": {},
   "outputs": [],
   "source": [
    "#Delete tables (execute only if you want to start over)\n",
    "cur.execute('drop table if exists stations')\n",
    "cur.execute('drop table if exists sensors')\n",
    "cur.execute('drop table if exists daily_measures')"
   ]
  },
  {
   "cell_type": "code",
   "execution_count": null,
   "metadata": {
    "scrolled": true
   },
   "outputs": [],
   "source": [
    "#Create tables\n",
    "create_stations = '''create table if not exists stations(\n",
    "                                                     code text primary key,\n",
    "                                                     name text,\n",
    "                                                     lat  numeric,\n",
    "                                                     long numeric,\n",
    "                                                     first_measure timestamp,\n",
    "                                                     last_measure  timestamp,\n",
    "                                                     altitude numeric,\n",
    "                                                     altitude_unit text,\n",
    "                                                     power_source text)'''\n",
    "cur.execute(create_stations)\n",
    "\n",
    "create_sensors = '''create table if not exists sensors(\n",
    "                                                     station_code text,\n",
    "                                                     sensor_code  text,\n",
    "                                                     type         text,\n",
    "                                                     unit         text,\n",
    "                                                     height       numeric,\n",
    "                                                     height_unit  text,\n",
    "                                                     description text, \n",
    "                                                     primary key(station_code, sensor_code),\n",
    "                                                     foreign key(station_code) references stations(code))'''\n",
    "cur.execute(create_sensors)\n",
    "\n",
    "create_measures = '''create table if not exists daily_measures(\n",
    "                                                     station_code text,\n",
    "                                                     sensor_code  text,\n",
    "                                                     day          date,\n",
    "                                                     min          numeric,\n",
    "                                                     avg          numeric,\n",
    "                                                     max          numeric,\n",
    "                                                     primary key(station_code, sensor_code, day),\n",
    "                                                     foreign key(station_code, sensor_code) references sensors(station_code, sensor_code))'''\n",
    "cur.execute(create_measures)"
   ]
  },
  {
   "cell_type": "code",
   "execution_count": null,
   "metadata": {},
   "outputs": [],
   "source": [
    "#Check table creation\n",
    "result = cur.execute(\"SELECT name FROM sqlite_master WHERE type='table';\")\n",
    "for row in result:\n",
    "    print(row)"
   ]
  },
  {
   "cell_type": "markdown",
   "metadata": {},
   "source": [
    "## Loading data into the database"
   ]
  },
  {
   "cell_type": "code",
   "execution_count": null,
   "metadata": {},
   "outputs": [],
   "source": [
    "# Insert stations data \n",
    "weather_stations = pd.read_csv('data/weather stations.csv',sep=';')  \n",
    "#insert query string, question marks will be replaced by actual values on submission\n",
    "insert_stations = 'insert into stations values (?,?,?,?,?,?,?,?,?)'\n",
    "for i in range(len(weather_stations)):\n",
    "    code  = weather_stations.iloc[i]['code']\n",
    "    name  = weather_stations.iloc[i]['name']\n",
    "    lat   = weather_stations.iloc[i]['lat']\n",
    "    long  = weather_stations.iloc[i]['long']\n",
    "    first = weather_stations.iloc[i]['first measure timestamp']\n",
    "    last  = weather_stations.iloc[i]['last measure timestamp']\n",
    "    #note that we split de altitude column in two (magnitude and unit), before inserting in the table\n",
    "    altitude_lst = re.findall(r\"[\\w']+\",weather_stations.iloc[i]['altitude']) \n",
    "    altitude = altitude_lst[0]\n",
    "    altitude_unit = altitude_lst[1]\n",
    "    power_source = weather_stations.iloc[i]['power source']\n",
    "    #The query with the values are sent to the database\n",
    "    cur.execute(insert_stations, (code, name, lat, long, first, last, altitude, altitude_unit, power_source))\n"
   ]
  },
  {
   "cell_type": "code",
   "execution_count": null,
   "metadata": {},
   "outputs": [],
   "source": [
    "#Check insertion\n",
    "result = cur.execute(\"select * from stations\")\n",
    "for row in result:\n",
    "    print(row)"
   ]
  },
  {
   "cell_type": "code",
   "execution_count": null,
   "metadata": {},
   "outputs": [],
   "source": [
    "# Insert sensors data \n",
    "sensors = pd.read_csv('data/sensors.csv',sep=';')  \n",
    "#insert query string, question marks will be replaced by actual values on submission\n",
    "insert_sensors = 'insert into sensors values (?,?,?,?,?,?,?)'\n",
    "for i in range(len(sensors)):\n",
    "    station_code  = sensors.iloc[i]['station code']\n",
    "    sensor_code   = sensors.iloc[i]['sensor code']\n",
    "    sensor_type   = sensors.iloc[i]['type']\n",
    "    unit          = sensors.iloc[i]['unit']\n",
    "    #note that we split de height column in two (magnitude and unit), before inserting in the table\n",
    "    height_lst    = re.findall(r\"[\\w']+\",sensors.iloc[i]['h'])\n",
    "    height        = height_lst[0]\n",
    "    height_unit   = height_lst[1]\n",
    "    description   = sensors.iloc[i]['brand/model']\n",
    "    #The query with the values are sent to the database\n",
    "    cur.execute(insert_sensors, (station_code, sensor_code, sensor_type, unit, height, height_unit, description))\n"
   ]
  },
  {
   "cell_type": "code",
   "execution_count": null,
   "metadata": {},
   "outputs": [],
   "source": [
    "#Check insertion\n",
    "result = cur.execute(\"select * from sensors\")\n",
    "for row in result:\n",
    "    print(row)"
   ]
  },
  {
   "cell_type": "code",
   "execution_count": null,
   "metadata": {},
   "outputs": [],
   "source": [
    "#Function to load data from the sensors of the three included stations.\n",
    "#Note that structure of csv file and the daile_measures table do not match\n",
    "#csv files have groups of three columns (min, avg, and max) for each sensor included,\n",
    "#while daily_measures table has a fixed number of columns (station_code, sensor_code, day, min, avg, max),\n",
    "#so we need to process each row on the csv and made one separate insert foe each sensor found\n",
    "def load_measures(csv_file, station_code, head_lines, num_lines):\n",
    "    results = list()\n",
    "    measures = pd.read_csv(csv_file, sep=';', header = head_lines, nrows=num_lines)  \n",
    "    #prepares a lit of the sensors included (columns) in the csv file\n",
    "    cols = measures.columns\n",
    "    sensors = list()\n",
    "    for i in range(len(cols)):\n",
    "        x = re.findall(r\"[\\w']+\",cols[i])\n",
    "        if(len(x)) > 1:\n",
    "            sensors.append(x[1])\n",
    "    sensors = list(dict.fromkeys(sensors)) #eliminates duplicates \n",
    "    insert_measures = 'insert into daily_measures values (?,?,?,?,?,?)'\n",
    "    #for each row in csv file\n",
    "    for i in range(len(measures)):\n",
    "        day = measures.iloc[i]['date']\n",
    "        #for each sensor found\n",
    "        for sensor_code in sensors:\n",
    "            min_label = '[Min]' + sensor_code\n",
    "            avg_label = '[Avg]' + sensor_code\n",
    "            max_label = '[Max]' + sensor_code\n",
    "            Min = measures.iloc[i][min_label]\n",
    "            Avg = measures.iloc[i][avg_label]\n",
    "            Max = measures.iloc[i][max_label]\n",
    "            cur.execute(insert_measures, (station_code, sensor_code, day, Min, Avg, Max))\n"
   ]
  },
  {
   "cell_type": "code",
   "execution_count": null,
   "metadata": {},
   "outputs": [],
   "source": [
    "#Insert daily measures data using the function define above\n",
    "load_measures(\"data/lsc.csv\", \"LSC\", 3, 1827)\n",
    "load_measures(\"data/cgr.csv\", \"CGR\", 3, 1827)\n",
    "load_measures(\"data/rmr.csv\", \"RMR\", 3, 1827)"
   ]
  },
  {
   "cell_type": "code",
   "execution_count": null,
   "metadata": {},
   "outputs": [],
   "source": [
    "#Check insertion\n",
    "result = cur.execute(\"select * from daily_measures\")\n",
    "for row in result:\n",
    "    print(row)"
   ]
  },
  {
   "cell_type": "markdown",
   "metadata": {},
   "source": [
    "# Examples of Queries"
   ]
  },
  {
   "cell_type": "markdown",
   "metadata": {},
   "source": [
    "### Simple Queries"
   ]
  },
  {
   "cell_type": "markdown",
   "metadata": {},
   "source": [
    "List all the stations"
   ]
  },
  {
   "cell_type": "code",
   "execution_count": null,
   "metadata": {},
   "outputs": [],
   "source": [
    "result = cur.execute(\"select * from stations\")\n",
    "for row in result:\n",
    "    print(row)"
   ]
  },
  {
   "cell_type": "markdown",
   "metadata": {},
   "source": [
    "List all sensors (codes and types) in the station with code 'LSC'"
   ]
  },
  {
   "cell_type": "code",
   "execution_count": null,
   "metadata": {},
   "outputs": [],
   "source": [
    "result = cur.execute(\"SELECT sensor_code, type FROM sensors WHERE station_code = ‘LSC’\")\n",
    "for row in result:\n",
    "    print(row)\n",
    "SELECT sensor_code, type \n",
    "FROM sensors\n",
    "WHERE station_code = ‘LSC’; \n"
   ]
  },
  {
   "cell_type": "markdown",
   "metadata": {},
   "source": [
    "### Complex conditions"
   ]
  },
  {
   "cell_type": "markdown",
   "metadata": {},
   "source": [
    "List the daily `max` for a 'VV' sensor , between august 1st, 2016 and august 2nd, 2016,  if is greater than 5."
   ]
  },
  {
   "cell_type": "code",
   "execution_count": null,
   "metadata": {},
   "outputs": [],
   "source": [
    "result = cur.execute(\"select sensor_code, day, max from daily_measures where sensor_code = 'VV' and day>='2016-08-01' and day<='2016-08-02' and max>5\")\n",
    "for row in result:\n",
    "    print(row)"
   ]
  },
  {
   "cell_type": "markdown",
   "metadata": {},
   "source": [
    "### Joins"
   ]
  },
  {
   "cell_type": "markdown",
   "metadata": {},
   "source": [
    "Same as before, but instead of listing the `code` of the sensor list the`type`. This information (`type`) is not in the same table, so it is necesary to join the table `daily_measures` with the table `sensors`."
   ]
  },
  {
   "cell_type": "code",
   "execution_count": null,
   "metadata": {},
   "outputs": [],
   "source": [
    "result = cur.execute(\"select type, day, max from sensors, daily_measures where sensors.sensor_code = daily_measures.sensor_code and sensors.station_code = daily_measures.station_code and daily_measures.sensor_code = 'VV' and day>='2016-08-01' and day<='2016-08-02' and max>5\")\n",
    "for row in result:\n",
    "    print(row)"
   ]
  },
  {
   "cell_type": "markdown",
   "metadata": {},
   "source": [
    "### Gruping and Aggregation"
   ]
  },
  {
   "cell_type": "markdown",
   "metadata": {},
   "source": [
    "List the maximum wind speed by year."
   ]
  },
  {
   "cell_type": "code",
   "execution_count": null,
   "metadata": {},
   "outputs": [],
   "source": [
    "result = cur.execute(\"select strftime('%Y',day) as year, max(max) as year_max_wind_speed from daily_measures where sensor_code = 'VV' group by year\")\n",
    "for row in result:\n",
    "    print(row)"
   ]
  },
  {
   "cell_type": "code",
   "execution_count": null,
   "metadata": {},
   "outputs": [],
   "source": [
    "#Close the conectión to the database\n",
    "con.close()"
   ]
  },
  {
   "cell_type": "markdown",
   "metadata": {},
   "source": [
    "# Proposed Activities"
   ]
  },
  {
   "cell_type": "markdown",
   "metadata": {},
   "source": [
    "1. Try update operations. Could you identify one that is not allowd by referential integrity contraints? (foreign keys)\n",
    "2. Locate a type of measure present in all stations, make a graph to compare the evolution in time of this measure in the available data.\n",
    "3. Add aditional data from ceazamet.cl to the database. For instance another station, with similar sensors, in the same date range. "
   ]
  },
  {
   "cell_type": "markdown",
   "metadata": {},
   "source": [
    "### 1. Update Operations"
   ]
  },
  {
   "cell_type": "markdown",
   "metadata": {},
   "source": [
    "Insert a new station"
   ]
  },
  {
   "cell_type": "code",
   "execution_count": null,
   "metadata": {},
   "outputs": [],
   "source": [
    "query = \"\"\"insert into stations values('UCN', 'UCN Guayacan', -29.96663, -71.352844, 1, 'msnm', 'Panel solar 30W')\n",
    "        \"\"\"\n",
    "result = cur.execute(query)\n",
    "for row in result:\n",
    "    print(row)"
   ]
  },
  {
   "cell_type": "markdown",
   "metadata": {},
   "source": [
    "Try to insert a new station, with a duplicate key"
   ]
  },
  {
   "cell_type": "code",
   "execution_count": null,
   "metadata": {},
   "outputs": [],
   "source": [
    "query = \"\"\"insert into stations values('UCN', 'UCN another', -29.97, -71.352844, 1, 'msnm', 'Panel solar 30W')\n",
    "        \"\"\"\n",
    "result = cur.execute(query)\n",
    "for row in result:\n",
    "    print(row)"
   ]
  },
  {
   "cell_type": "markdown",
   "metadata": {},
   "source": [
    "Delete a station without sensors "
   ]
  },
  {
   "cell_type": "code",
   "execution_count": null,
   "metadata": {},
   "outputs": [],
   "source": [
    "query = \"\"\"delete from stations where code = 'UCN'\n",
    "        \"\"\"\n",
    "result = cur.execute(query)\n",
    "for row in result:\n",
    "    print(row)"
   ]
  },
  {
   "cell_type": "markdown",
   "metadata": {},
   "source": [
    "Try to delete a station with sensors "
   ]
  },
  {
   "cell_type": "code",
   "execution_count": null,
   "metadata": {},
   "outputs": [],
   "source": [
    "query = \"\"\"delete from stations where code = 'LSC'\n",
    "        \"\"\"\n",
    "result = cur.execute(query)\n",
    "for row in result:\n",
    "    print(row)"
   ]
  },
  {
   "cell_type": "code",
   "execution_count": null,
   "metadata": {},
   "outputs": [],
   "source": []
  },
  {
   "cell_type": "markdown",
   "metadata": {},
   "source": [
    "### 2. Graph"
   ]
  },
  {
   "cell_type": "markdown",
   "metadata": {},
   "source": [
    "We will use `Solar Radiation` because it is available in all three stations.\n",
    "First we need to extract the required data from the database: solar radiation for each station. We will perforn one query for each station to retrieve monthly averages of maximum values recorded. "
   ]
  },
  {
   "cell_type": "markdown",
   "metadata": {},
   "source": [
    "..."
   ]
  },
  {
   "cell_type": "code",
   "execution_count": null,
   "metadata": {},
   "outputs": [],
   "source": []
  },
  {
   "cell_type": "code",
   "execution_count": null,
   "metadata": {},
   "outputs": [],
   "source": []
  },
  {
   "cell_type": "code",
   "execution_count": null,
   "metadata": {},
   "outputs": [],
   "source": []
  },
  {
   "cell_type": "code",
   "execution_count": null,
   "metadata": {},
   "outputs": [],
   "source": []
  }
 ],
 "metadata": {
  "kernelspec": {
   "display_name": "Python 3 (ipykernel)",
   "language": "python",
   "name": "python3"
  },
  "language_info": {
   "codemirror_mode": {
    "name": "ipython",
    "version": 3
   },
   "file_extension": ".py",
   "mimetype": "text/x-python",
   "name": "python",
   "nbconvert_exporter": "python",
   "pygments_lexer": "ipython3",
   "version": "3.8.5"
  }
 },
 "nbformat": 4,
 "nbformat_minor": 4
}
