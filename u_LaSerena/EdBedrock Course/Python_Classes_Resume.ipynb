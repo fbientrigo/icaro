{
    "metadata": {
        "kernelspec": {
            "name": "python3",
            "display_name": "Python 3",
            "language": "python"
        }
    },
    "nbformat": 4,
    "nbformat_minor": 4,
    "cells": [
        {
            "attachments": {},
            "cell_type": "markdown",
            "metadata": {},
            "source": [
                "# Python Class Basics\n",
                "\n",
                "A class is a blueprint of the object that we want to create. We use the `class` keyword to start our class definition. `pass` is a null statement (it does nothing) but it allows us to define the class with no content without an error message. \n",
                "\n",
                "In this tutorial we will do something very simple: calculate the areas of various circles!\n",
                "\n",
                "**syntax note: by convention classes are capitalized to avoid mistaking them with instances.**"
            ]
        },
        {
            "cell_type": "code",
            "execution_count": 1,
            "metadata": {},
            "outputs": [],
            "source": [
                "class Circle:\n",
                "    pass"
            ]
        },
        {
            "attachments": {},
            "cell_type": "markdown",
            "metadata": {},
            "source": [
                "### Class attributes\n",
                "\n",
                "Our class can have class level attributes which will be shared by all instances of a class. What follows is a simple toy example:"
            ]
        },
        {
            "cell_type": "code",
            "execution_count": 2,
            "metadata": {},
            "outputs": [],
            "source": [
                "class Circle:\n",
                "    pi = 3.14159265359"
            ]
        },
        {
            "attachments": {},
            "cell_type": "markdown",
            "metadata": {},
            "source": [
                "We can then access this class attribute as follows, without having to declare an instance!:"
            ]
        },
        {
            "cell_type": "code",
            "execution_count": 16,
            "metadata": {},
            "outputs": [
                {
                    "data": {
                        "text/plain": "3.14159265359"
                    },
                    "execution_count": 16,
                    "metadata": {},
                    "output_type": "execute_result"
                }
            ],
            "source": [
                "Circle.pi"
            ]
        },
        {
            "attachments": {},
            "cell_type": "markdown",
            "metadata": {},
            "source": [
                "Class instances will also share class attributes. We can declare instances with function notation:"
            ]
        },
        {
            "cell_type": "code",
            "execution_count": 3,
            "metadata": {},
            "outputs": [
                {
                    "data": {
                        "text/plain": "3.14159265359"
                    },
                    "execution_count": 3,
                    "metadata": {},
                    "output_type": "execute_result"
                }
            ],
            "source": [
                "#create a circle object instance\n",
                "my_circle = Circle()\n",
                "my_circle.pi"
            ]
        },
        {
            "attachments": {},
            "cell_type": "markdown",
            "metadata": {},
            "source": [
                "### Classes vs. instances\n",
                "\n",
                "A python class is like a blueprint of an object (or a class of object)we want to build . Only once we call this class do we get an object that we can work with."
            ]
        },
        {
            "attachments": {},
            "cell_type": "markdown",
            "metadata": {},
            "source": [
                "### Instance Methods\n",
                "\n",
                "We can define methods in a class, which are functions which belong to the class. Instance methods use object attributes and must be fed the `self` keyword. (actually self is an arbitrary name but it is a good choice by convention). "
            ]
        },
        {
            "cell_type": "code",
            "execution_count": 17,
            "metadata": {},
            "outputs": [
                {
                    "data": {
                        "text/plain": "78.53981633975"
                    },
                    "execution_count": 17,
                    "metadata": {},
                    "output_type": "execute_result"
                }
            ],
            "source": [
                "class Circle:\n",
                "    #define a class attribute\n",
                "    pi = 3.14159265359\n",
                "    #define an instance attribute.\n",
                "    def area(self, radius):\n",
                "        return self.pi * radius ** 2\n",
                "my_circle = Circle()\n",
                "my_circle.area(radius = 5)"
            ]
        },
        {
            "attachments": {},
            "cell_type": "markdown",
            "metadata": {},
            "source": [
                "# Instance attributes\n",
                "\n",
                "Instance attributes vary from class attributes because they are instance specific. Continuing with our circle example, we might want our circles to save their area instead of returning it. In this case, my_circle.area is an instance attribute because it is an object specific value.\n",
                "\n",
                "**A good way to remember the difference between class and instance attributes is that class attributes are the same for all the objects of a class while instance attributes depend on instance methods and will vary for each instance.**"
            ]
        },
        {
            "cell_type": "code",
            "execution_count": 23,
            "metadata": {},
            "outputs": [
                {
                    "name": "stdout",
                    "output_type": "stream",
                    "text": "78.53981633975\n"
                }
            ],
            "source": [
                "class Circle:\n",
                "    #define a class attribute\n",
                "    pi = 3.14159265359\n",
                "    #define an instance attribute.\n",
                "    def calc_area(self, radius):\n",
                "        self.area = self.pi * radius ** 2\n",
                "    \n",
                "my_circle = Circle()\n",
                "my_circle.calc_area(radius = 5)\n",
                "print(my_circle.area)"
            ]
        },
        {
            "attachments": {},
            "cell_type": "markdown",
            "metadata": {},
            "source": [
                "# Changing instance attributes on the fly\n",
                "It is very easy to change object attributes on the fly."
            ]
        },
        {
            "cell_type": "code",
            "execution_count": 6,
            "metadata": {},
            "outputs": [
                {
                    "name": "stdout",
                    "output_type": "stream",
                    "text": "78.53981633975\n10\n"
                }
            ],
            "source": [
                "class Circle:\n",
                "    #define a class attribute\n",
                "    pi = 3.14159265359\n",
                "    #define an instance attribute.\n",
                "    def calc_area(self, radius):\n",
                "        self.area = self.pi * radius ** 2\n",
                "    \n",
                "my_circle = Circle()\n",
                "my_circle.calc_area(radius = 5)\n",
                "print(my_circle.area)\n",
                "my_circle.area = 10\n",
                "print(my_circle.area)"
            ]
        },
        {
            "cell_type": "code",
            "execution_count": 10,
            "metadata": {},
            "outputs": [],
            "source": [
                "def calc_area(self, radius):\n",
                "    print(\"new function!\")\n",
                "    self.area = self.pi * radius * radius"
            ]
        },
        {
            "cell_type": "code",
            "execution_count": 11,
            "metadata": {},
            "outputs": [],
            "source": [
                "Circle.calc_area = calc_area"
            ]
        },
        {
            "cell_type": "code",
            "execution_count": 12,
            "metadata": {},
            "outputs": [
                {
                    "name": "stdout",
                    "output_type": "stream",
                    "text": "new function!\n78.53981633974999\n10\n"
                }
            ],
            "source": [
                "my_circle = Circle()\n",
                "my_circle.calc_area(radius = 5)\n",
                "print(my_circle.area)\n",
                "my_circle.area = 10\n",
                "print(my_circle.area)"
            ]
        },
        {
            "attachments": {},
            "cell_type": "markdown",
            "metadata": {},
            "source": [
                "But this didn't make a lot of sense. We should be saving the circle's radius and then deriving the area from that. In fact, it would make more sense if the radius attribute were assigned to the circle upon instantiation. With classes, we can do just that!"
            ]
        },
        {
            "attachments": {},
            "cell_type": "markdown",
            "metadata": {},
            "source": [
                "# `__init__`, our first dunder method\n",
                "\n",
                "Dunder stands for double underscore method. we will have more to say about dunder methods later on. For now just know that these are reserved methods which perform important functions that we can customize!\n",
                "\n",
                "`__init__` initializes an instance by assigning attributes and calling methods upon object creation. Just as with an instance method we must pass the object itself to the method."
            ]
        },
        {
            "cell_type": "code",
            "execution_count": 5,
            "metadata": {},
            "outputs": [
                {
                    "name": "stdout",
                    "output_type": "stream",
                    "text": "3.14159265359\n"
                }
            ],
            "source": [
                "class Circle:\n",
                "    pi = 3.14159265359\n",
                "    def __init__(self, radius):\n",
                "        self.radius = radius\n",
                "        self.calc_area()\n",
                "    def calc_area(self):\n",
                "        self.area = self.pi * self.radius ** 2\n",
                "        return self.area\n",
                "my_circle = Circle(radius = 1)\n",
                "print(my_circle.area)"
            ]
        },
        {
            "attachments": {},
            "cell_type": "markdown",
            "metadata": {},
            "source": [
                "A class is usually a generalization of the objects it can create. For example, different circles might have different radii, but share the same functions **(methods)** needed to calculate area and circumference. Different circle instances will therefore have different dimensions!"
            ]
        },
        {
            "cell_type": "code",
            "execution_count": 10,
            "metadata": {},
            "outputs": [],
            "source": [
                "tiny_circle = Circle(radius = 0.01)\n",
                "medium_circle = Circle(2)\n",
                "large_circle = Circle(10000)"
            ]
        },
        {
            "attachments": {},
            "cell_type": "markdown",
            "metadata": {},
            "source": [
                "The `vars()` fuction will return a dictionary of an instances attributes and associated values."
            ]
        },
        {
            "cell_type": "code",
            "execution_count": 12,
            "metadata": {},
            "outputs": [
                {
                    "name": "stdout",
                    "output_type": "stream",
                    "text": "{'radius': 0.01, 'area': 0.000314159265359}\n{'radius': 2, 'area': 12.56637061436}\n{'radius': 10000, 'area': 314159265.359}\n"
                }
            ],
            "source": [
                "for circle in [tiny_circle, medium_circle, large_circle]:\n",
                "    print(vars(circle))"
            ]
        },
        {
            "attachments": {},
            "cell_type": "markdown",
            "metadata": {},
            "source": [
                "### Modifying attributes on the fly\n",
                "\n",
                "In lecture we pointed out that the Tesla analogy was bad because in real life you can change attributes of objects on the fly after they leave the production line. This is not true for our python object instances!"
            ]
        },
        {
            "cell_type": "code",
            "execution_count": 17,
            "metadata": {},
            "outputs": [
                {
                    "name": "stdout",
                    "output_type": "stream",
                    "text": "3.14159265359e-14\n"
                }
            ],
            "source": [
                "large_circle.radius = 0.0000001\n",
                "large_circle.calc_area()\n",
                "print(large_circle.area)"
            ]
        },
        {
            "attachments": {},
            "cell_type": "markdown",
            "metadata": {},
            "source": [
                "# Docstrings"
            ]
        },
        {
            "attachments": {},
            "cell_type": "markdown",
            "metadata": {},
            "source": [
                "Docstrings are how we can add documentation to our classes and functions.\n",
                "\n",
                "In a jupyter notebook this documentation can easily be accessed with `shift+tab`. On ed you need to use the `.__doc__`attribute. Professional code always comes with documentation, an example of which is below:"
            ]
        },
        {
            "cell_type": "code",
            "execution_count": 13,
            "metadata": {},
            "outputs": [],
            "source": [
                "class Circle:\n",
                "    \"\"\"a simple circle python class\"\"\"\n",
                "    pi = 3.14159265359\n",
                "    def __init__(self, radius):\n",
                "        \"\"\"\n",
                "        Parameters\n",
                "        -------\n",
                "        radius: float\n",
                "            the radius of the circle\n",
                "        \"\"\"\n",
                "        self.radius = radius\n",
                "    def calc_area(self):\n",
                "        \"\"\" calculates the area of a circle\n",
                "        Returns\n",
                "        -------\n",
                "        area: float\n",
                "            the area of a circle\n",
                "        \"\"\"\n",
                "        self.area = self.pi * self.radius ** 2\n",
                "        return self.area\n",
                "\n",
                ""
            ]
        },
        {
            "cell_type": "code",
            "execution_count": 14,
            "metadata": {},
            "outputs": [
                {
                    "name": "stdout",
                    "output_type": "stream",
                    "text": "a simple circle python class\n"
                }
            ],
            "source": [
                "print(Circle.__doc__)"
            ]
        },
        {
            "cell_type": "code",
            "execution_count": 15,
            "metadata": {},
            "outputs": [
                {
                    "name": "stdout",
                    "output_type": "stream",
                    "text": " calculates the area of a circle\n        Returns\n        -------\n        area: float\n            the area of a circle\n        \n"
                }
            ],
            "source": [
                "my_circle = Circle(radius = 1)\n",
                "my_circle.calc_area()\n",
                "print(my_circle.calc_area.__doc__)"
            ]
        },
        {
            "attachments": {},
            "cell_type": "markdown",
            "metadata": {},
            "source": [
                "# Bonus: Scope"
            ]
        },
        {
            "attachments": {},
            "cell_type": "markdown",
            "metadata": {},
            "source": [
                "the `locals()` function will print out a dictionary showing all the variables in the local environment."
            ]
        },
        {
            "cell_type": "code",
            "execution_count": 20,
            "metadata": {},
            "outputs": [
                {
                    "data": {
                        "text/plain": "dict_keys(['__name__', '__doc__', '__package__', '__loader__', '__spec__', '__builtin__', '__builtins__', '_ih', '_oh', '_dh', 'In', 'Out', 'get_ipython', 'exit', 'quit', '_', '__', '___', 'Circle', 'my_circle', '_1', 'tiny_circle', 'medium_circle', 'large_circle', 'circle'])"
                    },
                    "execution_count": 20,
                    "metadata": {},
                    "output_type": "execute_result"
                }
            ],
            "source": [
                "locals().keys()#TODO"
            ]
        },
        {
            "attachments": {},
            "cell_type": "markdown",
            "metadata": {},
            "source": [
                "This is quite daunting in the context of the ipython environment we find ourselves in but can be useful for determining the scope if a class environment:"
            ]
        },
        {
            "cell_type": "code",
            "execution_count": 16,
            "metadata": {},
            "outputs": [
                {
                    "name": "stdout",
                    "output_type": "stream",
                    "text": "init:{'self': \u003c__main__.Circle object at 0x7f2aafe92130\u003e, 'radius': 1}\ncalc:{'self': \u003c__main__.Circle object at 0x7f2aafe92130\u003e}\n3.14159265359\na simple circle python class\n calculates the area of a circle\n        Returns\n        -------\n        area: float\n            the area of a circle\n        \n"
                }
            ],
            "source": [
                "class Circle:\n",
                "    \"\"\"a simple circle python class\"\"\"\n",
                "    pi = 3.14159265359\n",
                "    def __init__(self, radius):\n",
                "        \"\"\"\n",
                "        Parameters\n",
                "        -------\n",
                "        radius: float\n",
                "            the radius of the circle\n",
                "        \"\"\"\n",
                "        print(\"init:\" + str(locals()))\n",
                "        self.radius = radius\n",
                "    def calc_area(self):\n",
                "        \"\"\" calculates the area of a circle\n",
                "        Returns\n",
                "        -------\n",
                "        area: float\n",
                "            the area of a circle\n",
                "        \"\"\"\n",
                "        print(\"calc:\" + str(locals()))\n",
                "        self.area = self.pi * self.radius ** 2\n",
                "        return self.area\n",
                "\n",
                "my_circle = Circle(radius = 1)\n",
                "my_circle.calc_area()\n",
                "print(my_circle.area)\n",
                "\n",
                "print(Circle.__doc__)\n",
                "\n",
                "print(my_circle.calc_area.__doc__)"
            ]
        }
    ]
}
