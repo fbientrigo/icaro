{
    "metadata": {
        "kernelspec": {
            "name": "python3",
            "display_name": "Python 3 (ipykernel)",
            "language": "python"
        }
    },
    "nbformat": 4,
    "nbformat_minor": 0,
    "cells": [
        {
            "attachments": {},
            "cell_type": "markdown",
            "metadata": {},
            "source": [
                "# FIFA Stats Analysis"
            ]
        },
        {
            "cell_type": "code",
            "execution_count": 1,
            "metadata": {},
            "outputs": [],
            "source": [
                "#import helper function and read data\n",
                "from supp_cha import read_data\n",
                "data,int_val = read_data()"
            ]
        },
        {
            "cell_type": "code",
            "execution_count": 2,
            "metadata": {},
            "outputs": [
                {
                    "name": "stdout",
                    "output_type": "stream",
                    "text": "[[158023, 'https://sofifa.com/player/158023/lionel-messi/20/159586', 'L. Messi', 'Lionel Andrés Messi Cuccittini', '24-06-1987', 170, 'Argentina', 'FC Barcelona', 94, 94, 95500000, 565000, 'RW, CF, ST', 'Left', 'Medium/Low', 'Messi', 'Yes', 195800000, '#Dribbler, #Distance Shooter, #Crosser, #FK Specialist, #Acrobat, #Clinical Finisher, #Complete Forward', 'RW', nan, '01-07-2004', 2021, nan, 87.0, 92.0, 92.0, 96.0, 39.0, 66.0, nan, nan, nan, nan, nan, nan, 'Beat Offside Trap, Argues with Officials, Early Crosser, Finesse Shot, Speed Dribbler (CPU AI Only), 1-on-1 Rush, Giant Throw-in, Outside Foot Shot', 88, 95, 70, 92, 88, 97, 93, 94, 92, 96, 91, 84, 93, 95, 95, 86, 68, 75, 68, 94, 48, 40, 94, 94, 75, 96, 33, 37, 26, 6, 11, 15, 14, 8, '89+2', '89+2', '89+2', '93+2', '93+2', '93+2', '93+2', '93+2', '93+2', '93+2', '93+2', '92+2', '87+2', '87+2', '87+2', '92+2', '68+2', '66+2', '66+2', '66+2', '68+2', '63+2', '52+2', '52+2', '52+2', '63+2'], [20801, 'https://sofifa.com/player/20801/c-ronaldo-dos-santos-aveiro/20/159586', 'Cristiano Ronaldo', 'Cristiano Ronaldo dos Santos Aveiro', '05-02-1985', 187, 'Portugal', 'Juventus', 93, 93, 58500000, 405000, 'ST, LW', 'Right', 'High/Low', 'C. Ronaldo', 'Yes', 96500000, '#Speedster, #Dribbler, #Distance Shooter, #Acrobat, #Clinical Finisher, #Complete Forward', 'LW', nan, '10-07-2018', 2022, 'LS', 90.0, 93.0, 82.0, 89.0, 35.0, 78.0, nan, nan, nan, nan, nan, nan, 'Long Throw-in, Selfish, Argues with Officials, Early Crosser, Speed Dribbler (CPU AI Only), Skilled Dribbling', 84, 94, 89, 83, 87, 89, 81, 76, 77, 92, 89, 91, 87, 96, 71, 95, 95, 85, 78, 93, 63, 29, 95, 82, 85, 95, 28, 32, 24, 7, 11, 15, 14, 11, '91+3', '91+3', '91+3', '89+3', '90+3', '90+3', '90+3', '89+3', '88+3', '88+3', '88+3', '88+3', '81+3', '81+3', '81+3', '88+3', '65+3', '61+3', '61+3', '61+3', '65+3', '61+3', '53+3', '53+3', '53+3', '61+3'], [190871, 'https://sofifa.com/player/190871/neymar-da-silva-santos-jr/20/159586', 'Neymar Jr', 'Neymar da Silva Santos Junior', '05-02-1992', 175, 'Brazil', 'Paris Saint-Germain', 92, 92, 105500000, 290000, 'LW, CAM', 'Right', 'High/Medium', 'Neymar', 'Yes', 195200000, '#Speedster, #Dribbler, #Playmaker\\xa0 , #Crosser, #FK Specialist, #Acrobat, #Clinical Finisher, #Complete Midfielder, #Complete Forward', 'CAM', nan, '03-08-2017', 2022, 'LW', 91.0, 85.0, 87.0, 95.0, 32.0, 58.0, nan, nan, nan, nan, nan, nan, 'Power Free-Kick, Injury Free, Selfish, Early Crosser, Speed Dribbler (CPU AI Only), Crowd Favourite', 87, 87, 62, 87, 87, 96, 88, 87, 81, 95, 94, 89, 96, 92, 84, 80, 61, 81, 49, 84, 51, 36, 87, 90, 90, 94, 27, 26, 29, 9, 9, 15, 15, 11, '84+3', '84+3', '84+3', '90+3', '89+3', '89+3', '89+3', '90+3', '90+3', '90+3', '90+3', '89+3', '82+3', '82+3', '82+3', '89+3', '66+3', '61+3', '61+3', '61+3', '66+3', '61+3', '46+3', '46+3', '46+3', '61+3'], [200389, 'https://sofifa.com/player/200389/jan-oblak/20/159586', 'J. Oblak', 'Jan Oblak', '07-01-1993', 188, 'Slovenia', 'Atlético Madrid', 91, 93, 77500000, 125000, 'GK', 'Right', 'Medium/Medium', 'Normal', 'Yes', 164700000, nan, 'GK', nan, '16-07-2014', 2023, 'GK', nan, nan, nan, nan, nan, nan, 87.0, 92.0, 78.0, 89.0, 52.0, 90.0, 'Flair, Acrobatic Clearance', 13, 11, 15, 43, 13, 12, 13, 14, 40, 30, 43, 60, 67, 88, 49, 59, 78, 41, 78, 12, 34, 19, 11, 65, 11, 68, 27, 12, 18, 87, 92, 78, 90, 89, nan, nan, nan, nan, nan, nan, nan, nan, nan, nan, nan, nan, nan, nan, nan, nan, nan, nan, nan, nan, nan, nan, nan, nan, nan, nan], [183277, 'https://sofifa.com/player/183277/eden-hazard/20/159586', 'E. Hazard', 'Eden Hazard', '07-01-1991', 175, 'Belgium', 'Real Madrid', 91, 91, 90000000, 470000, 'LW, CF', 'Right', 'High/Medium', 'Normal', 'Yes', 184500000, '#Speedster, #Dribbler, #Acrobat', 'LW', nan, '01-07-2019', 2024, 'LF', 91.0, 83.0, 86.0, 94.0, 35.0, 66.0, nan, nan, nan, nan, nan, nan, 'Beat Offside Trap, Selfish, Finesse Shot, Speed Dribbler (CPU AI Only), Crowd Favourite', 81, 84, 61, 89, 83, 95, 83, 79, 83, 94, 94, 88, 95, 90, 94, 82, 56, 84, 63, 80, 54, 41, 87, 89, 88, 91, 34, 27, 22, 11, 12, 6, 8, 8, '83+3', '83+3', '83+3', '89+3', '88+3', '88+3', '88+3', '89+3', '89+3', '89+3', '89+3', '89+3', '83+3', '83+3', '83+3', '89+3', '66+3', '63+3', '63+3', '63+3', '66+3', '61+3', '49+3', '49+3', '49+3', '61+3']]\n"
                }
            ],
            "source": [
                "#Take a look at first entry of the data\n",
                "print(data[:5])"
            ]
        },
        {
            "attachments": {},
            "cell_type": "markdown",
            "metadata": {},
            "source": [
                "## Finding average of all stats of a player\n",
                "The data is a list of lists, each list contains player details of which stats are a part of, but you need to extract those stats. Lets start out by filtering only integer values from one element (i.e `data[0]`)\n",
                "\n",
                "Use the `int_val` datatype which we got from the `read_data()` above to check if it is an integer "
            ]
        },
        {
            "cell_type": "code",
            "execution_count": 3,
            "metadata": {},
            "outputs": [
                {
                    "name": "stdout",
                    "output_type": "stream",
                    "text": "[158023, 170, 94, 94, 95500000]\n"
                }
            ],
            "source": [
                "#Use filter function to get only integer entries\n",
                "#Print values to check all integers\n",
                "filter_int = list(filter(lambda x: type(x) == int_val, data[0]))\n",
                "print(filter_int[:5])"
            ]
        },
        {
            "attachments": {},
            "cell_type": "markdown",
            "metadata": {},
            "source": [
                "## Further filter\n",
                "You must have observed that stats are less than 2-digit only.  So write a function which takes a number as input and returns `True` if the number is a 1-digit or a 2-digit number, or `False` otherwise.\n",
                "1. Floor divide the number by 10 and keep updating number of digits until you get the number to 0.\n",
                "\n",
                "2. If the number is a 1 or 2-digit number, return `True` (as filter needs a function that returns boolean value). \n",
                "\n",
                "3. Return `False` otherwise."
            ]
        },
        {
            "cell_type": "code",
            "execution_count": 4,
            "metadata": {},
            "outputs": [],
            "source": [
                "# Write a function which takes a number as an input\n",
                "# It should count the number of digits in the number\n",
                "# And check if the number is a 1 or 2-digit number then return True \n",
                "# Return False for any other case\n",
                "def count_digit(num):\n",
                "  digits = 0\n",
                "  while(num != 0):\n",
                "    num = num // 10\n",
                "    digits += 1\n",
                "  return digits\n",
                "\n",
                "def is_count_digit(num):\n",
                "  if count_digit(num) == 1:\n",
                "    return True\n",
                "  elif count_digit(num) == 2:\n",
                "    return True\n",
                "  else:\n",
                "    return False"
            ]
        },
        {
            "cell_type": "code",
            "execution_count": 10,
            "metadata": {},
            "outputs": [
                {
                    "name": "stdout",
                    "output_type": "stream",
                    "text": "[88, 99, 110, 121, 132, 143, 154]\n"
                },
                {
                    "data": {
                        "text/plain": "[True, True, False, False, False, False, False]"
                    },
                    "execution_count": 10,
                    "metadata": {},
                    "output_type": "execute_result"
                }
            ],
            "source": [
                "# Test your function by calling it on various numbers\n",
                "numbers = [11*n for n in range(8,15)]\n",
                "print(numbers)\n",
                "list(map(lambda x: is_count_digit(x), numbers))"
            ]
        },
        {
            "attachments": {},
            "cell_type": "markdown",
            "metadata": {},
            "source": [
                "Using the function declared above filter out only the 2-digit integers from the data"
            ]
        },
        {
            "cell_type": "code",
            "execution_count": 11,
            "metadata": {},
            "outputs": [
                {
                    "name": "stdout",
                    "output_type": "stream",
                    "text": "[94, 94, 88, 95, 70]\n"
                }
            ],
            "source": [
                "# Using the function above filter out integers with 1 or 2 digits only\n",
                "player_stats = list(filter(\n",
                "    lambda x: is_count_digit(x), filter_int\n",
                "))\n",
                "print(player_stats[:5])"
            ]
        },
        {
            "attachments": {},
            "cell_type": "markdown",
            "metadata": {},
            "source": [
                "## Take average\n",
                "average all the 1 and 2-digit integers so that you have an all-round statistics average for player 1 (i.e `data[0]`)"
            ]
        },
        {
            "cell_type": "code",
            "execution_count": 12,
            "metadata": {},
            "outputs": [
                {
                    "name": "stdout",
                    "output_type": "stream",
                    "text": "70.52777777777777\n"
                }
            ],
            "source": [
                "# Using the sum() and len() get the mean of filtered list\n",
                "mean = sum(player_stats)/len(player_stats)\n",
                "print(mean)"
            ]
        },
        {
            "attachments": {},
            "cell_type": "markdown",
            "metadata": {},
            "source": [
                "## Map\n",
                "Define a function which takes elements of dataset as input and returns the mean of 1 and 2-digit integers. Implement this using the `filter()` function and the `count_digit` function we built earlier\n",
                "\n",
                "Use this function to calculate average values for all entries in the data list using the `map()` function"
            ]
        },
        {
            "cell_type": "code",
            "execution_count": 13,
            "metadata": {},
            "outputs": [],
            "source": [
                "# Define a function which filters out 1 and 2 digit integers\n",
                "# It should calculate their mean and return it\n",
                "def value_cal(datapoint):\n",
                "  filter_int = list(filter(lambda x: type(x) == int_val, datapoint))\n",
                "  player_stats = list(filter(\n",
                "      lambda x: is_count_digit(x), filter_int\n",
                "  ))\n",
                "  mean = sum(player_stats)/len(player_stats)\n",
                "  return mean"
            ]
        },
        {
            "cell_type": "code",
            "execution_count": 14,
            "metadata": {},
            "outputs": [
                {
                    "name": "stdout",
                    "output_type": "stream",
                    "text": "[70.52777777777777, 69.69444444444444, 67.77777777777777, 46.22222222222222, 67.16666666666667]\n"
                }
            ],
            "source": [
                "# Use the map function to generate average for all elements of data\n",
                "average_vals = list(\n",
                "    map(lambda X: value_cal(X),data)\n",
                ")\n",
                "print(average_vals[:5])"
            ]
        },
        {
            "attachments": {},
            "cell_type": "markdown",
            "metadata": {},
            "source": [
                "## Sort\n",
                "Sort your data list in increasing order of all-round potential(average of 1 and 2-digit integers), using the `sorted()` function"
            ]
        },
        {
            "cell_type": "code",
            "execution_count": 26,
            "metadata": {},
            "outputs": [
                {
                    "name": "stdout",
                    "output_type": "stream",
                    "text": "(46.22222222222222, 47.083333333333336, 65.80555555555556, 67.16666666666667, 67.77777777777777, 68.61111111111111, 69.69444444444444, 70.52777777777777, 70.55555555555556, 70.80555555555556)\n['L. Messi', 'Cristiano Ronaldo', 'Neymar Jr', 'J. Oblak', 'E. Hazard', 'K. De Bruyne', 'M. ter Stegen', 'V. van Dijk', 'L. Modrić', 'M. Salah']\n"
                }
            ],
            "source": [
                "#Sort the data in increasing order of the average calculated\n",
                "\n",
                "# HINT: assign an appropriate key to the sorted function\n",
                "avg_sort = sorted(list(zip(data, average_vals)), key = lambda x: x[1])\n",
                "\n",
                "#Use map function on the sorted list to get only names from elements\n",
                "# HINT: name is the third element in the list\n",
                "average_vals = list(zip(*avg_sort))[1]\n",
                "avg_sort_names = list(map(lambda z: z[2],list(zip(*avg_sort))[0]))\n",
                "\n",
                "print(average_vals)\n",
                "print(avg_sort_names)"
            ]
        },
        {
            "attachments": {},
            "cell_type": "markdown",
            "metadata": {},
            "source": [
                "Who is the player with the best all-round rating?"
            ]
        },
        {
            "cell_type": "code",
            "execution_count": 22,
            "metadata": {},
            "outputs": [
                {
                    "name": "stdout",
                    "output_type": "stream",
                    "text": "70.80555555555556\nM. Salah\n"
                }
            ],
            "source": [
                "print(average_vals[-1])\n",
                "print(avg_sort_names[-1])"
            ]
        },
        {
            "cell_type": "code",
            "execution_count": 23,
            "metadata": {},
            "outputs": [],
            "source": [
                "### edTest(test_chow1) ###\n",
                "# Copy the name as displayed in the dataset as a string (eg. 'L. Messi', 'Cristiano Ronaldo' etc )\n",
                "answer = 'M. Salah'"
            ]
        },
        {
            "attachments": {},
            "cell_type": "markdown",
            "metadata": {},
            "source": [
                "Who is the player with the least all-round rating?"
            ]
        },
        {
            "cell_type": "code",
            "execution_count": 24,
            "metadata": {},
            "outputs": [
                {
                    "name": "stdout",
                    "output_type": "stream",
                    "text": "46.22222222222222\nL. Messi\n"
                }
            ],
            "source": [
                "print(average_vals[0])\n",
                "print(avg_sort_names[0])"
            ]
        },
        {
            "cell_type": "code",
            "execution_count": 25,
            "metadata": {},
            "outputs": [],
            "source": [
                "### edTest(test_chow2) ###\n",
                "# Copy the name as displayed in the dataset as a string (eg. 'L. Messi', 'Cristiano Ronaldo' etc )\n",
                "answer = 'L. Messi'"
            ]
        },
        {
            "attachments": {},
            "cell_type": "markdown",
            "metadata": {},
            "source": [
                "## Best all-rounder in a larger dataset\n",
                "Use the new dataset with 10,000 entries and find out who is the best and worst all-rounder"
            ]
        },
        {
            "cell_type": "code",
            "execution_count": 27,
            "metadata": {},
            "outputs": [],
            "source": [
                "from supp_cha import read_data_full\n",
                "\n",
                "data,int_val = read_data_full()"
            ]
        },
        {
            "cell_type": "code",
            "execution_count": 28,
            "metadata": {},
            "outputs": [],
            "source": [
                "average_vals = list(\n",
                "    map(lambda X: value_cal(X),data)\n",
                ")\n",
                "avg_sort = sorted(list(zip(data, average_vals)), key = lambda x: x[1])"
            ]
        },
        {
            "cell_type": "code",
            "execution_count": 29,
            "metadata": {},
            "outputs": [],
            "source": [
                "average_vals = list(zip(*avg_sort))[1]\n",
                "avg_sort_names = list(map(lambda z: z[2],list(zip(*avg_sort))[0]))"
            ]
        },
        {
            "attachments": {},
            "cell_type": "markdown",
            "metadata": {},
            "source": [
                "Who is the player with the best all-round rating?"
            ]
        },
        {
            "cell_type": "code",
            "execution_count": 32,
            "metadata": {},
            "outputs": [
                {
                    "name": "stdout",
                    "output_type": "stream",
                    "text": "71.69444444444444\nL. Suárez\n"
                }
            ],
            "source": [
                "# best player_stat\n",
                "print(average_vals[-1])\n",
                "print(avg_sort_names[-1])"
            ]
        },
        {
            "cell_type": "code",
            "execution_count": 33,
            "metadata": {},
            "outputs": [],
            "source": [
                "### edTest(test_chow3) ###\n",
                "# Copy the name as displayed in the dataset as a string (eg. 'L. Messi', 'Cristiano Ronaldo' etc )\n",
                "answer = 'L. Suárez'"
            ]
        },
        {
            "attachments": {},
            "cell_type": "markdown",
            "metadata": {},
            "source": [
                "Who is the player with the least all-round rating?"
            ]
        },
        {
            "cell_type": "code",
            "execution_count": 34,
            "metadata": {},
            "outputs": [
                {
                    "name": "stdout",
                    "output_type": "stream",
                    "text": "30.02777777777778\nK. Eisele\n"
                }
            ],
            "source": [
                "print(average_vals[0])\n",
                "print(avg_sort_names[0])"
            ]
        },
        {
            "cell_type": "code",
            "execution_count": 35,
            "metadata": {},
            "outputs": [],
            "source": [
                "### edTest(test_chow4) ###\n",
                "# Copy the name as displayed in the dataset as a string (eg. 'L. Messi', 'Cristiano Ronaldo' etc )\n",
                "answer = 'K. Eisele'"
            ]
        }
    ]
}
