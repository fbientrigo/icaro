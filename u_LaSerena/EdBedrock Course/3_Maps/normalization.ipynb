{
    "metadata": {
        "kernelspec": {
            "name": "python3",
            "display_name": "Python 3 (ipykernel)",
            "language": "python"
        }
    },
    "nbformat": 4,
    "nbformat_minor": 2,
    "cells": [
        {
            "attachments": {},
            "cell_type": "markdown",
            "metadata": {},
            "source": [
                "## `Lets Build our own scaler class!`\n",
                "\n",
                "In lecture we saw data standardization. Normalization is different: It sets the minimum of the data to 0 and the maximum to 1. This is especially useful in the context of data that is bounded (For example : Image pixel strength is generally between 0 and 255). \n",
                "\n",
                "Specifically our task will be to normalize the following:\n",
                "\n",
                " `data = [11, 6, 3, 4.5, 18]`\n",
                "\n",
                " The instructions are given in the docstring."
            ]
        },
        {
            "cell_type": "code",
            "execution_count": 40,
            "metadata": {},
            "outputs": [],
            "source": [
                "### edTest(test_class) ###\n",
                "class Normal_scaler:\n",
                "    \"\"\"\n",
                "    Follow the instructions of this docstring to finish this class. \n",
                "    Normal_scaler will normalize data and inverse transform it, keeping\n",
                "    track of pesky details in the process!\n",
                "    \n",
                "    The formula for normalization is (x - x_min) / (x_max - x_min). \n",
                "    Normalization ensures that all values will be between \n",
                "    zero and one for this class.\n",
                "    \n",
                "    Make sure to save the following instance attributes:\n",
                "    -------\n",
                "    min_   : the dataset minimum\n",
                "    max_   : the dataset maximum\n",
                "    range_ : max_ - min_\n",
                "    \n",
                "    Finish the following Methods \n",
                "    -------\n",
                "    __init__:  \n",
                "        Simply print \"making normal scaler\" upon instantation.\n",
                "    \n",
                "    __call__: \n",
                "        1. Print 'calling class as a function' to indicate that \n",
                "           the call function is being run.\n",
                "        2. When the instances are called as functions they should normalize data.  \n",
                "        3. Return fit transform on `dataset. \n",
                "           [This will start running the fit transform method when the class is called as function]\n",
                "    fit_transform: \n",
                "        arguments: data\n",
                "        1. Calculate \n",
                "            min_ \n",
                "            max_ \n",
                "            range_ (which is self.max_ - self.min_)\n",
                "        2. Normalize the dataset `(x - min_) / range_` for each datapoint)\n",
                "        3. Return the normalized data.\n",
                "        Hint: Implement this function with list comprehension!\n",
                "    \n",
                "    inverse_transform: \n",
                "        arguments: norm_data\n",
                "        1. re-transorm the normalized dataset to the original scale by applying the \n",
                "            following transformation to each datapoint: \n",
                "            `(x * range_ + min_ )`\n",
                "        2. return the resulting data\n",
                "            Hint: use list comprehension!\n",
                "    \"\"\"\n",
                "    def __init__(self):\n",
                "        print('making normal scaler')\n",
                "\n",
                "    def __call__(self,data):\n",
                "        print('calling class as a function')\n",
                "        return self.fit_transform(data)\n",
                "\n",
                "    def fit_transform(self,data):\n",
                "        self.min_ = min(data)\n",
                "        self.max_ = max(data)\n",
                "        self.range_ = self.max_ - self.min_\n",
                "        return [(x-self.min_)/self.range_ for x in data]\n",
                "        \n",
                "    def inverse_transform(self, transformed_data):\n",
                "        return [x*self.range_+self.min_ for x in transformed_data]"
            ]
        },
        {
            "attachments": {},
            "cell_type": "markdown",
            "metadata": {},
            "source": [
                "Below is our data. Lets normalize it!"
            ]
        },
        {
            "cell_type": "code",
            "execution_count": 8,
            "metadata": {},
            "outputs": [],
            "source": [
                "data = [11, 6, 3, 4.5, 18]"
            ]
        },
        {
            "cell_type": "code",
            "execution_count": 27,
            "metadata": {},
            "outputs": [
                {
                    "name": "stdout",
                    "output_type": "stream",
                    "text": "making normal scaler\n"
                }
            ],
            "source": [
                "# create the scaler object instance\n",
                "scaler = Normal_scaler()"
            ]
        },
        {
            "cell_type": "code",
            "execution_count": 28,
            "metadata": {},
            "outputs": [
                {
                    "name": "stdout",
                    "output_type": "stream",
                    "text": "[0.5333333333333333, 0.2, 0.0, 0.1, 1.0]\n"
                }
            ],
            "source": [
                "### edTest(test_norm) ###\n",
                "#save a copy of the normalized data\n",
                "norm_data = scaler.fit_transform(data)\n",
                "print(norm_data)"
            ]
        },
        {
            "attachments": {},
            "cell_type": "markdown",
            "metadata": {},
            "source": [
                "Run the cell below to square the objects of the list.\n",
                "This is a stand in for some operation that might be done on the data via a model (such as a neural network)."
            ]
        },
        {
            "cell_type": "code",
            "execution_count": 25,
            "metadata": {},
            "outputs": [],
            "source": [
                "#dp stands for datapoint\n",
                "norm_altered_data = [dp**2 for dp in norm_data]"
            ]
        },
        {
            "cell_type": "code",
            "execution_count": 29,
            "metadata": {},
            "outputs": [],
            "source": [
                "### edTest(test_inv) ###\n",
                "# inverse transform the norm_altered_data to get back to the original scale\n",
                "transformed_data = scaler.inverse_transform(norm_altered_data)"
            ]
        },
        {
            "attachments": {},
            "cell_type": "markdown",
            "metadata": {},
            "source": [
                "### ⏸ Which of following statements correspond to why we should use classes rather than functions? \n",
                "*There may be multiple right answers therefore your answer should be a list comma separated, for example ['a' , 'b' , 'c']*\n",
                "\n",
                "#### A. They allow the programmer to hide  unnecessary details from the user.\n",
                "#### B. They require less upfront work than functions\n",
                "#### C. Nesting functions requires us to name and pass a lot of variables that we should instead save more efficiently via attributes\n",
                "#### D. Classes are better than functions in all situations."
            ]
        },
        {
            "cell_type": "code",
            "execution_count": 38,
            "metadata": {},
            "outputs": [],
            "source": [
                "### edTest(test_q1) ###\n",
                "answer = ['A','C']"
            ]
        },
        {
            "attachments": {},
            "cell_type": "markdown",
            "metadata": {},
            "source": [
                "\n",
                "Now lets try creating another scaler and normalizing the following data. Lets see if our instances will have the same attributes! \n",
                "\n",
                "data2 = [23, 0.1, 3.4, 10, 0.2]"
            ]
        },
        {
            "cell_type": "code",
            "execution_count": 31,
            "metadata": {},
            "outputs": [
                {
                    "name": "stdout",
                    "output_type": "stream",
                    "text": "making normal scaler\n"
                }
            ],
            "source": [
                "data2 = [23, 0.1, 3.4, 10, 0.2]\n",
                "\n",
                "#creating a second Normal_scaler instance\n",
                "scaler2 = Normal_scaler()"
            ]
        },
        {
            "cell_type": "code",
            "execution_count": 32,
            "metadata": {},
            "outputs": [],
            "source": [
                "#fit data2 by calling the scaler as a function and assign it to norm_data2\n",
                "norm_data2 = scaler2.fit_transform(data2)"
            ]
        },
        {
            "attachments": {},
            "cell_type": "markdown",
            "metadata": {},
            "source": [
                "`vars()` is a fantastic python function that allows us to view instance attributes quickly and easily.\n",
                "\n",
                "Call `vars()` on scaler and again on scaler2, then answer the final two questions of this exercise."
            ]
        },
        {
            "cell_type": "code",
            "execution_count": 33,
            "metadata": {},
            "outputs": [
                {
                    "data": {
                        "text/plain": "{'min_': 3, 'max_': 18, 'range_': 15}"
                    },
                    "execution_count": 33,
                    "metadata": {},
                    "output_type": "execute_result"
                }
            ],
            "source": [
                "#call vars on scaler\n",
                "vars(scaler)"
            ]
        },
        {
            "cell_type": "code",
            "execution_count": 34,
            "metadata": {},
            "outputs": [
                {
                    "data": {
                        "text/plain": "{'min_': 0.1, 'max_': 23, 'range_': 22.9}"
                    },
                    "execution_count": 34,
                    "metadata": {},
                    "output_type": "execute_result"
                }
            ],
            "source": [
                "#call vars on scaler2\n",
                "vars(scaler2)"
            ]
        },
        {
            "attachments": {},
            "cell_type": "markdown",
            "metadata": {},
            "source": [
                "### ⏸ Which of the following statements is true?\n",
                "\n",
                "#### A. scaler and scaler2 have the same dictionary output from vars because they are the same class type.\n",
                "#### B. scaler and scaler2 have different variables because they are different instances on the same class.\n",
                "#### C. scaler and scaler2 have different attributes because they are instances that were fit on different data."
            ]
        },
        {
            "cell_type": "code",
            "execution_count": 35,
            "metadata": {},
            "outputs": [],
            "source": [
                "### edTest(test_q2) ###\n",
                "answer = 'C'"
            ]
        },
        {
            "attachments": {},
            "cell_type": "markdown",
            "metadata": {},
            "source": [
                "### ⏸ Of the following statements which are true? \n",
                "*There may be multiple right answers therefore your answer should be a list comma separated, for example ['a' , 'b' , 'c']*\n",
                "\n",
                "#### A. An empty list in python has dunder methods.\n",
                "#### B. `__init__` can call an instance's instance methods.\n",
                "#### C. The  `dir()`  function can show us an object's methods but not its attributes.\n",
                "#### D. `__init__` can return a value."
            ]
        },
        {
            "cell_type": "code",
            "execution_count": 37,
            "metadata": {},
            "outputs": [],
            "source": [
                "### edTest(test_q3) ###\n",
                "answer = ['A','B']"
            ]
        },
        {
            "cell_type": "code",
            "execution_count": 0,
            "metadata": {},
            "outputs": [],
            "source": [
                ""
            ]
        }
    ]
}
