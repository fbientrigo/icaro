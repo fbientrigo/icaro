{
    "metadata": {
        "kernelspec": {
            "name": "python3",
            "display_name": "Python 3",
            "language": "python"
        }
    },
    "nbformat": 4,
    "nbformat_minor": 2,
    "cells": [
        {
            "attachments": {},
            "cell_type": "markdown",
            "metadata": {},
            "source": [
                "# **List, Sets \u0026 Dictionary Comprehension**\n",
                "\n",
                "List, Set \u0026 Dict Comprehension gives you an easier and shorter syntax for looping through iterable data structures and creating a new iterable object from the same.\n",
                "\n",
                "![](https://miro.medium.com/max/765/1*m4oZHplTTZxVr_VvAkwjHQ.png)"
            ]
        },
        {
            "attachments": {},
            "cell_type": "markdown",
            "metadata": {},
            "source": [
                "## **1) List Comprehension**\n",
                "\n",
                "Many simple “for loops” in Python can be replaced with list comprehensions. You can often hear that list comprehension is “more Pythonic”. \n",
                "\n",
                "The general syntax of a List Comprehension is as follows:\n",
                "\n",
                "**`[f(x) for x in sequence]`**\n",
                "\n",
                "### **1.1) What's the difference between for loops and list comprehension though?**"
            ]
        },
        {
            "attachments": {},
            "cell_type": "markdown",
            "metadata": {},
            "source": [
                "Here's an example of generating a list of squares of the first n integers using two methods:\n",
                "1. Using a For Loop\n",
                "2. Using a List Comprehension"
            ]
        },
        {
            "attachments": {},
            "cell_type": "markdown",
            "metadata": {},
            "source": [
                "*Using a For Loop*"
            ]
        },
        {
            "cell_type": "code",
            "execution_count": 35,
            "metadata": {},
            "outputs": [
                {
                    "name": "stdout",
                    "output_type": "stream",
                    "text": "--- For Loop took 0.2338252067565918 seconds ---\n"
                }
            ],
            "source": [
                "import time\n",
                "\n",
                "#Starting time - to measure execution time\n",
                "start_time = time.time()\n",
                "\n",
                "#Initialize a new list\n",
                "NUMBERS = list(range(1000000))\n",
                "\n",
                "#Intializing a new list \n",
                "squares = []\n",
                "\n",
                "#Loop through range of 23 integers\n",
                "for i in NUMBERS:\n",
                "    #Appending squares value into the list\n",
                "    squares.append(i**2)\n",
                "\n",
                "print(\"--- For Loop took %s seconds ---\" % (time.time() - start_time))"
            ]
        },
        {
            "attachments": {},
            "cell_type": "markdown",
            "metadata": {},
            "source": [
                "*Using List Comprehension*"
            ]
        },
        {
            "cell_type": "code",
            "execution_count": 36,
            "metadata": {},
            "outputs": [
                {
                    "name": "stdout",
                    "output_type": "stream",
                    "text": "--- List Comprehension took 0.176161527633667 seconds ---\n"
                }
            ],
            "source": [
                "#Starting time - to measure execution time\n",
                "start_time = time.time()\n",
                "\n",
                "#Initializing a new list \n",
                "squares = []\n",
                "\n",
                "#Using List Comprehension for getting our squares list\n",
                "squares = [i**2 for i in NUMBERS]\n",
                "\n",
                "print(\"--- List Comprehension took %s seconds ---\" % (time.time() - start_time))"
            ]
        },
        {
            "attachments": {},
            "cell_type": "markdown",
            "metadata": {},
            "source": [
                "Which execution took lesser time - For Loop or List comprehension?\n",
                "\n",
                "*Your Answer*\n",
                "\n",
                "Generally, list comprehension has faster runtime than for loops. "
            ]
        },
        {
            "attachments": {},
            "cell_type": "markdown",
            "metadata": {},
            "source": [
                "### **1.2) Having conditionals and more than one operation in List Comprehension**\n",
                "\n",
                "In the case we want to have conditionals and additional operations within our list Comprehension, the following syntax can be kept in mind. \n",
                "\n",
                "\n",
                "**`[f(x) if condition else g(x) for x in sequence]`**\n",
                "\n",
                "Let's look at an example for looping through the first 100 integers and storing doubled evens and halved odds.\n",
                "\n",
                ""
            ]
        },
        {
            "cell_type": "code",
            "execution_count": 37,
            "metadata": {},
            "outputs": [
                {
                    "name": "stdout",
                    "output_type": "stream",
                    "text": "[0, 0.5, 4, 1.5, 8, 2.5, 12, 3.5, 16, 4.5, 20, 5.5, 24, 6.5, 28, 7.5, 32, 8.5, 36, 9.5, 40, 10.5, 44, 11.5, 48, 12.5, 52, 13.5, 56, 14.5, 60, 15.5, 64, 16.5, 68, 17.5, 72, 18.5, 76, 19.5, 80, 20.5, 84, 21.5, 88, 22.5, 92, 23.5, 96, 24.5, 100, 25.5, 104, 26.5, 108, 27.5, 112, 28.5, 116, 29.5, 120, 30.5, 124, 31.5, 128, 32.5, 132, 33.5, 136, 34.5, 140, 35.5, 144, 36.5, 148, 37.5, 152, 38.5, 156, 39.5, 160, 40.5, 164, 41.5, 168, 42.5, 172, 43.5, 176, 44.5, 180, 45.5, 184, 46.5, 188, 47.5, 192, 48.5, 196, 49.5]\n"
                }
            ],
            "source": [
                "# Creating list comprehension for the looping through the first 100 integers \n",
                "# and storing doubled evens and halved odds.\n",
                "A_list = [2*i if i%2 == 0 else 0.5*i for i in range(100)]\n",
                "\n",
                "### The above in for loop looks like:\n",
                "# for i in range(100):\n",
                "#   if i%2 == 0:\n",
                "#        A_list.append(i*2)\n",
                "#   else:\n",
                "#       A_list.append(i*0.5)\n",
                "\n",
                "print(A_list)"
            ]
        },
        {
            "attachments": {},
            "cell_type": "markdown",
            "metadata": {},
            "source": [
                "## **2) Set Comprehension**\n",
                "\n",
                "Set Comprehension is similar to how we did list comprehension. You can use them to iterate over sets. The only difference between them is that set comprehensions use curly brackets { }."
            ]
        },
        {
            "cell_type": "code",
            "execution_count": 38,
            "metadata": {},
            "outputs": [
                {
                    "name": "stdout",
                    "output_type": "stream",
                    "text": "Output Set using set comprehensions: {2, 4, 6}\n"
                }
            ],
            "source": [
                "# Using Set comprehensions to create an output set which contains only \n",
                "# the even numbers that are present in the input list.\n",
                "input_list = [1, 2, 3, 4, 4, 5, 6, 6, 6, 7, 7] \n",
                "\n",
                "#set comprehension\n",
                "set_using_comp = {var for var in input_list if var % 2 == 0} \n",
                "\n",
                "#Printing our new set  \n",
                "print(\"Output Set using set comprehensions:\", set_using_comp)"
            ]
        },
        {
            "attachments": {},
            "cell_type": "markdown",
            "metadata": {},
            "source": [
                "Conditionals also work the same way we saw in list comprehension. Suppose you want to convert all elements of the tags set to lowercase except for 'Mercedes'."
            ]
        },
        {
            "cell_type": "code",
            "execution_count": 39,
            "metadata": {},
            "outputs": [
                {
                    "name": "stdout",
                    "output_type": "stream",
                    "text": "{'porsce', 'ferrari', 'renault'}\n"
                }
            ],
            "source": [
                "# Using Set comprehensions to create an output set which converts everything to\n",
                "# lower case except for Mercedes\n",
                "cars = {'Porsce', 'Ferrari', 'Mercedes', 'RENAULT'}\n",
                "new_tags = {car.lower() for car in cars if car != 'Mercedes'}\n",
                "\n",
                "#printing set comprehension output\n",
                "print(new_tags)"
            ]
        },
        {
            "attachments": {},
            "cell_type": "markdown",
            "metadata": {},
            "source": [
                "## **3) Dictionary Comprehension**\n",
                "\n",
                "Dictionaries can be iterated over using dictionary comprehensions which look thus: \n",
                "\n",
                "**`output_dict = {key:value for (key, value) in iterable if (key, value satisfy this condition)}`**"
            ]
        },
        {
            "cell_type": "code",
            "execution_count": 40,
            "metadata": {},
            "outputs": [
                {
                    "name": "stdout",
                    "output_type": "stream",
                    "text": "Output Dictionary using dictionary comprehensions: {1: 1, 3: 27, 5: 125, 7: 343}\n"
                }
            ],
            "source": [
                "# Using Dictionary comprehensions to create an output dictionary \n",
                "# which contains only the odd numbers that are present in the input \n",
                "# list as keys and their cubes as values\n",
                "  \n",
                "input_list = [1,2,3,4,5,6,7] \n",
                "dict_using_comp = {var:var ** 3 for var in input_list if var % 2 != 0} \n",
                "  \n",
                "print(\"Output Dictionary using dictionary comprehensions:\", dict_using_comp)"
            ]
        },
        {
            "attachments": {},
            "cell_type": "markdown",
            "metadata": {},
            "source": [
                "## **Futher Examples**"
            ]
        },
        {
            "attachments": {},
            "cell_type": "markdown",
            "metadata": {},
            "source": [
                "Let's go back to our Julius Ceasar text to see how dictionary comprehension, list comprehension and set comprehension can be used in Data science."
            ]
        },
        {
            "cell_type": "code",
            "execution_count": 41,
            "metadata": {},
            "outputs": [],
            "source": [
                "## Read a file, parse lines, and get all UNIQUE words\n",
                "worddict = dict() # make a dictionary to get the occurence of the top 100 unique words\n",
                "\n",
                "#Reading from txt file\n",
                "fd = open(\"ceasar.txt\")\n",
                "#Storing all the lines\n",
                "lines = fd.readlines()\n",
                "fd.close()\n",
                "\n",
                "# strip newline characters and other whitespace off the edges\n",
                "cleaned_lines = [line.strip() for line in lines] \n",
                "\n",
                "# make a list of lists. \n",
                "# each inner list if the list of words on that line\n",
                "list_of_lines_words = [line.split() for line in lines]\n",
                "\n",
                "#Making a flat list of words\n",
                "flat_list = []\n",
                "for sublist in list_of_lines_words:\n",
                "    for item in sublist:\n",
                "        flat_list.append(item)"
            ]
        },
        {
            "attachments": {},
            "cell_type": "markdown",
            "metadata": {},
            "source": [
                "a) Let's create a dictionary of 100 words and corresponsing count of the same."
            ]
        },
        {
            "cell_type": "code",
            "execution_count": 42,
            "metadata": {},
            "outputs": [
                {
                    "name": "stdout",
                    "output_type": "stream",
                    "text": "--- Dictionary Comprehension took took 0.0196530818939209 seconds ---\n"
                }
            ],
            "source": [
                "#Recording start time\n",
                "start_time = time.time()\n",
                "\n",
                "worddict = []\n",
                "\n",
                "#Looping through 100 words\n",
                "worddict = {i:flat_list.count(i) for i in flat_list[:100]}\n",
                "\n",
                "print(\"--- Dictionary Comprehension took took %s seconds ---\" % (time.time() - start_time))"
            ]
        },
        {
            "attachments": {},
            "cell_type": "markdown",
            "metadata": {},
            "source": [
                "b) We implement an if/else conditional in the dictionary comprehension. If the length is greater than 5, the value becomes the length. Otherwise, we assign the word ‘short’ as the value."
            ]
        },
        {
            "cell_type": "code",
            "execution_count": 43,
            "metadata": {},
            "outputs": [
                {
                    "data": {
                        "text/plain": "{'Skip': 0,\n 'to': 0,\n 'content': 7,\n 'Search': 6,\n 'or': 0,\n 'jump': 0,\n 'to…': 0,\n 'Pull': 0,\n 'requests': 8,\n 'Issues': 6,\n 'Marketplace': 11,\n 'Explore': 7,\n '@Sakzsee': 8,\n 'teropa': 6,\n '/': 0,\n 'nlp': 0,\n '6': 0,\n '100': 0,\n '157': 0,\n 'Code': 0,\n 'Actions': 7,\n 'Projects': 8,\n 'Wiki': 0,\n 'Security': 8,\n 'Insights': 8,\n 'nlp/resources/corpora/gutenberg/shakespeare-caesar.txt': 54,\n 'Tero': 0,\n 'Parviainen': 10,\n 'added': 0,\n 'nltk': 0,\n 'data': 0,\n 'Latest': 6,\n 'commit': 6,\n 'bbe04d6': 7,\n 'on': 0,\n 'Sep': 0,\n '19,': 0,\n '2010': 0,\n 'History': 7,\n '0': 0,\n 'contributors': 12,\n '3523': 0,\n 'lines': 0,\n '(2774': 0,\n 'sloc)': 0,\n '110': 0,\n 'KB': 0,\n '[The': 0,\n 'Tragedie': 8,\n 'of': 0,\n 'Julius': 6,\n 'Caesar': 6,\n 'by': 0,\n 'William': 7,\n 'Shakespeare': 11,\n '1599]': 0,\n 'Actus': 0,\n 'Primus.': 7,\n 'Scoena': 6,\n 'Prima.': 6,\n 'Enter': 0,\n 'Flauius,': 8,\n 'Murellus,': 9,\n 'and': 0,\n 'certaine': 8,\n 'Commoners': 9,\n 'ouer': 0,\n 'the': 0,\n 'Stage.': 6,\n 'Flauius.': 8,\n 'Hence:': 6,\n 'home': 0,\n 'you': 0,\n 'idle': 0,\n 'Creatures,': 10,\n 'get': 0,\n 'home:': 0,\n 'Is': 0,\n 'this': 0,\n 'a': 0,\n 'Holiday?': 8,\n 'What,': 0,\n 'know': 0,\n 'not': 0,\n '(Being': 6,\n 'Mechanicall)': 12,\n 'ought': 0,\n 'walke': 0,\n 'Vpon': 0,\n 'labouring': 9,\n 'day,': 0,\n 'without': 7}"
                    },
                    "execution_count": 43,
                    "metadata": {},
                    "output_type": "execute_result"
                }
            ],
            "source": [
                "words_dict = {i:len(i) if len(i) \u003e 5 else 0 for i in flat_list[:100]}\n",
                "\n",
                "words_dict"
            ]
        },
        {
            "attachments": {},
            "cell_type": "markdown",
            "metadata": {},
            "source": [
                "c) You can also perform operations on both the key and values in a dictionary. In our case, let us make all the keys lower and get the remainder of the value when divided by 2."
            ]
        },
        {
            "cell_type": "code",
            "execution_count": 45,
            "metadata": {},
            "outputs": [
                {
                    "data": {
                        "text/plain": "{'skip': 0,\n 'to': 0,\n 'content': 1,\n 'search': 0,\n 'or': 0,\n 'jump': 0,\n 'to…': 0,\n 'pull': 0,\n 'requests': 0,\n 'issues': 0,\n 'marketplace': 1,\n 'explore': 1,\n '@sakzsee': 0,\n 'teropa': 0,\n '/': 0,\n 'nlp': 0,\n '6': 0,\n '100': 0,\n '157': 0,\n 'code': 0,\n 'actions': 1,\n 'projects': 0,\n 'wiki': 0,\n 'security': 0,\n 'insights': 0,\n 'nlp/resources/corpora/gutenberg/shakespeare-caesar.txt': 0,\n 'tero': 0,\n 'parviainen': 0,\n 'added': 0,\n 'nltk': 0,\n 'data': 0,\n 'latest': 0,\n 'commit': 0,\n 'bbe04d6': 1,\n 'on': 0,\n 'sep': 0,\n '19,': 0,\n '2010': 0,\n 'history': 1,\n '0': 0,\n 'contributors': 0,\n '3523': 0,\n 'lines': 0,\n '(2774': 0,\n 'sloc)': 0,\n '110': 0,\n 'kb': 0,\n '[the': 0,\n 'tragedie': 0,\n 'of': 0,\n 'julius': 0,\n 'caesar': 0,\n 'by': 0,\n 'william': 1,\n 'shakespeare': 1,\n '1599]': 0,\n 'actus': 0,\n 'primus.': 1,\n 'scoena': 0,\n 'prima.': 0,\n 'enter': 0,\n 'flauius,': 0,\n 'murellus,': 1,\n 'and': 0,\n 'certaine': 0,\n 'commoners': 1,\n 'ouer': 0,\n 'the': 0,\n 'stage.': 0,\n 'flauius.': 0,\n 'hence:': 0,\n 'home': 0,\n 'you': 0,\n 'idle': 0,\n 'creatures,': 0,\n 'get': 0,\n 'home:': 0,\n 'is': 0,\n 'this': 0,\n 'a': 0,\n 'holiday?': 0,\n 'what,': 0,\n 'know': 0,\n 'not': 0,\n '(being': 0,\n 'mechanicall)': 0,\n 'ought': 0,\n 'walke': 0,\n 'vpon': 0,\n 'labouring': 1,\n 'day,': 0,\n 'without': 1}"
                    },
                    "execution_count": 45,
                    "metadata": {},
                    "output_type": "execute_result"
                }
            ],
            "source": [
                "word_dict = {i.lower():j%2 for i, j in words_dict.items()}\n",
                "\n",
                "word_dict"
            ]
        }
    ]
}
