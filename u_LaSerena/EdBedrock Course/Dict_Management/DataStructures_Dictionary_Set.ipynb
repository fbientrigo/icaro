{
    "metadata": {
        "kernelspec": {
            "name": "python3",
            "display_name": "Python 3 (ipykernel)",
            "language": "python"
        }
    },
    "nbformat": 4,
    "nbformat_minor": 0,
    "cells": [
        {
            "attachments": {},
            "cell_type": "markdown",
            "metadata": {},
            "source": [
                "# **Important Python Data Structures**"
            ]
        },
        {
            "attachments": {},
            "cell_type": "markdown",
            "metadata": {},
            "source": [
                "We've seen lists so far, but there are other collections of data in python which you will find yourself using quite often. Here we'll see the three main ones: sets, dictionaries, and tuples."
            ]
        },
        {
            "attachments": {},
            "cell_type": "markdown",
            "metadata": {},
            "source": [
                "# **Sets** - Unordered \u0026 Collection of Hashable/Immutable Unique Elements\n",
                "\n",
                "Sets come from Mathematics, where they are used to track unique elements. From the python perspective, a set is an unordered collection data type that is iterable, mutable and has no duplicate elements.\n",
                "\n",
                "The major advantage of using a set, as opposed to a list, is that it has a highly optimized method for checking whether a specific element is contained in the set."
            ]
        },
        {
            "attachments": {},
            "cell_type": "markdown",
            "metadata": {},
            "source": [
                "## Constructing \u0026 Adding elements in a set"
            ]
        },
        {
            "cell_type": "code",
            "execution_count": 1,
            "metadata": {},
            "outputs": [
                {
                    "name": "stdout",
                    "output_type": "stream",
                    "text": "Set: \n{'a', 'b', 'c'}\n\nSet after adding: \n{'d', 'a', 'b', 'c'}\n\nSet after adding: \n{'d', 'a', 'b', 'c'}\n"
                }
            ],
            "source": [
                "# Constructing a set\n",
                "Set = {\"a\", \"b\", \"c\"}\n",
                "  \n",
                "print(\"Set: \") \n",
                "print(Set) \n",
                "  \n",
                "# Adding element to the set \n",
                "Set.add(\"d\") \n",
                "print(\"\\nSet after adding: \") \n",
                "print(Set) \n",
                "\n",
                "# Adding an element that already exists\n",
                "Set.add(\"a\") \n",
                "print(\"\\nSet after adding: \") \n",
                "print(Set) "
            ]
        },
        {
            "attachments": {},
            "cell_type": "markdown",
            "metadata": {},
            "source": [
                "Sets can also be defined with the built-in function set([iterable]). This function takes as argument an iterable (i.e. any type of sequence, collection, or iterator), returning a set that contains unique items from the input (duplicated values are removed)."
            ]
        },
        {
            "cell_type": "code",
            "execution_count": 2,
            "metadata": {},
            "outputs": [
                {
                    "name": "stdout",
                    "output_type": "stream",
                    "text": "{'D', 'S', 'P', 'y'}\n{'Madrid', 'Munich', 'Valencia'}\n{'helium', 'carbon', 'hydrogen', 'oxygen'}\n{'Madrid', 'Munich', 'Valencia'}\n"
                }
            ],
            "source": [
                "### Create a set from ###\n",
                "\n",
                "# a string\n",
                "print(set('PyDS'))\n",
                "\n",
                "# a tuple\n",
                "print(set(('Madrid', 'Valencia', 'Munich')))\n",
                "\n",
                "# a dictionary \n",
                "print(set({'hydrogen': 1, 'helium': 2, 'carbon': 6, 'oxygen': 8}))\n",
                "\n",
                "# a list\n",
                "print(set(['Madrid', 'Valencia', 'Munich', 'Munich']))"
            ]
        },
        {
            "attachments": {},
            "cell_type": "markdown",
            "metadata": {},
            "source": [
                "Sets are listy and you can iterate over them."
            ]
        },
        {
            "cell_type": "code",
            "execution_count": 3,
            "metadata": {},
            "outputs": [
                {
                    "name": "stdout",
                    "output_type": "stream",
                    "text": "d\na\nb\nc\n"
                }
            ],
            "source": [
                "#Looping through our Set\n",
                "for ele in Set:\n",
                "    print(ele)"
            ]
        },
        {
            "attachments": {},
            "cell_type": "markdown",
            "metadata": {},
            "source": [
                "And this is super fast:"
            ]
        },
        {
            "cell_type": "code",
            "execution_count": 4,
            "metadata": {},
            "outputs": [
                {
                    "data": {
                        "text/plain": "True"
                    },
                    "execution_count": 4,
                    "metadata": {},
                    "output_type": "execute_result"
                }
            ],
            "source": [
                "'c' in Set"
            ]
        },
        {
            "attachments": {},
            "cell_type": "markdown",
            "metadata": {},
            "source": [
                "But remember, since sets are immutable, you cannot use a mutable datatype inside a set nor can you change values inside."
            ]
        },
        {
            "cell_type": "code",
            "execution_count": 5,
            "metadata": {},
            "outputs": [
                {
                    "ename": "TypeError",
                    "evalue": "unhashable type: 'list'",
                    "output_type": "error",
                    "traceback": [
                        "\u001b[0;31m---------------------------------------------------------------------------\u001b[0m",
                        "\u001b[0;31mTypeError\u001b[0m                                 Traceback (most recent call last)",
                        "Cell \u001b[0;32mIn[1], line 2\u001b[0m\n\u001b[1;32m      1\u001b[0m \u001b[38;5;66;03m# Mutable data types cannot be used inside a set\u001b[39;00m\n\u001b[0;32m----\u003e 2\u001b[0m numbers \u001b[38;5;241m=\u001b[39m {[\u001b[38;5;241m1\u001b[39m,\u001b[38;5;241m2\u001b[39m],\u001b[38;5;241m3\u001b[39m, \u001b[38;5;241m4\u001b[39m}\n\u001b[1;32m      4\u001b[0m \u001b[38;5;66;03m#TypeError\u001b[39;00m\n",
                        "\u001b[0;31mTypeError\u001b[0m: unhashable type: 'list'"
                    ]
                }
            ],
            "source": [
                "# Mutable data types cannot be used inside a set\n",
                "numbers = {[1,2],3, 4}\n",
                "\n",
                "#TypeError"
            ]
        },
        {
            "cell_type": "code",
            "execution_count": 6,
            "metadata": {},
            "outputs": [
                {
                    "ename": "TypeError",
                    "evalue": "'set' object does not support item assignment",
                    "output_type": "error",
                    "traceback": [
                        "\u001b[0;31m---------------------------------------------------------------------------\u001b[0m",
                        "\u001b[0;31mTypeError\u001b[0m                                 Traceback (most recent call last)",
                        "Cell \u001b[0;32mIn[1], line 1\u001b[0m\n\u001b[0;32m----\u003e 1\u001b[0m \u001b[43mSet\u001b[49m\u001b[43m[\u001b[49m\u001b[38;5;241;43m3\u001b[39;49m\u001b[43m]\u001b[49m \u001b[38;5;241m=\u001b[39m \u001b[38;5;124m'\u001b[39m\u001b[38;5;124mf\u001b[39m\u001b[38;5;124m'\u001b[39m\n",
                        "\u001b[0;31mTypeError\u001b[0m: 'set' object does not support item assignment"
                    ]
                }
            ],
            "source": [
                "Set[3] = 'f'"
            ]
        },
        {
            "attachments": {},
            "cell_type": "markdown",
            "metadata": {},
            "source": [
                "## Set Methods"
            ]
        },
        {
            "attachments": {},
            "cell_type": "markdown",
            "metadata": {},
            "source": [
                "These are the following methods possible with sets --\n",
                "\n",
                "![](https://www.pstanalytics.com/blog/wp-content/uploads/2019/10/set1.png)"
            ]
        },
        {
            "attachments": {},
            "cell_type": "markdown",
            "metadata": {},
            "source": [
                "### Add/Remove/Discard/Pop operations"
            ]
        },
        {
            "cell_type": "code",
            "execution_count": 7,
            "metadata": {},
            "outputs": [],
            "source": [
                "#Intializing a set of numbers\n",
                "numbers = {1,2,3,4,5}\n",
                "\n",
                "#Initializing a set of fruits\n",
                "fruits = {'apple','orange','grape'}\n",
                "\n",
                "#Initializing an empty set\n",
                "empty_set = set()"
            ]
        },
        {
            "cell_type": "code",
            "execution_count": 8,
            "metadata": {},
            "outputs": [
                {
                    "name": "stdout",
                    "output_type": "stream",
                    "text": "Added new fruit - {'orange', 'banana', 'apple', 'grape'}\nAdded another orange - {'orange', 'banana', 'apple', 'grape'}\n"
                }
            ],
            "source": [
                "#Using the add method\n",
                "fruits.add('banana')\n",
                "print(\"Added new fruit -\",fruits)\n",
                "\n",
                "#Adding an already present element to the set\n",
                "fruits.add('orange')\n",
                "print(\"Added another orange -\",fruits)\n",
                "\n",
                "## Note: Sets does not hold duplicates, hence our prev add does not add an extra orange to our set"
            ]
        },
        {
            "cell_type": "code",
            "execution_count": 9,
            "metadata": {},
            "outputs": [
                {
                    "name": "stdout",
                    "output_type": "stream",
                    "text": "Removed grape from the set - {'orange', 'banana', 'apple'}\n"
                }
            ],
            "source": [
                "#Using the remove method\n",
                "fruits.remove('grape')\n",
                "print(\"Removed grape from the set -\",fruits)\n",
                "\n",
                "## Note: You cannot remove an element that is not present in the list using .remove()"
            ]
        },
        {
            "cell_type": "code",
            "execution_count": 0,
            "metadata": {},
            "outputs": [
                {
                    "ename": "KeyError",
                    "evalue": "ignored",
                    "output_type": "error",
                    "traceback": [
                        "\u001b[0;31m---------------------------------------------------------------------------\u001b[0m",
                        "\u001b[0;31mKeyError\u001b[0m                                  Traceback (most recent call last)",
                        "\u001b[0;32m\u003cipython-input-82-4c1517450374\u003e\u001b[0m in \u001b[0;36m\u003cmodule\u003e\u001b[0;34m()\u001b[0m\n\u001b[1;32m      1\u001b[0m \u001b[0;31m#Exception Raised\u001b[0m\u001b[0;34m\u001b[0m\u001b[0;34m\u001b[0m\u001b[0;34m\u001b[0m\u001b[0m\n\u001b[0;32m----\u003e 2\u001b[0;31m \u001b[0mfruits\u001b[0m\u001b[0;34m.\u001b[0m\u001b[0mremove\u001b[0m\u001b[0;34m(\u001b[0m\u001b[0;34m'grape'\u001b[0m\u001b[0;34m)\u001b[0m\u001b[0;34m\u001b[0m\u001b[0;34m\u001b[0m\u001b[0m\n\u001b[0m",
                        "\u001b[0;31mKeyError\u001b[0m: 'grape'"
                    ]
                }
            ],
            "source": [
                "#Exception Raised\n",
                "fruits.remove('grape')"
            ]
        },
        {
            "attachments": {},
            "cell_type": "markdown",
            "metadata": {},
            "source": [
                "To overcome this exception, you can use set.discard() method. The set.discard(x) method removes an element x from a set if it is present. In comparison to the remove method, the discard method does not raise an exception (KeyError) if the element to be removed does not exist."
            ]
        },
        {
            "cell_type": "code",
            "execution_count": 10,
            "metadata": {},
            "outputs": [],
            "source": [
                "#Exception Not Raised\n",
                "fruits.discard('grape')"
            ]
        },
        {
            "cell_type": "code",
            "execution_count": 11,
            "metadata": {},
            "outputs": [
                {
                    "name": "stdout",
                    "output_type": "stream",
                    "text": "orange\n"
                }
            ],
            "source": [
                "#Using pop method to remove arbitrary element from the set\n",
                "print(fruits.pop())"
            ]
        },
        {
            "attachments": {},
            "cell_type": "markdown",
            "metadata": {},
            "source": [
                "**Note**: In comparison to lists, the pop method does not take any arguments. We can not specify the index we want to remove, since sets are an unordered collection of elements."
            ]
        },
        {
            "attachments": {},
            "cell_type": "markdown",
            "metadata": {},
            "source": [
                "### Mathematical Operations - Union, Intersection, Difference, Symmetric Difference"
            ]
        },
        {
            "cell_type": "code",
            "execution_count": 12,
            "metadata": {},
            "outputs": [],
            "source": [
                "# two sets - one containing mammals and another containing aquatic animals\n",
                "mammals = {'Tiger', 'Camel', 'Sheep', 'Whale', 'Walrus'}\n",
                "aquatic = {'Octopus', 'Squid', 'Crab', 'Whale', 'Walrus'}"
            ]
        },
        {
            "attachments": {},
            "cell_type": "markdown",
            "metadata": {},
            "source": [
                "#### **Union**\n",
                "\n",
                "The union of two sets A and B is the set containing the elements that are in A, B, or both, and is denoted by A ∪ B."
            ]
        },
        {
            "cell_type": "code",
            "execution_count": 13,
            "metadata": {},
            "outputs": [
                {
                    "name": "stdout",
                    "output_type": "stream",
                    "text": "{'Sheep', 'Camel', 'Walrus', 'Octopus', 'Whale', 'Crab', 'Squid', 'Tiger'}\n{'Sheep', 'Camel', 'Walrus', 'Octopus', 'Whale', 'Crab', 'Squid', 'Tiger'}\n{'Sheep', 'Camel', 'Tiger', 'Walrus', 'Whale'}\n{'Squid', 'Walrus', 'Octopus', 'Whale', 'Crab'}\n"
                }
            ],
            "source": [
                "# union of two sets\n",
                "# union method\n",
                "animals = mammals.union(aquatic)\n",
                "print(animals)\n",
                "\n",
                "# operator |\n",
                "animals = mammals | aquatic\n",
                "print(animals)\n",
                "\n",
                "# sets mammals and aquatic are not modified\n",
                "print(mammals)\n",
                "print(aquatic)"
            ]
        },
        {
            "attachments": {},
            "cell_type": "markdown",
            "metadata": {},
            "source": [
                "#### **Intersection**\n",
                "\n",
                "The intersection of two sets A and B is the set containing the elements that are common to both sets and is denoted by A ∩ B.\n",
                ""
            ]
        },
        {
            "cell_type": "code",
            "execution_count": 14,
            "metadata": {},
            "outputs": [
                {
                    "name": "stdout",
                    "output_type": "stream",
                    "text": "{'Whale', 'Walrus'}\n{'Whale', 'Walrus'}\n{'Sheep', 'Camel', 'Tiger', 'Walrus', 'Whale'}\n{'Squid', 'Walrus', 'Octopus', 'Whale', 'Crab'}\n"
                }
            ],
            "source": [
                "# intersection of two sets\n",
                "# intersection method\n",
                "animals = mammals.intersection(aquatic)\n",
                "print(animals)\n",
                "\n",
                "# operator \u0026\n",
                "animals = mammals \u0026 aquatic\n",
                "print(animals)\n",
                "\n",
                "# sets mammals and aquatic are not modified\n",
                "print(mammals)\n",
                "print(aquatic)"
            ]
        },
        {
            "attachments": {},
            "cell_type": "markdown",
            "metadata": {},
            "source": [
                "#### **Difference**\n",
                "\n",
                "The difference of two sets A and B is the set of all elements of set A that are not contained in set B and is denoted by A-B.\n",
                ""
            ]
        },
        {
            "cell_type": "code",
            "execution_count": 15,
            "metadata": {},
            "outputs": [
                {
                    "name": "stdout",
                    "output_type": "stream",
                    "text": "{'Sheep', 'Camel', 'Tiger'}\n{'Sheep', 'Camel', 'Tiger'}\n{'Sheep', 'Camel', 'Tiger', 'Walrus', 'Whale'}\n{'Squid', 'Walrus', 'Octopus', 'Whale', 'Crab'}\n"
                }
            ],
            "source": [
                "# difference between two sets\n",
                "# difference method\n",
                "animals = mammals.difference(aquatic)\n",
                "print(animals)\n",
                "\n",
                "# operator -\n",
                "animals = mammals - aquatic\n",
                "print(animals)\n",
                "\n",
                "# sets mammals and aquatic are not modified\n",
                "print(mammals)\n",
                "print(aquatic)"
            ]
        },
        {
            "attachments": {},
            "cell_type": "markdown",
            "metadata": {},
            "source": [
                "#### **Symmetric Difference**\n",
                "\n",
                "The symmetric difference of two sets A and B is the set of elements that are in either of the sets A and B, but not in both, and is denoted by A △ B."
            ]
        },
        {
            "cell_type": "code",
            "execution_count": 16,
            "metadata": {},
            "outputs": [
                {
                    "name": "stdout",
                    "output_type": "stream",
                    "text": "{'Sheep', 'Camel', 'Tiger', 'Squid', 'Octopus', 'Crab'}\n{'Sheep', 'Camel', 'Tiger', 'Squid', 'Octopus', 'Crab'}\n{'Sheep', 'Camel', 'Tiger', 'Walrus', 'Whale'}\n{'Squid', 'Walrus', 'Octopus', 'Whale', 'Crab'}\n"
                }
            ],
            "source": [
                "# symmetric difference between two sets\n",
                "# symmetric_difference method\n",
                "animals = mammals.symmetric_difference(aquatic)\n",
                "print(animals)\n",
                "\n",
                "# operator ^\n",
                "animals = mammals ^ aquatic\n",
                "print(animals)\n",
                "\n",
                "# sets mammals and aquatic are not modified\n",
                "print(mammals)\n",
                "print(aquatic)"
            ]
        },
        {
            "attachments": {},
            "cell_type": "markdown",
            "metadata": {},
            "source": [
                "## Subsets \u0026 Supersets\n",
                "\n",
                "A set A is a subset of a set B (A ⊆ B) or equivalently set B is a superset of set A (B ⊇ A), if all elements of set A are contained in set B."
            ]
        },
        {
            "cell_type": "code",
            "execution_count": 17,
            "metadata": {},
            "outputs": [
                {
                    "data": {
                        "text/plain": "False"
                    },
                    "execution_count": 17,
                    "metadata": {},
                    "output_type": "execute_result"
                }
            ],
            "source": [
                "# three sets \n",
                "mammals = {'Tiger', 'Camel', 'Sheep', 'Whale', 'Walrus'}\n",
                "aquatic = {'Octopus', 'Squid', 'Crab', 'Whale', 'Walrus'}\n",
                "aquatic_mammals = {'Whale', 'Walrus'}\n",
                "\n",
                "# mammals is a superset of aquatic_mammals\n",
                "mammals.issuperset(aquatic_mammals)\n",
                "\n",
                "# aquatic_mammals is a subset of mammals\n",
                "aquatic_mammals.issubset(mammals)\n",
                "\n",
                "# aquatic is not a subset of mammals\n",
                "aquatic.issubset(mammals)"
            ]
        },
        {
            "attachments": {},
            "cell_type": "markdown",
            "metadata": {},
            "source": [
                "## Disjoint\n",
                "\n",
                "Two sets are disjoint if they have no elements in common.\n",
                ""
            ]
        },
        {
            "cell_type": "code",
            "execution_count": 18,
            "metadata": {},
            "outputs": [
                {
                    "data": {
                        "text/plain": "True"
                    },
                    "execution_count": 18,
                    "metadata": {},
                    "output_type": "execute_result"
                }
            ],
            "source": [
                "# two sets - mammals and reptiles\n",
                "mammals = {'Tiger', 'Camel', 'Sheep', 'Whale', 'Walrus'}\n",
                "reptiles = {'Turtle', 'Snake', 'Lizard', 'Crocodile'}\n",
                "\n",
                "# check if both sets are disjoint sets\n",
                "mammals.isdisjoint(reptiles)"
            ]
        },
        {
            "attachments": {},
            "cell_type": "markdown",
            "metadata": {},
            "source": [
                "## Frozen Set\n",
                "\n",
                "A frozenset object is a set that, once created, cannot be changed. We create a frozenset in Python using the frozenset([iterable]) constructor, providing an iterable as input.\n",
                "\n",
                "Since frozensets are immutable, they do not accept the methods that modify sets in-place such as add, pop, or remove. As shown below, trying to add an element to a frozenset raises an exception (AttributeError)."
            ]
        },
        {
            "cell_type": "code",
            "execution_count": 19,
            "metadata": {},
            "outputs": [
                {
                    "name": "stdout",
                    "output_type": "stream",
                    "text": "{'Madrid', 'Munich', 'Valencia'}\n"
                },
                {
                    "ename": "AttributeError",
                    "evalue": "'frozenset' object has no attribute 'add'",
                    "output_type": "error",
                    "traceback": [
                        "\u001b[0;31m---------------------------------------------------------------------------\u001b[0m",
                        "\u001b[0;31mAttributeError\u001b[0m                            Traceback (most recent call last)",
                        "Cell \u001b[0;32mIn[1], line 13\u001b[0m\n\u001b[1;32m     10\u001b[0m cities_frozen \u001b[38;5;241m=\u001b[39m \u001b[38;5;28mfrozenset\u001b[39m([\u001b[38;5;124m'\u001b[39m\u001b[38;5;124mBarcelona\u001b[39m\u001b[38;5;124m'\u001b[39m, \u001b[38;5;124m'\u001b[39m\u001b[38;5;124mBerlin\u001b[39m\u001b[38;5;124m'\u001b[39m])\n\u001b[1;32m     12\u001b[0m \u001b[38;5;66;03m# frozensets are immutable \u001b[39;00m\n\u001b[0;32m---\u003e 13\u001b[0m \u001b[43mcities_frozen\u001b[49m\u001b[38;5;241;43m.\u001b[39;49m\u001b[43madd\u001b[49m(\u001b[38;5;124m'\u001b[39m\u001b[38;5;124mStuttgart\u001b[39m\u001b[38;5;124m'\u001b[39m)\n\u001b[1;32m     14\u001b[0m \u001b[38;5;66;03m# AttributeError\u001b[39;00m\n",
                        "\u001b[0;31mAttributeError\u001b[0m: 'frozenset' object has no attribute 'add'"
                    ]
                }
            ],
            "source": [
                "# create a set\n",
                "cities = {'Valencia', 'Madrid'}\n",
                "\n",
                "# set are mutable can be modified in-place\n",
                "cities.add('Munich')\n",
                "print(cities)\n",
                "# {'Madrid', 'Munich', 'Valencia'}\n",
                "\n",
                "# create a frozenset\n",
                "cities_frozen = frozenset(['Barcelona', 'Berlin'])\n",
                "\n",
                "# frozensets are immutable \n",
                "cities_frozen.add('Stuttgart')\n",
                "# AttributeError"
            ]
        },
        {
            "attachments": {},
            "cell_type": "markdown",
            "metadata": {},
            "source": [
                "## How can we use sets for Data Science?\n",
                "\n",
                "In order to understand the usefullness of sets, let us take an problem statement where you need to read a file containing the text from Julius Caesar and print the top 100 unique words."
            ]
        },
        {
            "cell_type": "code",
            "execution_count": 20,
            "metadata": {},
            "outputs": [
                {
                    "data": {
                        "text/plain": "['Look',\n 'sicken',\n 'point,',\n 'STRATO,',\n 'how',\n 'greets',\n \"monarch's\",\n '\u0026',\n 'Alas,',\n 'attain',\n 'ARTEMIDORUS,',\n 'dangerous',\n 'eight.',\n 'May',\n 'amaze',\n 'humble',\n 'Therein,',\n 'Room',\n 'fault',\n 'necessary',\n 'sir;',\n 'room',\n 'supporting',\n 'flesh',\n 'strucken',\n \"dreams.'\",\n 'Walk',\n 'Cimber',\n 'once:',\n 'assembly,',\n 'any',\n 'Exit',\n 'yourselves;',\n \"harm's\",\n 'bars,',\n 'cavern',\n 'heavy',\n 'fighting,',\n 'Antony;',\n 'age!',\n 'Pompey',\n 'end',\n 'mettle;',\n 'Cannot,',\n 'chidden',\n 'rid',\n 'soldier,',\n 'tokens',\n 'Looks',\n 'be;',\n 'necessities.',\n 'feeding',\n 'Flourish',\n 'strong',\n 'reason?',\n 'ambitious,',\n 'saucy',\n 'about',\n 'presently?',\n 'gone?',\n 'number,',\n 'sword,',\n 'slaughter',\n 'women',\n \"mix'd\",\n 'steel',\n 'ferret',\n 'Vexed',\n 'warnings,',\n 'come,',\n 'Gave',\n 'Is',\n \"He's\",\n 'Publius.',\n 'shrieking.',\n 'lowest',\n 'more,',\n 'Rome:',\n 'fawn',\n 'devil,',\n 'were',\n 'henceforth,',\n \"laugh'd\",\n 'kingly',\n 'trophies.',\n 'shores,',\n 'thick.',\n 'heads!',\n 'talk,',\n 'pieces!',\n 'No,',\n 'memory,',\n 'degrees',\n 'noon-day',\n 'wilt!',\n 'go,',\n 'through',\n 'misconstrued',\n 'tempted',\n 'yourself,']"
                    },
                    "execution_count": 20,
                    "metadata": {},
                    "output_type": "execute_result"
                }
            ],
            "source": [
                "## Read a file, parse lines, and get all UNIQUE words\n",
                "wordset = set() # make a set with unique items  \n",
                "\n",
                "#Reading from txt file\n",
                "fd = open(\"caesar.txt\")\n",
                "#Storing all the lines\n",
                "lines = fd.readlines()\n",
                "fd.close()\n",
                "\n",
                "# strip newline characters and other whitespace off the edges\n",
                "cleaned_lines = [line.strip() for line in lines] \n",
                "\n",
                "# make a list of lists. \n",
                "# each inner list if the list of words on that line\n",
                "list_of_lines_words = [line.split() for line in lines]\n",
                "\n",
                "# Take each list of words, and get all the words\n",
                "for lines_words in list_of_lines_words:\n",
                "    wordset.update(lines_words) # update the wordset using the new list.\n",
                "\n",
                "#Creating a list of the unique words\n",
                "unique_words = list(wordset)\n",
                "\n",
                "#Fetching the top 100 words\n",
                "unique_words[:100] # 100 of these words"
            ]
        },
        {
            "attachments": {},
            "cell_type": "markdown",
            "metadata": {},
            "source": [
                "# **Dictionaries** - Mutable and Ordered Collection of Key:Value Pairs\n",
                "\n",
                "A \"bag\" of values, each with its own label, called a key. The 'most powerful' data collection type,and one I suspect you will find yourself using a lot!\n",
                "\n",
                "A dictionary is similar to a list, and you can iterate over it but:\n",
                "\n",
                "the order of items doesn't matter (use an OrderedDict for this)\n",
                "they aren't selected by an index such as 0 or 5.\n",
                "Instead, a unique 'key' is associated with each 'value' . The 'key' can be any immutable data type: boolean, float, int, tuple, string (but it is often a string)\n",
                "\n",
                "Dictionaries themselves are \"Mutable\" (the values can be changed).\n",
                "\n",
                "A dictionary is a set with a value.\n",
                ""
            ]
        },
        {
            "cell_type": "code",
            "execution_count": 21,
            "metadata": {},
            "outputs": [
                {
                    "data": {
                        "text/plain": "dict"
                    },
                    "execution_count": 21,
                    "metadata": {},
                    "output_type": "execute_result"
                }
            ],
            "source": [
                "type({})"
            ]
        },
        {
            "attachments": {},
            "cell_type": "markdown",
            "metadata": {},
            "source": [
                "## Creating a dictionary"
            ]
        },
        {
            "cell_type": "code",
            "execution_count": 22,
            "metadata": {},
            "outputs": [
                {
                    "name": "stdout",
                    "output_type": "stream",
                    "text": "\u003cclass 'dict'\u003e\n{'day': 5, 'venue': 'GJB', 'event': 'Python Carnival!'}\n{'type': 'wallet', 'material': 'leather'}\n"
                }
            ],
            "source": [
                "# Creating a dictionary:\n",
                "\n",
                "# 1. Using {}\n",
                "empty_dict = {} \n",
                "print (type(empty_dict))\n",
                "new_dict = { \"day\":5, \"venue\": \"GJB\", \"event\": \"Python Carnival!\" }\n",
                "print(new_dict)\n",
                "\n",
                "#2. Using dict()\n",
                "purse = dict(type=\"wallet\", material=\"leather\")\n",
                "print(purse)"
            ]
        },
        {
            "cell_type": "code",
            "execution_count": 23,
            "metadata": {},
            "outputs": [
                {
                    "data": {
                        "text/plain": "{'to': {'name': 'Alice', 'age': 18}}"
                    },
                    "execution_count": 23,
                    "metadata": {},
                    "output_type": "execute_result"
                }
            ],
            "source": [
                "# Creating a Nested Dict\n",
                "D ={'to': {'name': 'Alice', 'age':18}}\n",
                "D"
            ]
        },
        {
            "cell_type": "code",
            "execution_count": 24,
            "metadata": {},
            "outputs": [
                {
                    "name": "stdout",
                    "output_type": "stream",
                    "text": "{'name': 'Alice', 'age': 18}\n"
                }
            ],
            "source": [
                "# Alternative construction techniques:\n",
                "\n",
                "# dict_var = dict([(key1, value1),(key2, value2), ...])\t\n",
                "D = dict([('name','Alice'),('age',18)])\n",
                "print(D)"
            ]
        },
        {
            "cell_type": "code",
            "execution_count": 25,
            "metadata": {},
            "outputs": [
                {
                    "data": {
                        "text/plain": "{'name': None, 'age': None, 'place': None}"
                    },
                    "execution_count": 25,
                    "metadata": {},
                    "output_type": "execute_result"
                }
            ],
            "source": [
                "# Creating dict from keys only\n",
                "\n",
                "# dict_var = dict.fromkeys([key1, key2, ...])\n",
                "D = dict.fromkeys(['name','age','place'])\n",
                "D"
            ]
        },
        {
            "attachments": {},
            "cell_type": "markdown",
            "metadata": {},
            "source": [
                "This is construction from a list of tuples. We'll see tuples soon.\n",
                "\n",
                "Notice that the values have been asigned to a special object in python None which is of type NoneType. Its specially created to handle the situation of missing values, and evaluates as falsy in conditionals."
            ]
        },
        {
            "attachments": {},
            "cell_type": "markdown",
            "metadata": {},
            "source": [
                "## Dictinary Operations"
            ]
        },
        {
            "attachments": {},
            "cell_type": "markdown",
            "metadata": {},
            "source": [
                "#### Conditionals"
            ]
        },
        {
            "cell_type": "code",
            "execution_count": 26,
            "metadata": {},
            "outputs": [
                {
                    "name": "stdout",
                    "output_type": "stream",
                    "text": "Nothing specified\n"
                }
            ],
            "source": [
                "#Using conditionals using dict\n",
                "if D['age']:\n",
                "    print(\"Age is\", d['age'])\n",
                "else:\n",
                "    print(\"Nothing specified\")"
            ]
        },
        {
            "cell_type": "code",
            "execution_count": 27,
            "metadata": {},
            "outputs": [
                {
                    "name": "stdout",
                    "output_type": "stream",
                    "text": "Age not given..ask!\n"
                }
            ],
            "source": [
                "if not D['age']:\n",
                "    print(\"Age not given..ask!\")"
            ]
        },
        {
            "attachments": {},
            "cell_type": "markdown",
            "metadata": {},
            "source": [
                "#### Indexing \u0026 Membership Operation in Dict"
            ]
        },
        {
            "cell_type": "code",
            "execution_count": 28,
            "metadata": {},
            "outputs": [
                {
                    "name": "stdout",
                    "output_type": "stream",
                    "text": "None\n"
                },
                {
                    "data": {
                        "text/plain": "True"
                    },
                    "execution_count": 28,
                    "metadata": {},
                    "output_type": "execute_result"
                }
            ],
            "source": [
                "#Indexing by key dict_var['key']\n",
                "print (D['age'])\n",
                "\n",
                "#Membership operation 'key' in dict_var\n",
                "'place' in D"
            ]
        },
        {
            "attachments": {},
            "cell_type": "markdown",
            "metadata": {},
            "source": [
                "#### Dictionaries are list-like."
            ]
        },
        {
            "cell_type": "code",
            "execution_count": 29,
            "metadata": {},
            "outputs": [
                {
                    "name": "stdout",
                    "output_type": "stream",
                    "text": "day : 5\nvenue : GJB\nevent : Python Carnival!\n"
                }
            ],
            "source": [
                "#Iterating through new_dict\n",
                "for key in new_dict:\n",
                "    print(key, \":\", new_dict[key])"
            ]
        },
        {
            "cell_type": "code",
            "execution_count": 30,
            "metadata": {},
            "outputs": [
                {
                    "name": "stdout",
                    "output_type": "stream",
                    "text": "day ; 5\nvenue ; GJB\nevent ; Python Carnival!\n"
                }
            ],
            "source": [
                "#Iterating through new_dict - alternative way\n",
                "for key, value in new_dict.items():\n",
                "    print(key, \";\", value)"
            ]
        },
        {
            "attachments": {},
            "cell_type": "markdown",
            "metadata": {},
            "source": [
                "Some other useful methods:\n",
                "\n",
                "1. All keys `dict_var.keys()`\n",
                "2. All values `dict_var.values()`\n",
                "3. All key + value tuples `dict_var.items()`\n",
                "4. Copy method `dict_var.copy()`\n",
                "5. Remove all items `dict_var.clear()`\n",
                "6. Merging keys from different dict `dict_var1.update(dict_var2)`\n",
                "7. Fetch by key, if absent default `dict_var.get(key, default)`\n",
                "8. Remove by key, if absent default `dict_var.pop(key, default)`\n",
                "9. Fetch by key, if absent set default `dict_var.setdefault(key, default)`\n",
                "10. deleting items by key `del dict_var[key]`\n",
                "11. Dictionaries can be iterated over using dictionary comprehensions which look thus: \u003c/br\u003e\n",
                "`output_dict = {key:value for (key, value) in iterable if (key, value satisfy this condition)}`"
            ]
        },
        {
            "attachments": {},
            "cell_type": "markdown",
            "metadata": {},
            "source": [
                "## How can we use dict in Data Science?\n",
                "\n",
                "Let's continue from our last example of analyzing Julius Caesar text and performing analysis. Let us now using a dictionary to store the no. of occurences of the top 100 unique words."
            ]
        },
        {
            "cell_type": "code",
            "execution_count": 31,
            "metadata": {},
            "outputs": [
                {
                    "name": "stdout",
                    "output_type": "stream",
                    "text": "{'Look': 2, 'sicken': 1, 'point,': 1, 'STRATO,': 2, 'how': 13, 'greets': 1, \"monarch's\": 1, '\u0026': 2, 'Alas,': 5, 'attain': 2, 'ARTEMIDORUS,': 1, 'dangerous': 3, 'eight.': 1, 'May': 3, 'amaze': 1, 'humble': 2, 'Therein,': 2, 'Room': 1, 'fault': 1, 'necessary': 2, 'sir;': 1, 'room': 2, 'supporting': 1, 'flesh': 1, 'strucken': 2, \"dreams.'\": 1, 'Walk': 1, 'Cimber': 3, 'once:': 1, 'assembly,': 1, 'any': 23, 'Exit': 26, 'yourselves;': 1, \"harm's\": 1, 'bars,': 1, 'cavern': 1, 'heavy': 1, 'fighting,': 1, 'Antony;': 3, 'age!': 1, 'Pompey': 2, 'end': 4, 'mettle;': 1, 'Cannot,': 1, 'chidden': 1, 'rid': 2, 'soldier,': 3, 'tokens': 1, 'Looks': 2, 'be;': 1, 'necessities.': 1, 'feeding': 1, 'Flourish': 2, 'strong': 8, 'reason?': 1, 'ambitious,': 1, 'saucy': 3, 'about': 14, 'presently?': 1, 'gone?': 1, 'number,': 1, 'sword,': 5, 'slaughter': 1, 'women': 1, \"mix'd\": 1, 'steel': 3, 'ferret': 1, 'Vexed': 1, 'warnings,': 1, 'come,': 5, 'Gave': 1, 'Is': 21, \"He's\": 1, 'Publius.': 2, 'shrieking.': 1, 'lowest': 1, 'more,': 3, 'Rome:': 1, 'fawn': 2, 'devil,': 1, 'were': 34, 'henceforth,': 1, \"laugh'd\": 1, 'kingly': 1, 'trophies.': 1, 'shores,': 1, 'thick.': 1, 'heads!': 1, 'talk,': 2, 'pieces!': 1, 'No,': 17, 'memory,': 1, 'degrees': 1, 'noon-day': 1, 'wilt!': 1, 'go,': 3, 'through': 4, 'misconstrued': 1, 'tempted': 1, 'yourself,': 2}\n"
                }
            ],
            "source": [
                "## Read a file, parse lines, and get all UNIQUE words\n",
                "worddict = dict() # make a dictionary to get the occurence of the top 100 unique words\n",
                "\n",
                "#Reading from txt file\n",
                "fd = open(\"caesar.txt\")\n",
                "#Storing all the lines\n",
                "lines = fd.readlines()\n",
                "fd.close()\n",
                "\n",
                "# strip newline characters and other whitespace off the edges\n",
                "cleaned_lines = [line.strip() for line in lines] \n",
                "\n",
                "# make a list of lists. \n",
                "# each inner list if the list of words on that line\n",
                "list_of_lines_words = [line.split() for line in lines]\n",
                "\n",
                "#Making a flat list of words\n",
                "flat_list = []\n",
                "for sublist in list_of_lines_words:\n",
                "    for item in sublist:\n",
                "        flat_list.append(item)\n",
                "\n",
                "#Looping through first 100 words\n",
                "for i in unique_words[:100]:\n",
                "  #Appending the occurence of word to the dict\n",
                "  worddict[i] = flat_list.count(i)\n",
                "\n",
                "print(worddict)"
            ]
        },
        {
            "cell_type": "code",
            "execution_count": 32,
            "metadata": {},
            "outputs": [
                {
                    "data": {
                        "text/plain": "{'Look': 2,\n 'sicken': 1,\n 'point,': 1,\n 'STRATO,': 2,\n 'how': 13,\n 'greets': 1,\n \"monarch's\": 1,\n '\u0026': 2,\n 'Alas,': 5,\n 'attain': 2,\n 'ARTEMIDORUS,': 1,\n 'dangerous': 3,\n 'eight.': 1,\n 'May': 3,\n 'amaze': 1,\n 'humble': 2,\n 'Therein,': 2,\n 'Room': 1,\n 'fault': 1,\n 'necessary': 2,\n 'sir;': 1,\n 'room': 2,\n 'supporting': 1,\n 'flesh': 1,\n 'strucken': 2,\n \"dreams.'\": 1,\n 'Walk': 1,\n 'Cimber': 3,\n 'once:': 1,\n 'assembly,': 1,\n 'any': 23,\n 'Exit': 26,\n 'yourselves;': 1,\n \"harm's\": 1,\n 'bars,': 1,\n 'cavern': 1,\n 'heavy': 1,\n 'fighting,': 1,\n 'Antony;': 3,\n 'age!': 1,\n 'Pompey': 2,\n 'end': 4,\n 'mettle;': 1,\n 'Cannot,': 1,\n 'chidden': 1,\n 'rid': 2,\n 'soldier,': 3,\n 'tokens': 1,\n 'Looks': 2,\n 'be;': 1,\n 'necessities.': 1,\n 'feeding': 1,\n 'Flourish': 2,\n 'strong': 8,\n 'reason?': 1,\n 'ambitious,': 1,\n 'saucy': 3,\n 'about': 14,\n 'presently?': 1,\n 'gone?': 1,\n 'number,': 1,\n 'sword,': 5,\n 'slaughter': 1,\n 'women': 1,\n \"mix'd\": 1,\n 'steel': 3,\n 'ferret': 1,\n 'Vexed': 1,\n 'warnings,': 1,\n 'come,': 5,\n 'Gave': 1,\n 'Is': 21,\n \"He's\": 1,\n 'Publius.': 2,\n 'shrieking.': 1,\n 'lowest': 1,\n 'more,': 3,\n 'Rome:': 1,\n 'fawn': 2,\n 'devil,': 1,\n 'were': 34,\n 'henceforth,': 1,\n \"laugh'd\": 1,\n 'kingly': 1,\n 'trophies.': 1,\n 'shores,': 1,\n 'thick.': 1,\n 'heads!': 1,\n 'talk,': 2,\n 'pieces!': 1,\n 'No,': 17,\n 'memory,': 1,\n 'degrees': 1,\n 'noon-day': 1,\n 'wilt!': 1,\n 'go,': 3,\n 'through': 4,\n 'misconstrued': 1,\n 'tempted': 1,\n 'yourself,': 2}"
                    },
                    "execution_count": 32,
                    "metadata": {},
                    "output_type": "execute_result"
                }
            ],
            "source": [
                "worddict"
            ]
        },
        {
            "attachments": {},
            "cell_type": "markdown",
            "metadata": {},
            "source": [
                "# **Tuples** - Immutable Ordered Collection of Python objects\n",
                "\n",
                "They are a fast kind of sequence that functions much like a list - they have elements which are indexed starting at 0. They work exactly like lists, except that tuples can't be changed in place!! This means they are immutable, and this guarantee gives them their speed.\n",
                "\n",
                "* Ordered collections of arbitrary objects\n",
                "* Accessed by index\n",
                "* Of the category \"immutable sequence\"\n",
                "* Fixed-length, heterogeneous and arbitrarily nested\n",
                "* The fixed length is important for performance. Unlike lists, they cannot be grown or shrunk.\n",
                ""
            ]
        },
        {
            "attachments": {},
            "cell_type": "markdown",
            "metadata": {},
            "source": [
                "## Creating tuples"
            ]
        },
        {
            "cell_type": "code",
            "execution_count": 33,
            "metadata": {},
            "outputs": [
                {
                    "data": {
                        "text/plain": "tuple"
                    },
                    "execution_count": 33,
                    "metadata": {},
                    "output_type": "execute_result"
                }
            ],
            "source": [
                "# CREATING TUPLEs\n",
                "\n",
                "# (a) Using tuple()\n",
                "x = tuple() \n",
                "type(x)\t"
            ]
        },
        {
            "cell_type": "code",
            "execution_count": 34,
            "metadata": {},
            "outputs": [
                {
                    "data": {
                        "text/plain": "tuple"
                    },
                    "execution_count": 34,
                    "metadata": {},
                    "output_type": "execute_result"
                }
            ],
            "source": [
                "# (b) Using only ()\n",
                "t=() \n",
                "type(t) "
            ]
        },
        {
            "attachments": {},
            "cell_type": "markdown",
            "metadata": {},
            "source": [
                "The above tuples are 0-length and not so useful. Because tuples are immutable, the following code will not work."
            ]
        },
        {
            "cell_type": "code",
            "execution_count": 35,
            "metadata": {},
            "outputs": [
                {
                    "ename": "TypeError",
                    "evalue": "'tuple' object does not support item assignment",
                    "output_type": "error",
                    "traceback": [
                        "\u001b[0;31m---------------------------------------------------------------------------\u001b[0m",
                        "\u001b[0;31mTypeError\u001b[0m                                 Traceback (most recent call last)",
                        "Cell \u001b[0;32mIn[1], line 1\u001b[0m\n\u001b[0;32m----\u003e 1\u001b[0m \u001b[43mt\u001b[49m\u001b[43m[\u001b[49m\u001b[38;5;241;43m0\u001b[39;49m\u001b[43m]\u001b[49m \u001b[38;5;241m=\u001b[39m \u001b[38;5;241m5\u001b[39m\n",
                        "\u001b[0;31mTypeError\u001b[0m: 'tuple' object does not support item assignment"
                    ]
                }
            ],
            "source": [
                "t[0] = 5"
            ]
        },
        {
            "cell_type": "code",
            "execution_count": 36,
            "metadata": {},
            "outputs": [
                {
                    "data": {
                        "text/plain": "(1, 2, 3, 4, [1, 2, 4])"
                    },
                    "execution_count": 36,
                    "metadata": {},
                    "output_type": "execute_result"
                }
            ],
            "source": [
                "#Intializing a tuple\n",
                "t = (1,2,3,4, [1,2,3])\n",
                "\n",
                "#Access in tuple to mutable objects is possible\n",
                "t[4][2] = 4\n",
                "\n",
                "#Note that the mutable object inside the tuple has been modified!\n",
                "t"
            ]
        },
        {
            "attachments": {},
            "cell_type": "markdown",
            "metadata": {},
            "source": [
                "You will usually see them defined thus:"
            ]
        },
        {
            "cell_type": "code",
            "execution_count": 37,
            "metadata": {},
            "outputs": [
                {
                    "name": "stdout",
                    "output_type": "stream",
                    "text": "(1, 2, 3, 4)\n"
                }
            ],
            "source": [
                "#(c) Casual way! \n",
                "z = 1,2,3,4 # or z = (1, 2, 3, 4)\n",
                "type(z) \n",
                "print(z)"
            ]
        },
        {
            "attachments": {},
            "cell_type": "markdown",
            "metadata": {},
            "source": [
                "## Tuple Operations"
            ]
        },
        {
            "attachments": {},
            "cell_type": "markdown",
            "metadata": {},
            "source": [
                "#### Nested Tuples"
            ]
        },
        {
            "cell_type": "code",
            "execution_count": 38,
            "metadata": {},
            "outputs": [],
            "source": [
                "# TUPLE LITERALS AND OPERATIONS\n",
                "# (a) Nested tuples\n",
                "T = ('Da Vinci', ('Painter','Sculptor'))\n",
                "\n",
                "# Print the message below using tuple T\n",
                "# Da Vinci was a great Painter\n",
                "# your code here\n",
                "\n",
                ""
            ]
        },
        {
            "attachments": {},
            "cell_type": "markdown",
            "metadata": {},
            "source": [
                "#### Indexing and Slicing"
            ]
        },
        {
            "cell_type": "code",
            "execution_count": 39,
            "metadata": {},
            "outputs": [
                {
                    "name": "stdout",
                    "output_type": "stream",
                    "text": "(1, 2)\n(5, 4, 3, 2, 1)\n1 (3, 4)\n"
                }
            ],
            "source": [
                "# Indexing and Slicing\n",
                "T1 = (1, 2, 3, 4, 5)\n",
                "print(T1[0:2]) \n",
                "print (T1[::-1]) \n",
                "print (T1[0], T1[2:4])"
            ]
        },
        {
            "attachments": {},
            "cell_type": "markdown",
            "metadata": {},
            "source": [
                "#### Iteration \u0026 Membership"
            ]
        },
        {
            "cell_type": "code",
            "execution_count": 40,
            "metadata": {},
            "outputs": [
                {
                    "name": "stdout",
                    "output_type": "stream",
                    "text": "1\n2\n3\n4\n5\n"
                }
            ],
            "source": [
                "# Iteration and Membership\n",
                "T1 = (1, 2, 3, 4, 5) \n",
                "for ele in T1:\n",
                "    print(ele)"
            ]
        },
        {
            "attachments": {},
            "cell_type": "markdown",
            "metadata": {},
            "source": [
                "#### Tuple Assignment"
            ]
        },
        {
            "cell_type": "code",
            "execution_count": 41,
            "metadata": {},
            "outputs": [
                {
                    "name": "stdout",
                    "output_type": "stream",
                    "text": "(4, 5, 6)\n(1, 2, 3)\n"
                }
            ],
            "source": [
                "# TUPLE ASSIGNMENT\n",
                "# Whenever we need to swap two variables, we use the conventional method: Using a temporary variable,\n",
                "# temp = a \n",
                "# a = b \n",
                "# b = temp\n",
                "\n",
                "#It is rather simple to perform swapping using tuple assignment (does not require 'temp' variable!)\n",
                "A = (1, 2, 3) \n",
                "B = (4, 5, 6) \n",
                "A, B = B, A \n",
                "print (A)\n",
                "print (B)"
            ]
        },
        {
            "attachments": {},
            "cell_type": "markdown",
            "metadata": {},
            "source": [
                "Why do you think the above worked?"
            ]
        },
        {
            "attachments": {},
            "cell_type": "markdown",
            "metadata": {},
            "source": [
                "\n",
                "\n",
                "### **Difference between (2,) 2,3 and (2) - why do we have to be careful about this?**"
            ]
        },
        {
            "cell_type": "code",
            "execution_count": 42,
            "metadata": {},
            "outputs": [
                {
                    "data": {
                        "text/plain": "(2, 3)"
                    },
                    "execution_count": 42,
                    "metadata": {},
                    "output_type": "execute_result"
                }
            ],
            "source": [
                "#look at 2,3 - is this a tuple?\n",
                "2,3"
            ]
        },
        {
            "attachments": {},
            "cell_type": "markdown",
            "metadata": {},
            "source": [
                "In Python, when you specify two numbers seperated by a comma, it defaults it to be a tuple. "
            ]
        },
        {
            "cell_type": "code",
            "execution_count": 43,
            "metadata": {},
            "outputs": [
                {
                    "data": {
                        "text/plain": "2"
                    },
                    "execution_count": 43,
                    "metadata": {},
                    "output_type": "execute_result"
                }
            ],
            "source": [
                "# look at (2) - is this a tuple?\n",
                "(2)"
            ]
        },
        {
            "attachments": {},
            "cell_type": "markdown",
            "metadata": {},
            "source": [
                "When you put a bracket over a number or string, it does not make it a tuple, it remains to be the integer or string type it is."
            ]
        },
        {
            "cell_type": "code",
            "execution_count": 44,
            "metadata": {},
            "outputs": [
                {
                    "data": {
                        "text/plain": "(2,)"
                    },
                    "execution_count": 44,
                    "metadata": {},
                    "output_type": "execute_result"
                }
            ],
            "source": [
                "#look at (2,) - is this a tuple?\n",
                "(2,)"
            ]
        },
        {
            "attachments": {},
            "cell_type": "markdown",
            "metadata": {},
            "source": [
                "This remains to be a tuple since we have put a comma."
            ]
        },
        {
            "cell_type": "code",
            "execution_count": 45,
            "metadata": {},
            "outputs": [
                {
                    "name": "stdout",
                    "output_type": "stream",
                    "text": "(2, 3)\n"
                }
            ],
            "source": [
                "a = 2 , 3\n",
                "print(a)"
            ]
        },
        {
            "attachments": {},
            "cell_type": "markdown",
            "metadata": {},
            "source": [
                "When we assign two numbers seperated by a comma to a single variable, Python takes it to be a tuple."
            ]
        },
        {
            "cell_type": "code",
            "execution_count": 46,
            "metadata": {},
            "outputs": [
                {
                    "name": "stdout",
                    "output_type": "stream",
                    "text": "2\n3\n"
                }
            ],
            "source": [
                "a,b = 2, 3\n",
                "print(a)\n",
                "print(b)"
            ]
        },
        {
            "attachments": {},
            "cell_type": "markdown",
            "metadata": {},
            "source": [
                "When we assign two numbers seperated by a comma to the corresponding number to variables, it is not considered to be a tuple. Rather it assigns it to the variables individually."
            ]
        },
        {
            "cell_type": "code",
            "execution_count": 47,
            "metadata": {},
            "outputs": [],
            "source": [
                ""
            ]
        },
        {
            "cell_type": "code",
            "execution_count": 48,
            "metadata": {},
            "outputs": [],
            "source": [
                ""
            ]
        }
    ]
}
