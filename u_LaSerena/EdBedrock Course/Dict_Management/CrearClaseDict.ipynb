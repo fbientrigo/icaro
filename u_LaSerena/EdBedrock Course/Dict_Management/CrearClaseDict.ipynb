{
    "metadata": {
        "kernelspec": {
            "name": "python3",
            "display_name": "Python 3 (ipykernel)",
            "language": "python"
        }
    },
    "nbformat": 4,
    "nbformat_minor": 2,
    "cells": [
        {
            "attachments": {},
            "cell_type": "markdown",
            "metadata": {},
            "source": [
                "## `Build your own Dictionary!`\n",
                "\n",
                "This is a somewhat challenging excercise, but we are confident that you can complete it. \n",
                ""
            ]
        },
        {
            "cell_type": "code",
            "execution_count": 9,
            "metadata": {},
            "outputs": [],
            "source": [
                "### edTest(test_class) ###\n",
                "class MyDict(object):\n",
                "    \"\"\"\n",
                "    Follow the instructions of this docstring to finish this Class.\n",
                "    MyDict will perform some of the same functions as a dictionary! \n",
                "    \n",
                "    Save the following attributes:\n",
                "    -------\n",
                "    _size : int  \n",
                "        the size of the dictionary \n",
                "    \n",
                "    _length : initialized to zero. \n",
                "        This variable will keep track of the number of items in the dictionary.\n",
                "    \n",
                "    _storage : a list of lists of length self.size.\n",
                "        Initialize this with empty lists. \n",
                "\n",
                "        Instead of looping through this list we will be using a \n",
                "        hash function to quickly index into this list\n",
                "        thus reducing the computation time needed\n",
                "        to find key-value pairs.\n",
                "\n",
                "        Essentially, which will store a list of key-value \n",
                "        pairs at each location.\n",
                "         \n",
                "        For example, this is what a completed unit with an entry might\n",
                "        look like:\n",
                "\n",
                "        [[], [], [], [[3, \"cat\"]], [], ..., []]\n",
                "\n",
                "        If we store a lot of keys, two entries might have the same hash.\n",
                "        Therefore we might need to store two entries at the same location, \n",
                "        for example:  \n",
                "        [[], [], [], [[3, \"cat\"], [33333333 : \"fire\"]], [], ..., []]\n",
                "    \n",
                "    \n",
                "    Finish the following Methods \n",
                "    -------\n",
                "    \n",
                "    __init__:\n",
                "        Assign the three attributes outlined above.\n",
                "        1. First assign `_size`\n",
                "        2. Assign `_length`\n",
                "        3. Assign `_storage`, which should be a list of lists of length size.\n",
                "           This list needs to be sufficiently large to take advantage of hashing.\n",
                "    \n",
                "    _hash_key: this function should return a key hash modulo the size.\n",
                "        i.e., 'hash(key) % size'. \n",
                "        For more information on hashing, visit:\n",
                "        https://www.educative.io/edpresso/what-is-hashing\n",
                "\n",
                "    __setitem__:\n",
                "        1. Get a storage index by calling the `_hash_key` function\n",
                "        2. Iterate through the storage list at the storage index. \n",
                "        3. Set a variable `flag` to False\n",
                "        4. If the key matches the first element, set the second item to the value and set the flag to True\n",
                "        5. If there is no match for the passed key (you can check this by checking the `flag` variable),\n",
                "           append a new [key, value] list to that storage location.\n",
                "        6. Increment the length of the dictionary\n",
                "        7. Return self._storage\n",
                "    \n",
                "    __getitem__:\n",
                "        1. Get a storage index by calling the `_hash_key` function\n",
                "        2. Iterate through the storage list at the storage index. \n",
                "            a. If the key matches the first element:\n",
                "                i. Return the value at the second list position.\n",
                "            b. Otherwise, raise a KeyError with a reasonable message.\n",
                "               A KeyError tells the user that our dictionary doesn't yet have\n",
                "               an entry for this key, for example: `KeyError(\"key not found!\")`\n",
                "    \n",
                "    __repr__: \n",
                "        Return the string representation of a dictionary: {'key': value, ...}\n",
                "    \"\"\"\n",
                "    def __init__(self, size=1000) -\u003e None:\n",
                "        self._size = size\n",
                "        self._length = 0\n",
                "        self._storage = [[] for _ in range(size)]\n",
                "    \n",
                "    def _hash_key(self, key) -\u003e int:\n",
                "        return hash(key) % self._size\n",
                "        \n",
                "    def __setitem__(self, key, value):\n",
                "        storage_idx = self._hash_key(key)\n",
                "        flag = False\n",
                "        for item in self._storage[storage_idx]:\n",
                "            if item[0] == key:\n",
                "                item[1] = value\n",
                "                flag = True\n",
                "                break\n",
                "        if flag == False:\n",
                "            self._storage[storage_idx].append([key, value])\n",
                "            self._length += 1\n",
                "        return self._storage\n",
                "    \n",
                "    def __getitem__(self, key):\n",
                "        storage_idx = self._hash_key(key)\n",
                "        for item in self._storage[storage_idx]:\n",
                "            if item[0] == key:\n",
                "                return item[1]\n",
                "        raise KeyError(f\"{key} not found!\")\n",
                "        \n",
                "    def __repr__(self):\n",
                "        pairs = [f\"'{item[0]}': {item[1]}\" for sublist in self._storage for item in sublist]\n",
                "        return \"{\" + \", \".join(pairs) + \"}\"\n",
                ""
            ]
        },
        {
            "attachments": {},
            "cell_type": "markdown",
            "metadata": {},
            "source": [
                "Create and test an object instance of your class:"
            ]
        },
        {
            "cell_type": "code",
            "execution_count": 10,
            "metadata": {},
            "outputs": [],
            "source": [
                "#instantiate a MyDict\n",
                "my_dict = MyDict(10)"
            ]
        },
        {
            "attachments": {},
            "cell_type": "markdown",
            "metadata": {},
            "source": [
                "Assign the following key-value pairs:\n",
                "\n",
                "`\"cat\" : \"tiger\"`,\n",
                "\n",
                "`\"dog\" : \"wolf\"`,\n",
                "\n",
                "`\"primate\" : \"human\"`"
            ]
        },
        {
            "cell_type": "code",
            "execution_count": 13,
            "metadata": {},
            "outputs": [],
            "source": [
                "#assign the key value painrs\n",
                "my_dict['cat'] = 'tiger'\n",
                "my_dict['dog'] = 'wolf'\n",
                "my_dict['primate'] = 'human'\n",
                ""
            ]
        },
        {
            "cell_type": "code",
            "execution_count": 16,
            "metadata": {},
            "outputs": [
                {
                    "name": "stdout",
                    "output_type": "stream",
                    "text": "The value matching key cat is tiger\nThe value matching key dog is wolf\nThe value matching key primate is human\n"
                }
            ],
            "source": [
                "#loop the the dictionary elements print the pairs of keys and values\n",
                "for key in [\"cat\", \"dog\", \"primate\"]:\n",
                "    print(f\"The value matching key {key} is {my_dict[key]}\")"
            ]
        },
        {
            "cell_type": "code",
            "execution_count": 15,
            "metadata": {},
            "outputs": [
                {
                    "name": "stdout",
                    "output_type": "stream",
                    "text": "{'dog': wolf, 'cat': tiger, 'primate': human}\n"
                }
            ],
            "source": [
                "#print your dictionary\n",
                "print(my_dict)"
            ]
        },
        {
            "cell_type": "code",
            "execution_count": 17,
            "metadata": {},
            "outputs": [
                {
                    "data": {
                        "text/plain": "{'dog': wolf, 'cat': tiger, 'primate': human}"
                    },
                    "execution_count": 17,
                    "metadata": {},
                    "output_type": "execute_result"
                }
            ],
            "source": [
                "#show the object representation of your dictionary\n",
                "my_dict"
            ]
        },
        {
            "attachments": {},
            "cell_type": "markdown",
            "metadata": {},
            "source": [
                "### ⏸ If we had defined __str__ instead of __repr__ in the above code and then run the above what would have happened?\n",
                "\n",
                "`\u003e\u003e\u003e my_dict`\n",
                "\n",
                "#### A. We would get the same expected output\n",
                "#### B. We would get an error\n",
                "#### C. The dictionary would print but not in the same order\n",
                "#### D. We would get a memory location such as: `\u003c__main__.MyDict at 0x7ff7d0ebb700\u003e`"
            ]
        },
        {
            "cell_type": "code",
            "execution_count": 18,
            "metadata": {},
            "outputs": [],
            "source": [
                "### edTest(test_q1) ###\n",
                "answer = 'D'"
            ]
        },
        {
            "attachments": {},
            "cell_type": "markdown",
            "metadata": {},
            "source": [
                "### ⏸ In which of the following ways is our dictionary class an example of cs abstraction?\n",
                "\n",
                "*There may be multiple right answers therefore your your answer should be a list comma separated, for example ['A' , 'B' , 'C']*\n",
                "\n",
                "#### A. If n is the length of our storage list and m is the length of the number of keys, then by implimenting the dictionary we have gone from O(n) to O(m) in terms of computational complexity and thus our code is more **efficient and powerful**.\n",
                "\n",
                "#### B. We have **generalized** the concept of a list and hash function into something more flexible, scalable, complex, and adaptable.\n",
                "#### C. We have **hidden** potentially confusing and difficult **implementation details** of the our class from the user. By camouflaging most of the mechanisms driving the class we have left it easy to call and use.\n",
                "#### D. The user can think in terms of an **intuitive concept** instead of the underlying hashed list and therefore we have made the code easier to use for the user to comprehend and interact with."
            ]
        },
        {
            "cell_type": "code",
            "execution_count": 22,
            "metadata": {},
            "outputs": [],
            "source": [
                "### edTest(test_q2) ###\n",
                "answer = ['B','C','D']"
            ]
        },
        {
            "cell_type": "code",
            "execution_count": 0,
            "metadata": {},
            "outputs": [],
            "source": [
                ""
            ]
        }
    ]
}
