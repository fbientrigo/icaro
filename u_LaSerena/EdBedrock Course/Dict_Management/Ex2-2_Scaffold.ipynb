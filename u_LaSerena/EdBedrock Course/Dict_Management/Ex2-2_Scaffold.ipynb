{
    "metadata": {
        "kernelspec": {
            "name": "python3",
            "display_name": "Python 3 (ipykernel)",
            "language": "python"
        }
    },
    "nbformat": 4,
    "nbformat_minor": 2,
    "cells": [
        {
            "attachments": {},
            "cell_type": "markdown",
            "metadata": {},
            "source": [
                "# The Book Keeper's Apprentice - List \u0026 Dict Comprehension\n",
                "\n",
                ""
            ]
        },
        {
            "cell_type": "code",
            "execution_count": 19,
            "metadata": {},
            "outputs": [],
            "source": [
                "#Importing necessary libraries\n",
                "from pprint import pprint\n",
                "import numpy as np\n",
                "import pickle"
            ]
        },
        {
            "cell_type": "code",
            "execution_count": 20,
            "metadata": {},
            "outputs": [],
            "source": [
                "# Load the pickle file of the dictionary\n",
                "# {Key --\u003e Author Name; Value --\u003e No. of books they've written} \n",
                "with open('authors_books_freq.pkl', 'rb') as handle:\n",
                "    authors_books_freq = pickle.load(handle)"
            ]
        },
        {
            "attachments": {},
            "cell_type": "markdown",
            "metadata": {},
            "source": [
                "## Part 1 - Average number of books written by an authors\n",
                "\n",
                "Using list comprehension, find out the average no. of books written by an author."
            ]
        },
        {
            "cell_type": "code",
            "execution_count": 21,
            "metadata": {},
            "outputs": [
                {
                    "name": "stdout",
                    "output_type": "stream",
                    "text": "The average number of books written by an author is 13.\n"
                }
            ],
            "source": [
                "### edTest(test_1) ###\n",
                "    ## DO NOT REMOVE ABOVE LINE ##\n",
                "\n",
                "#Using list comprehension, store the values of `authors_books_freq` in `values_list` \n",
                "values_list = [f for f in authors_books_freq.values()]\n",
                "\n",
                "#Calculate the average\n",
                "avg_books = sum(values_list)/len(values_list)\n",
                "\n",
                "print(f\"The average number of books written by an author is {avg_books:0.0f}.\")"
            ]
        },
        {
            "attachments": {},
            "cell_type": "markdown",
            "metadata": {},
            "source": [
                "## Part 2 - How many books written by some '`Charles`'?\n",
                "\n",
                "Using list comprehension, count all the books written by authors with \"Charles\" in their name.\n",
                ""
            ]
        },
        {
            "cell_type": "code",
            "execution_count": 23,
            "metadata": {},
            "outputs": [
                {
                    "name": "stdout",
                    "output_type": "stream",
                    "text": "The total number of books written by authors containing the name 'Charles' is 514.\n"
                }
            ],
            "source": [
                "### edTest(test_2) ###\n",
                "## DO NOT REMOVE ABOVE LINE ##\n",
                "\n",
                "#If the name of the author contains a \"Charles\", store the number of books written\n",
                "#by that author in out_list. Use list comprehension.\n",
                "out_list = [ freq for (author,freq) in authors_books_freq.items() if 'Charles' in author]\n",
                "\n",
                "#Count the total number of books in `out_list`\n",
                "count_of_books = sum(out_list)\n",
                "\n",
                "print(f\"The total number of books written by authors containing the name 'Charles' is {count_of_books}.\")"
            ]
        },
        {
            "attachments": {},
            "cell_type": "markdown",
            "metadata": {},
            "source": [
                "## Part 3 - How many `'William's`?\n",
                "\n",
                "Create a list using list comprehension with the following logic: \n",
                "* if the name of the author contains a \"William\", then store 1, else, store 0.\n",
                "* Proceed to then calculate the the ratio of authors with the name `William` in their name."
            ]
        },
        {
            "cell_type": "code",
            "execution_count": 25,
            "metadata": {},
            "outputs": [
                {
                    "name": "stdout",
                    "output_type": "stream",
                    "text": "1.68% of all authors have a name 'William'. \n"
                }
            ],
            "source": [
                "### edTest(test_3) ###\n",
                "## DO NOT REMOVE ABOVE LINE ##\n",
                "\n",
                "#If the name of the author contains a \"William\", store 1 in out_list\n",
                "#else store 0.\n",
                "out_list = [1 if 'William' in name else 0 for (name,_) in authors_books_freq.items() ]\n",
                "\n",
                "#Calculate the ratio of authors with the name \"William\" in their name.\n",
                "# HINT: You can do this by taking the sum of out_list and dividing \n",
                "# by the total number of elements in out_list.\n",
                "ratio = sum(out_list)/len(out_list)\n",
                "\n",
                "print(f\"{ratio*100:0.2f}% of all authors have a name 'William'. \")"
            ]
        },
        {
            "attachments": {},
            "cell_type": "markdown",
            "metadata": {},
            "source": [
                "## Part 4 - `\"Expert\"` or `\"Novice\"`?\n",
                "\n",
                "Using dictionary comprehension, create a new dictionary with:\n",
                "+ `key ---\u003e` the authors' name \n",
                "+ `value ---\u003e` \"Expert\" if the no. of books written by the author is more than 10 else \"Novice\"\n",
                "\n",
                "After creating the dictionary, print the ratio of to \"Novice\"to \"Expert\"."
            ]
        },
        {
            "cell_type": "code",
            "execution_count": 26,
            "metadata": {},
            "outputs": [
                {
                    "name": "stdout",
                    "output_type": "stream",
                    "text": "The ratio of Novice to Expert is 4.089264173703257\n"
                }
            ],
            "source": [
                "### edTest(test_4) ###\n",
                "## DO NOT REMOVE ABOVE LINE ##\n",
                "\n",
                "# Iterate through the 'authors_books_freq' and create a new dictionary with \n",
                "# key as the author's name,\n",
                "# value as \"Expert\" if the no. of books written is \u003e 10 else store value as \"Novice\"\n",
                "new_dict = {author: \"Expert\" if freq \u003e 10 else \"Novice\" for (author,freq) in authors_books_freq.items()}\n",
                "\n",
                "#Calculate the ratio of \"Novice\" to \"Expert\" \n",
                "#HINT: Use count()\n",
                "ratio = list(new_dict.values()).count('Novice')/list(new_dict.values()).count('Expert')\n",
                "print(f\"The ratio of Novice to Expert is {ratio}\")"
            ]
        },
        {
            "attachments": {},
            "cell_type": "markdown",
            "metadata": {},
            "source": [
                "### ⏸ The Expert of them all!\n",
                "\n",
                "According to `authors_books_freq`, which author has the highest number of books attributed to him/her/them from the given options?\n",
                "#### A. `Roald Dahl`\n",
                "#### B. `Mario Vargas Llosa`\n",
                "#### C. `Pavlos Protopopas`\n",
                "#### D. `Charles Dickens`\n",
                ""
            ]
        },
        {
            "cell_type": "code",
            "execution_count": 29,
            "metadata": {},
            "outputs": [
                {
                    "data": {
                        "text/plain": "'Mario Vargas Llosa'"
                    },
                    "execution_count": 29,
                    "metadata": {},
                    "output_type": "execute_result"
                }
            ],
            "source": [
                "max(authors_books_freq, key=authors_books_freq.get)"
            ]
        },
        {
            "cell_type": "code",
            "execution_count": 30,
            "metadata": {},
            "outputs": [],
            "source": [
                "### edTest(test_5) ###\n",
                "## DO NOT REMOVE ABOVE LINE ##\n",
                "your_answer = 'B'"
            ]
        },
        {
            "cell_type": "code",
            "execution_count": 0,
            "metadata": {},
            "outputs": [],
            "source": [
                ""
            ]
        }
    ]
}
