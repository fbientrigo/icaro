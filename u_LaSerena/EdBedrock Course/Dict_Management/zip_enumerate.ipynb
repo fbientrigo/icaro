{
    "metadata": {
        "kernelspec": {
            "name": "python3",
            "display_name": "Python 3",
            "language": "python"
        }
    },
    "nbformat": 4,
    "nbformat_minor": 2,
    "cells": [
        {
            "attachments": {},
            "cell_type": "markdown",
            "metadata": {},
            "source": [
                "# **Zip \u0026 Enumerate**\n",
                ""
            ]
        },
        {
            "attachments": {},
            "cell_type": "markdown",
            "metadata": {},
            "source": [
                "## **1) Zip**\n",
                "\n",
                "Python’s zip() function creates an iterator that will aggregate elements from two or more iterables. \n",
                "\n",
                "You can use the resulting iterator to quickly and consistently solve common programming problems, like creating dictionaries. "
            ]
        },
        {
            "cell_type": "code",
            "execution_count": 1,
            "metadata": {},
            "outputs": [
                {
                    "name": "stdout",
                    "output_type": "stream",
                    "text": "\u003czip object at 0x7f59ab0ff900\u003e\n[(1, 'a'), (2, 'b'), (3, 'c')]\n"
                }
            ],
            "source": [
                "numbers = [1, 2, 3]\n",
                "letters = ['a', 'b', 'c']\n",
                "\n",
                "#Zipping between numbers and letters\n",
                "zipped = zip(numbers, letters)\n",
                "\n",
                "print(zipped) # Holds an iterator object\n",
                "\n",
                "print(list(zipped))"
            ]
        },
        {
            "attachments": {},
            "cell_type": "markdown",
            "metadata": {},
            "source": [
                "Notice how the Python zip() function returns an iterator. \n",
                "\n",
                "To retrieve the final list object, you need to use list() to consume the iterator."
            ]
        },
        {
            "attachments": {},
            "cell_type": "markdown",
            "metadata": {},
            "source": [
                "You can also use zip to perform **parallel iteration**."
            ]
        },
        {
            "cell_type": "code",
            "execution_count": 2,
            "metadata": {},
            "outputs": [
                {
                    "name": "stdout",
                    "output_type": "stream",
                    "text": "Letter: a\nNumber: 0\nLetter: b\nNumber: 1\nLetter: c\nNumber: 2\n"
                }
            ],
            "source": [
                "letters = ['a', 'b', 'c']\n",
                "numbers = [0, 1, 2]\n",
                "for l, n in zip(letters, numbers):\n",
                "    print(f'Letter: {l}')\n",
                "    print(f'Number: {n}')"
            ]
        },
        {
            "attachments": {},
            "cell_type": "markdown",
            "metadata": {},
            "source": [
                "## Unpacking operator - *\n",
                "\n",
                "We've seen how to zip something. But how do we unzip something? This is where the * operator comes in."
            ]
        },
        {
            "cell_type": "code",
            "execution_count": 3,
            "metadata": {},
            "outputs": [
                {
                    "name": "stdout",
                    "output_type": "stream",
                    "text": "(1, 2, 3, 4)\n('a', 'b', 'c', 'd')\n"
                }
            ],
            "source": [
                "pairs = [(1, 'a'), (2, 'b'), (3, 'c'), (4, 'd')]\n",
                "numbers, letters = zip(*pairs)\n",
                "\n",
                "print(numbers)\n",
                "print(letters)"
            ]
        },
        {
            "attachments": {},
            "cell_type": "markdown",
            "metadata": {},
            "source": [
                "## **2) Enumerate**\n",
                "\n",
                "You can use Python’s enumerate() to get a counter and the value from the iterable at the same time. "
            ]
        },
        {
            "cell_type": "code",
            "execution_count": 4,
            "metadata": {},
            "outputs": [
                {
                    "name": "stdout",
                    "output_type": "stream",
                    "text": "1 a\n2 b\n3 c\n"
                }
            ],
            "source": [
                "values = [\"a\", \"b\", \"c\"]\n",
                "\n",
                "#Using enumerate function to start counter\n",
                "for count, value in enumerate(values, start=1):\n",
                "    print(count, value)"
            ]
        },
        {
            "cell_type": "code",
            "execution_count": 5,
            "metadata": {},
            "outputs": [
                {
                    "data": {
                        "text/plain": "[1, 3, 5, 7, 9]"
                    },
                    "execution_count": 5,
                    "metadata": {},
                    "output_type": "execute_result"
                }
            ],
            "source": [
                "a = []\n",
                "\n",
                "#Using enumerate to only get odd numbers\n",
                "for index, value in enumerate(range(10), start = 1):\n",
                "    if not index % 2:\n",
                "        a.append(value)\n",
                "\n",
                "a"
            ]
        },
        {
            "attachments": {},
            "cell_type": "markdown",
            "metadata": {},
            "source": [
                "How to perform same action with enumerate and zip?"
            ]
        },
        {
            "cell_type": "code",
            "execution_count": 6,
            "metadata": {},
            "outputs": [
                {
                    "name": "stdout",
                    "output_type": "stream",
                    "text": "0 a d g\n1 b e h\n2 c f i\n"
                }
            ],
            "source": [
                "##Zipping through three lists using ZIP\n",
                "first = [\"a\", \"b\", \"c\"]\n",
                "second = [\"d\", \"e\", \"f\"]\n",
                "third = [\"g\", \"h\", \"i\"]\n",
                "count = 0\n",
                "\n",
                "for one, two, three in zip(first, second, third):\n",
                "    print(count,one,two,three)\n",
                "    count +=1\n",
                ""
            ]
        },
        {
            "cell_type": "code",
            "execution_count": 7,
            "metadata": {},
            "outputs": [
                {
                    "name": "stdout",
                    "output_type": "stream",
                    "text": "0 a d g\n1 b e h\n2 c f i\n"
                }
            ],
            "source": [
                "##Performing the same by using enumerate\n",
                "for count, (one, two, three) in enumerate(zip(first, second, third)):\n",
                "    print(count, one, two, three)"
            ]
        },
        {
            "attachments": {},
            "cell_type": "markdown",
            "metadata": {},
            "source": [
                "## Zip \u0026 Enumerate in Action"
            ]
        },
        {
            "attachments": {},
            "cell_type": "markdown",
            "metadata": {},
            "source": [
                "1. There are three lists containing the coordinates of a location. The three lists correspond to x, y, z coordinates. Create a dictionary with the key being the location and value being a tuple containing the three coordinates."
            ]
        },
        {
            "cell_type": "code",
            "execution_count": 8,
            "metadata": {},
            "outputs": [
                {
                    "data": {
                        "text/plain": "{'p': (23, 677, 4),\n 'q': (53, 233, 16),\n 'z': (14, 432, 23),\n 'r': (-12, 433, -42),\n 'x': (95, 905, 3),\n 'y': (103, 376, -6),\n 'a': (-5, 445, -1)}"
                    },
                    "execution_count": 8,
                    "metadata": {},
                    "output_type": "execute_result"
                }
            ],
            "source": [
                "#Three lists corresponding to three coordinates\n",
                "x_coord = [23, 53, 2, -12, 95, 103, 14, -5]\n",
                "y_coord = [677, 233, 405, 433, 905, 376, 432, 445]\n",
                "z_coord = [4, 16, -6, -42, 3, -6, 23, -1]\n",
                "\n",
                "#List of points\n",
                "points = ['p','q','z','r','x','y','z','a']\n",
                "\n",
                "#Initializing dictionary\n",
                "location = {}\n",
                "\n",
                "#Using zip to create dictionary\n",
                "for x,y,z,point in zip(x_coord, y_coord, z_coord, points):\n",
                "    location[point] = (x,y,z)\n",
                "\n",
                "#Display final dictionary\n",
                "location"
            ]
        },
        {
            "attachments": {},
            "cell_type": "markdown",
            "metadata": {},
            "source": [
                "### Why chooose enumerate() over range()?"
            ]
        },
        {
            "attachments": {},
            "cell_type": "markdown",
            "metadata": {},
            "source": [
                "Using a range for creating a function that takes in numbers and outputs a fizzbuzz number."
            ]
        },
        {
            "cell_type": "code",
            "execution_count": 9,
            "metadata": {},
            "outputs": [],
            "source": [
                "numbers = [12,213,412,42,24124,21,52,734]"
            ]
        },
        {
            "cell_type": "code",
            "execution_count": 10,
            "metadata": {},
            "outputs": [
                {
                    "data": {
                        "text/plain": "['fizz', 'fizz', 412, 'fizz', 24124, 'fizz', 52, 734]"
                    },
                    "execution_count": 10,
                    "metadata": {},
                    "output_type": "execute_result"
                }
            ],
            "source": [
                "#GOOD TO USE\n",
                "\n",
                "#USING enumerate\n",
                "for i, num in enumerate(numbers):\n",
                "    if num % 3 == 0:\n",
                "        numbers[i] = \"fizz\"\n",
                "    elif num % 5 == 0:\n",
                "        numbers[i] = \"buzz\"\n",
                "    elif num % 5 == 0 and num % 3 == 0:\n",
                "        numbers[i] = \"fizzbuzz\"\n",
                "\n",
                "numbers"
            ]
        },
        {
            "cell_type": "code",
            "execution_count": 11,
            "metadata": {},
            "outputs": [
                {
                    "data": {
                        "text/plain": "['fizz', 'fizz', 412, 'fizz', 24124, 'fizz', 52, 734]"
                    },
                    "execution_count": 11,
                    "metadata": {},
                    "output_type": "execute_result"
                }
            ],
            "source": [
                "#NOT SO GOOD TO USE\n",
                "\n",
                "#USING range\n",
                "numbers = [12,213,412,42,24124,21,52,734]\n",
                "\n",
                "for i in range(len(numbers)):\n",
                "    num = numbers[i]\n",
                "    if num % 3 == 0:\n",
                "        numbers[i] = \"fizz\"\n",
                "    if num % 5 == 0:\n",
                "        numbers[i] = \"buzz\"\n",
                "    if num % 5 == 0 and num % 3 == 0:\n",
                "        numbers[i] = \"fizzbuzz\"\n",
                "\n",
                "numbers"
            ]
        },
        {
            "attachments": {},
            "cell_type": "markdown",
            "metadata": {},
            "source": [
                "Both are valid. The first solution looks more similar to the problem description, while the second solution has a slight optimization where you don’t mutate the list potentially three times per iteration."
            ]
        }
    ]
}
