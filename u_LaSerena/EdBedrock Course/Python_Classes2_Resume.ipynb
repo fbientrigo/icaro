{
    "metadata": {
        "kernelspec": {
            "name": "python3",
            "display_name": "Python 3",
            "language": "python"
        }
    },
    "nbformat": 4,
    "nbformat_minor": 4,
    "cells": [
        {
            "attachments": {},
            "cell_type": "markdown",
            "metadata": {},
            "source": [
                "# Python Dunder methods and inheritance"
            ]
        },
        {
            "attachments": {},
            "cell_type": "markdown",
            "metadata": {},
            "source": [
                "In this second session 4 tutorial we will be covering inheritance and more dunder methods. For even more information see the post-class resources."
            ]
        },
        {
            "attachments": {},
            "cell_type": "markdown",
            "metadata": {},
            "source": [
                "# String dunder methods\n",
                "\n",
                "### `__str__` and `__repr__`"
            ]
        },
        {
            "attachments": {},
            "cell_type": "markdown",
            "metadata": {},
            "source": [
                ""
            ]
        },
        {
            "cell_type": "code",
            "execution_count": 98,
            "metadata": {},
            "outputs": [],
            "source": [
                "class Circle:\n",
                "    \"\"\"a simple circle python class\"\"\"\n",
                "    pi = 3.14159265359\n",
                "    def __init__(self, radius):\n",
                "        \"\"\"\n",
                "        Parameters\n",
                "        -------\n",
                "        radius: float\n",
                "            the radius of the circle\n",
                "        \"\"\"\n",
                "        self.radius = radius\n",
                "        self.calc_area()\n",
                "        self.calc_perimeter()\n",
                "    def calc_area(self):\n",
                "        \"\"\" calculates the area of a circle\n",
                "        Returns\n",
                "        -------\n",
                "        area: float\n",
                "            the area of a circle\n",
                "        \"\"\"\n",
                "        self.area = self.pi * self.radius ** 2\n",
                "        return self.area\n",
                "    def calc_perimeter(self):\n",
                "        \"\"\" calculates the area of a circle\n",
                "        Returns\n",
                "        -------\n",
                "        perimeter: float\n",
                "            the perimeter of a circle\n",
                "        \"\"\"\n",
                "        self.perimeter = self.pi * self.radius * 2\n",
                "        return self.perimeter"
            ]
        },
        {
            "attachments": {},
            "cell_type": "markdown",
            "metadata": {},
            "source": [
                "### `__call__`\n",
                ""
            ]
        },
        {
            "attachments": {},
            "cell_type": "markdown",
            "metadata": {},
            "source": [
                "`__call__` allows us to call our methods like functions. We often want to use `__call__` when we want our object to change state. For example, we may want our circle function to accept a new radius every time it is called."
            ]
        },
        {
            "cell_type": "code",
            "execution_count": 99,
            "metadata": {},
            "outputs": [],
            "source": [
                "class Circle:\n",
                "    \"\"\"a simple circle python class\"\"\"\n",
                "    pi = 3.14159265359\n",
                "    def __init__(self, radius = 1):\n",
                "        self.radius = radius\n",
                "        print(f'initializing radius: {self.radius}')\n",
                "        self.calc_area()\n",
                "        print(f'initial area: {self.area}')\n",
                "    def calc_area(self):\n",
                "        self.area = self.pi * self.radius ** 2\n",
                "        return self.area\n",
                "    def __call__(self, radius = 1):\n",
                "        self.radius = radius\n",
                "        print(f'new radius: {self.radius}')\n",
                "        self.calc_area()\n",
                "        print(f'new area: {self.area}')"
            ]
        },
        {
            "cell_type": "code",
            "execution_count": 100,
            "metadata": {},
            "outputs": [
                {
                    "name": "stdout",
                    "output_type": "stream",
                    "text": "initializing radius: 1\ninitial area: 3.14159265359\n"
                }
            ],
            "source": [
                "small_circle = Circle(1)"
            ]
        },
        {
            "cell_type": "code",
            "execution_count": 101,
            "metadata": {},
            "outputs": [
                {
                    "name": "stdout",
                    "output_type": "stream",
                    "text": "new radius: 5\nnew area: 78.53981633975\n"
                }
            ],
            "source": [
                "#now lets change the circles radius:\n",
                "small_circle(5)"
            ]
        },
        {
            "attachments": {},
            "cell_type": "markdown",
            "metadata": {},
            "source": [
                ""
            ]
        },
        {
            "attachments": {},
            "cell_type": "markdown",
            "metadata": {},
            "source": [
                "We saw in class that we want to have custom string representations of our objects, that are not random hexadecimal memory locations"
            ]
        },
        {
            "cell_type": "code",
            "execution_count": 102,
            "metadata": {},
            "outputs": [
                {
                    "data": {
                        "text/plain": "\u003c__main__.Circle at 0x7f67f5b58d00\u003e"
                    },
                    "execution_count": 102,
                    "metadata": {},
                    "output_type": "execute_result"
                }
            ],
            "source": [
                "small_circle"
            ]
        },
        {
            "attachments": {},
            "cell_type": "markdown",
            "metadata": {},
            "source": [
                "For example, we may the string representation of our object to be the dictionary of its attributes.\n",
                "However if we define `__str__` only our class object only shows the string representation if we print it, not implicitly:"
            ]
        },
        {
            "cell_type": "code",
            "execution_count": 103,
            "metadata": {},
            "outputs": [],
            "source": [
                "class Circle:\n",
                "    \"\"\"a simple circle python class\"\"\"\n",
                "    pi = 3.14159265359\n",
                "    def __init__(self, radius = 1):\n",
                "        self.radius = radius\n",
                "        self.calc_area()\n",
                "        self.calc_perimeter()\n",
                "    def calc_area(self):\n",
                "        self.area = self.pi * self.radius ** 2\n",
                "    def calc_perimeter(self):\n",
                "        self.perimeter = self.pi * 2 * self.radius\n",
                "    def __call__(self, radius = 1):\n",
                "        self.radius = radius\n",
                "        self.calc_area()\n",
                "    def __str__(self):\n",
                "        return str(vars(self))\n",
                ""
            ]
        },
        {
            "cell_type": "code",
            "execution_count": 104,
            "metadata": {},
            "outputs": [
                {
                    "name": "stdout",
                    "output_type": "stream",
                    "text": "{'radius': 1, 'area': 3.14159265359, 'perimeter': 6.28318530718}\n"
                }
            ],
            "source": [
                "circle_with_repr = Circle()\n",
                "print(circle_with_repr)"
            ]
        },
        {
            "cell_type": "code",
            "execution_count": 105,
            "metadata": {},
            "outputs": [
                {
                    "data": {
                        "text/plain": "\u003c__main__.Circle at 0x7f67f5b79490\u003e"
                    },
                    "execution_count": 105,
                    "metadata": {},
                    "output_type": "execute_result"
                }
            ],
            "source": [
                "circle_with_repr"
            ]
        },
        {
            "attachments": {},
            "cell_type": "markdown",
            "metadata": {},
            "source": [
                "To understand a little bit about `__main__` see this [resource](https://docs.python.org/3/library/__main__.html).\n",
                "\n",
                "If on the other hand we define `__repr__`, both print and implicit spring representations are customized:"
            ]
        },
        {
            "cell_type": "code",
            "execution_count": 106,
            "metadata": {},
            "outputs": [],
            "source": [
                "class Circle:\n",
                "    \"\"\"a simple circle python class\"\"\"\n",
                "    pi = 3.14159265359\n",
                "    def __init__(self, radius = 1):\n",
                "        self.radius = radius\n",
                "        self.calc_area()\n",
                "        self.calc_perimeter()\n",
                "    def calc_area(self):\n",
                "        self.area = self.pi * self.radius ** 2\n",
                "        return self.area\n",
                "    def calc_perimeter(self):\n",
                "        self.perimeter = self.pi * 2 * self.radius\n",
                "    def __call__(self, radius = 1):\n",
                "        self.radius = radius\n",
                "        self.calc_area()\n",
                "    def __repr__(self):\n",
                "        return str(vars(self))"
            ]
        },
        {
            "cell_type": "code",
            "execution_count": 107,
            "metadata": {},
            "outputs": [
                {
                    "data": {
                        "text/plain": "{'radius': 1, 'area': 3.14159265359, 'perimeter': 6.28318530718}"
                    },
                    "execution_count": 107,
                    "metadata": {},
                    "output_type": "execute_result"
                }
            ],
            "source": [
                "circle_with_str = Circle()\n",
                "circle_with_str"
            ]
        },
        {
            "cell_type": "code",
            "execution_count": 108,
            "metadata": {},
            "outputs": [
                {
                    "name": "stdout",
                    "output_type": "stream",
                    "text": "{'radius': 1, 'area': 3.14159265359, 'perimeter': 6.28318530718}\n"
                }
            ],
            "source": [
                "print(circle_with_str)"
            ]
        },
        {
            "attachments": {},
            "cell_type": "markdown",
            "metadata": {},
            "source": [
                "# Inheritance:\n",
                "Before we get to iteration dunder methods lets spend some time talking about inheritance. \n",
                "\n",
                "When coding we want to be as efficient as possible. With respect to classes this means that we don't want to have to redefine shared methods over and over. For example, we may want all of our shapes to share the `__repr__` method we defined for circles above.\n",
                "\n",
                "What we need to do is define a `Parent` class that can pass methods and attributes to the `Child` classes\n",
                "\n",
                "Lets make a parent class shape that does exactly that!\n",
                "\n",
                "\n",
                "\n",
                "\n",
                ""
            ]
        },
        {
            "cell_type": "code",
            "execution_count": 109,
            "metadata": {},
            "outputs": [],
            "source": [
                "class Shape:\n",
                "    def __repr__(self):\n",
                "        return str(vars(self))"
            ]
        },
        {
            "attachments": {},
            "cell_type": "markdown",
            "metadata": {},
            "source": [
                "Now lets define a rectangle class and see if the repr method will work:\n",
                "\n",
                "The syntax we need for inheritance is as follows:\n",
                "`class Child(Parent)`"
            ]
        },
        {
            "cell_type": "code",
            "execution_count": 110,
            "metadata": {},
            "outputs": [],
            "source": [
                "class Rectangle(Shape):\n",
                "    \"\"\"a simple rectangle python class\"\"\"\n",
                "    def __init__(self, length, width):\n",
                "        self.length, self.width = length, width\n",
                "        self.calc_area()\n",
                "    def calc_area(self):\n",
                "        self.area = self.length * self.width\n",
                "        return self.area\n",
                "    def calc_perimeter(self):\n",
                "        self.perimeter = 2*self.length + 2*self.width"
            ]
        },
        {
            "cell_type": "code",
            "execution_count": 111,
            "metadata": {},
            "outputs": [
                {
                    "data": {
                        "text/plain": "{'length': 4, 'width': 5, 'area': 20}"
                    },
                    "execution_count": 111,
                    "metadata": {},
                    "output_type": "execute_result"
                }
            ],
            "source": [
                "my_rect = Rectangle(length = 4, width= 5)\n",
                "my_rect"
            ]
        },
        {
            "attachments": {},
            "cell_type": "markdown",
            "metadata": {},
            "source": [
                "Indeed we successfully passed a method to the child class! However, we also can see that `__init__` is likely the same for all of our shape classes. We really just care about area and perimeter and we expect all the child classes to share those methods. We can use `*kwargs` to pass all the arguments to the init function to the next function:\n",
                "\n",
                "So lets re-write what we did above:\n",
                "\n",
                "Here [`**kwargs`](https://www.geeksforgeeks.org/args-kwargs-python/) stores all the variables inputed to the init function as a dictionary. next [`setattr`](https://www.programiz.com/python-programming/methods/built-in/setattr) sets the attribute with name as key to self with value val.\n",
                ""
            ]
        },
        {
            "cell_type": "code",
            "execution_count": 112,
            "metadata": {},
            "outputs": [],
            "source": [
                "class Shape:\n",
                "    def __repr__(self):\n",
                "        return str(vars(self))\n",
                "    def __init__(self, **kwargs):\n",
                "        print(f'kwargs: {kwargs}')\n",
                "        for key, val in kwargs.items():\n",
                "            setattr(self, key, val)\n",
                "        self.calc_area()\n",
                "        self.calc_perimeter()"
            ]
        },
        {
            "attachments": {},
            "cell_type": "markdown",
            "metadata": {},
            "source": [
                "Now lets re-write the Rectangle class:"
            ]
        },
        {
            "cell_type": "code",
            "execution_count": 113,
            "metadata": {},
            "outputs": [],
            "source": [
                "class Rectangle(Shape):\n",
                "    \"\"\"a simple rectangle python class\"\"\"\n",
                "    def calc_area(self):\n",
                "        self.area = self.length * self.width\n",
                "        return self.area\n",
                "    def calc_perimeter(self):\n",
                "        self.perimeter = 2*self.length + 2*self.width"
            ]
        },
        {
            "cell_type": "code",
            "execution_count": 114,
            "metadata": {},
            "outputs": [
                {
                    "name": "stdout",
                    "output_type": "stream",
                    "text": "kwargs: {'length': 4, 'width': 5}\n"
                },
                {
                    "data": {
                        "text/plain": "{'length': 4, 'width': 5, 'area': 20, 'perimeter': 18}"
                    },
                    "execution_count": 114,
                    "metadata": {},
                    "output_type": "execute_result"
                }
            ],
            "source": [
                "my_rect = Rectangle(length = 4, width= 5)\n",
                "my_rect"
            ]
        },
        {
            "attachments": {},
            "cell_type": "markdown",
            "metadata": {},
            "source": [
                "We can see that indeed although we didn't specify which arguments `Rectangle` could take, length and width are assigned as attributes after being passed to the parent's `__init__` method.\n",
                "\n",
                "Lets see if this also works for Circle:"
            ]
        },
        {
            "cell_type": "code",
            "execution_count": 130,
            "metadata": {},
            "outputs": [],
            "source": [
                "class Circle(Shape):\n",
                "    \"\"\"a simple circle python class\"\"\"\n",
                "    pi = 3.14159265359\n",
                "    def calc_area(self):\n",
                "        self.area = self.pi * self.radius ** 2\n",
                "    def calc_perimeter(self):\n",
                "        self.perimeter = self.pi * self.radius * 2"
            ]
        },
        {
            "cell_type": "code",
            "execution_count": 131,
            "metadata": {},
            "outputs": [
                {
                    "name": "stdout",
                    "output_type": "stream",
                    "text": "kwargs: {'radius': 3}\n"
                },
                {
                    "data": {
                        "text/plain": "{'radius': 3, 'area': 28.27433388231, 'perimeter': 18.849555921540002}"
                    },
                    "execution_count": 131,
                    "metadata": {},
                    "output_type": "execute_result"
                }
            ],
            "source": [
                "my_circle = Circle(radius = 3)\n",
                "my_circle"
            ]
        },
        {
            "attachments": {},
            "cell_type": "markdown",
            "metadata": {},
            "source": [
                "Fantastic! We've really simplified our child classes!"
            ]
        },
        {
            "attachments": {},
            "cell_type": "markdown",
            "metadata": {},
            "source": [
                "## Inheritance continued: Overwriting parent methods:\n",
                "Now suppose that we want to make a python class that is a square. A square is a special case of a rectangle where the length and width are equal. Because this is a special case of the previous class we will inherit it by calling \n",
                ""
            ]
        },
        {
            "cell_type": "code",
            "execution_count": 132,
            "metadata": {},
            "outputs": [],
            "source": [
                "class Square(Rectangle):\n",
                "    \"\"\"a simple rectangle python class\"\"\"\n",
                "    def __init__(self, side_length):\n",
                "        self.length, self.width = side_length, side_length\n",
                "        self.calc_area()\n",
                "        self.calc_perimeter()"
            ]
        },
        {
            "cell_type": "code",
            "execution_count": 133,
            "metadata": {},
            "outputs": [
                {
                    "data": {
                        "text/plain": "{'length': 5, 'width': 5, 'area': 25, 'perimeter': 20}"
                    },
                    "execution_count": 133,
                    "metadata": {},
                    "output_type": "execute_result"
                }
            ],
            "source": [
                "my_square = Square(5)\n",
                "my_square"
            ]
        },
        {
            "attachments": {},
            "cell_type": "markdown",
            "metadata": {},
            "source": [
                "This time we didn't even need to redefine `calc_area` or `calc_perimeter!`"
            ]
        },
        {
            "attachments": {},
            "cell_type": "markdown",
            "metadata": {},
            "source": [
                "One aspect of python classes that we didn't discuss very much in class is `polymorphism`. Polymorphism means that child classes can take on different forms than the parent (really take on different forms in general). That is, our child class (square) can over-write the parent classes methods. Here we will over-write the parent's init method.\n",
                "\n",
                "To see how to call the parent's methods see the section on `super()` at the end of this tutorial."
            ]
        },
        {
            "attachments": {},
            "cell_type": "markdown",
            "metadata": {},
            "source": [
                "# Iteration dunder methods:\n",
                " `__getitem__`, `__setitem__`, `__len__`"
            ]
        },
        {
            "attachments": {},
            "cell_type": "markdown",
            "metadata": {},
            "source": [
                "Below we have built a class which takes a list of floats, interprets them as integers, and then makes a list of `Circle` instances.\n",
                "\n",
                "This may seem like a pointless toy example, and indeed it is, but it demonstrates the fact that we can assign our dunder method totally customized functionality.\n",
                "\n",
                "For example, you will notice below that `__setitem__` takes a radius argument and then constructs a circle instance and finally replaces the list element with the instance.\n",
                "\n",
                "In addition, `__len__` has been assigned to return the sum of the perimeters of all circles in the list. \n",
                "\n",
                "This powerful flexibility has led python to have more than `200,000` packages with all kinds of functionality. After all, armed with classes you are very close to being equiped to build your own packages!"
            ]
        },
        {
            "cell_type": "code",
            "execution_count": 134,
            "metadata": {},
            "outputs": [],
            "source": [
                "shape_specs = {\"squares\" : 3, \"circles\" : 2,}"
            ]
        },
        {
            "cell_type": "code",
            "execution_count": 178,
            "metadata": {},
            "outputs": [],
            "source": [
                "class List_of_Circles(Shape):\n",
                "    \"\"\"a list of shapes class\"\"\"\n",
                "    def __init__(self, radius_list):\n",
                "        \"\"\"\n",
                "        Parameters\n",
                "        -------\n",
                "        radius_lst: list or tuple \n",
                "            a list of radii from which to construct circle instances\n",
                "        \"\"\"\n",
                "        self.shapes = []\n",
                "        for radius in radius_list:\n",
                "            print('radius', radius)\n",
                "            circle = Circle(radius = radius)\n",
                "            self.shapes.append(circle)\n",
                "    def __len__(self):\n",
                "        \"\"\" returns the total perimeter of all circles in the list, rounded to the nearest integer\n",
                "        \"\"\"\n",
                "        total_perimeter = 0\n",
                "        for circle in self.shapes:\n",
                "            total_perimeter += circle.perimeter\n",
                "        return int(total_perimeter)\n",
                "    def __getitem__(self, index):\n",
                "        \"\"\"\n",
                "        Parameters\n",
                "        -------\n",
                "        index: int\n",
                "            the list index\n",
                "        \"\"\"\n",
                "        return self.shapes[index]\n",
                "    def __setitem__(self, index, radius):\n",
                "        \"\"\"replaces one circle instance in the list with another\n",
                "        Parameters\n",
                "        --------\n",
                "        index: int\n",
                "            the index at which to insert the shape\n",
                "        radius: float\n",
                "            the radius of the circle to be inserted\n",
                "        \"\"\"\n",
                "        assert isinstance(radius, float), 'only accepts floats for radius'\n",
                "        self.shapes[index] = Circle(radius = radius)\n",
                ""
            ]
        },
        {
            "cell_type": "code",
            "execution_count": 179,
            "metadata": {},
            "outputs": [
                {
                    "name": "stdout",
                    "output_type": "stream",
                    "text": "radius 1\nkwargs: {'radius': 1}\nradius 22.2\nkwargs: {'radius': 22.2}\nradius 3\nkwargs: {'radius': 3}\n"
                },
                {
                    "data": {
                        "text/plain": "164"
                    },
                    "execution_count": 179,
                    "metadata": {},
                    "output_type": "execute_result"
                }
            ],
            "source": [
                "my_circle_list = List_of_Circles([1,22.2,3])\n",
                "len(my_circle_list)"
            ]
        },
        {
            "attachments": {},
            "cell_type": "markdown",
            "metadata": {},
            "source": [
                "# Dunder attributes\n",
                "\n",
                "`__class__` and `__doc__`"
            ]
        },
        {
            "attachments": {},
            "cell_type": "markdown",
            "metadata": {},
            "source": [
                "These dunder attributes give us the class of the instance and the documentation of the instance or method to investigate."
            ]
        },
        {
            "cell_type": "code",
            "execution_count": 180,
            "metadata": {},
            "outputs": [
                {
                    "data": {
                        "text/plain": "__main__.List_of_Circles"
                    },
                    "execution_count": 180,
                    "metadata": {},
                    "output_type": "execute_result"
                }
            ],
            "source": [
                "my_circle_list.__class__"
            ]
        },
        {
            "cell_type": "code",
            "execution_count": 181,
            "metadata": {},
            "outputs": [
                {
                    "name": "stdout",
                    "output_type": "stream",
                    "text": "a list of shapes class\n"
                }
            ],
            "source": [
                "print(my_circle_list.__doc__)"
            ]
        },
        {
            "cell_type": "code",
            "execution_count": 182,
            "metadata": {},
            "outputs": [
                {
                    "name": "stdout",
                    "output_type": "stream",
                    "text": "replaces one circle instance in the list with another\n        Parameters\n        --------\n        index: int\n            the index at which to insert the shape\n        radius: float\n            the radius of the circle to be inserted\n        \n"
                }
            ],
            "source": [
                "print(my_circle_list.__setitem__.__doc__)"
            ]
        },
        {
            "attachments": {},
            "cell_type": "markdown",
            "metadata": {},
            "source": [
                "# Bonus: super()"
            ]
        },
        {
            "attachments": {},
            "cell_type": "markdown",
            "metadata": {},
            "source": [
                "### Further resources"
            ]
        },
        {
            "cell_type": "code",
            "execution_count": 0,
            "metadata": {},
            "outputs": [],
            "source": [
                ""
            ]
        }
    ]
}
