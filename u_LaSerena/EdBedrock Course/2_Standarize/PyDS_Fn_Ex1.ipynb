{
    "metadata": {
        "kernelspec": {
            "name": "python3",
            "display_name": "Python 3 (ipykernel)",
            "language": "python"
        }
    },
    "nbformat": 4,
    "nbformat_minor": 0,
    "cells": [
        {
            "attachments": {},
            "cell_type": "markdown",
            "metadata": {},
            "source": [
                "## Import data and take a look at it"
            ]
        },
        {
            "cell_type": "code",
            "execution_count": 1,
            "metadata": {},
            "outputs": [
                {
                    "name": "stdout",
                    "output_type": "stream",
                    "text": "[47, 64, 32, 64, 21, 72, 31, 11, 56, 26]\n[27, 11, 17, 36, 24, 36, 5, 9, 39, 49]\n"
                }
            ],
            "source": [
                "#Import gen_data function\n",
                "from data_gen import gen_data\n",
                "\n",
                "#Get the data by calling the gen_data function\n",
                "data1,data2 = gen_data()\n",
                "\n",
                "#Print 10 entries from data1 and data2\n",
                "print(data1[:10])\n",
                "print(data2[:10])"
            ]
        },
        {
            "attachments": {},
            "cell_type": "markdown",
            "metadata": {},
            "source": [
                "## Standardize the data:\n",
                "1. Calculate it's mean $\\mu = (\\frac{\\Sigma(x_i)}{n})$ \n",
                "2. Calculate it's standard deviation $(\\frac{\\Sigma(x_i^2)}{n} - \\mu^2)^{1/2}$.\n",
                "3. For each element perform the following:\n",
                "\n",
                "    $z_i = \\frac{x_i - \\mu}{\\sigma}$"
            ]
        },
        {
            "cell_type": "code",
            "execution_count": 3,
            "metadata": {},
            "outputs": [],
            "source": [
                "from math import sqrt"
            ]
        },
        {
            "cell_type": "code",
            "execution_count": 4,
            "metadata": {},
            "outputs": [
                {
                    "name": "stdout",
                    "output_type": "stream",
                    "text": "[-0.25458086605908237, 0.3971093497223363, -0.829601644689746, 0.3971093497223363, -1.2512835490188992, 0.7037870983253569, -0.8679363632651235, -1.634630734772675, 0.09043160111931575, -1.0596099561420114]\n"
                }
            ],
            "source": [
                "### edTest(test_std) ###\n",
                "#Use list comprehension to square each element of the list data1\n",
                "data_sq1 = [x**2 for x in data1]\n",
                "\n",
                "#Calculate mean and standard deviation using formula provided in the markdown cell above\n",
                "mean1 = sum(data1)/len(data1)\n",
                "std1 = sqrt( sum(data_sq1)/len(data_sq1) - mean1**2 )\n",
                "\n",
                "#Standardize the data using list comprehension and display 10 elements\n",
                "std_data = [(x - mean1)/std1 for x in data1]\n",
                "print(std_data[:10])"
            ]
        },
        {
            "attachments": {},
            "cell_type": "markdown",
            "metadata": {},
            "source": [
                "### Similarly standardize data2"
            ]
        },
        {
            "cell_type": "code",
            "execution_count": 5,
            "metadata": {},
            "outputs": [
                {
                    "name": "stdout",
                    "output_type": "stream",
                    "text": "[0.3549398997058298, -0.46336534457274015, -0.15650087796827644, 0.8152365996125254, 0.2015076664035979, 0.8152365996125254, -0.7702298111772039, -0.5656535001075614, 0.9686688329147572, 1.4801096105888634]\n"
                }
            ],
            "source": [
                "#Use list comprehension to square each element of the list data2\n",
                "data_sq2 = [x**2 for x in data2]\n",
                "\n",
                "mean2 = sum(data2)/len(data2)\n",
                "std2 = sqrt( sum(data_sq2)/len(data_sq2) - mean2**2 )\n",
                "\n",
                "std_data2 = [(x - mean2)/std2 for x in data2]\n",
                "print(std_data2[:10])"
            ]
        },
        {
            "attachments": {},
            "cell_type": "markdown",
            "metadata": {},
            "source": [
                "### ⏸ If you had 1000 such data sets, what would be the most efficient way of standardizing them all?\n",
                "\n",
                "#### A. Copy-paste the code for each dataset.\n",
                "#### B. Call the TA and ask him/her to do it.\n",
                "#### C. Write a function to standardize the data."
            ]
        },
        {
            "cell_type": "code",
            "execution_count": 6,
            "metadata": {},
            "outputs": [],
            "source": [
                "### edTest(test_chow1) ###\n",
                "# Submit an answer choice as a string below (eg. if you choose option A put 'A')\n",
                "\n",
                "answer = 'C'"
            ]
        },
        {
            "attachments": {},
            "cell_type": "markdown",
            "metadata": {},
            "source": [
                "## Writing a Function\n",
                "Manually copy pasting code in order to process all different datasets would be very tedious and it also reduces code readability which increases chances of small errors.\n",
                "\n",
                "Which is why we will declare a function to do the job for us. Everytime we want to standardize data all we have to do is simply call the function."
            ]
        },
        {
            "cell_type": "code",
            "execution_count": 7,
            "metadata": {},
            "outputs": [],
            "source": [
                "### edTest(test_func) ###\n",
                "#Define a function which calculates mean and std of input data, and returns standardized data\n",
                "def standardize(data):\n",
                "  data_sq = [x**2 for x in data]\n",
                "  mean = sum(data)/len(data)\n",
                "  std = sqrt( sum(data_sq)/len(data_sq) - mean**2 )\n",
                "  return [(x - mean)/std for x in data]"
            ]
        },
        {
            "cell_type": "code",
            "execution_count": 8,
            "metadata": {},
            "outputs": [
                {
                    "name": "stdout",
                    "output_type": "stream",
                    "text": "[-0.25458086605908237, 0.3971093497223363, -0.829601644689746, 0.3971093497223363, -1.2512835490188992, 0.7037870983253569, -0.8679363632651235, -1.634630734772675, 0.09043160111931575, -1.0596099561420114]\n"
                }
            ],
            "source": [
                "#Call the standardize function on data1 and display 10 elements\n",
                "data1_std = standardize(data1)\n",
                "print(data1_std[:10])"
            ]
        },
        {
            "cell_type": "code",
            "execution_count": 9,
            "metadata": {},
            "outputs": [
                {
                    "name": "stdout",
                    "output_type": "stream",
                    "text": "[0.3549398997058298, -0.46336534457274015, -0.15650087796827644, 0.8152365996125254, 0.2015076664035979, 0.8152365996125254, -0.7702298111772039, -0.5656535001075614, 0.9686688329147572, 1.4801096105888634]\n"
                }
            ],
            "source": [
                "#Call the standardize function on data2 and display 10 elements\n",
                "data2_std = standardize(data2)\n",
                "print(data2_std[:10])"
            ]
        },
        {
            "attachments": {},
            "cell_type": "markdown",
            "metadata": {},
            "source": [
                "## De-standardization function\n",
                "Often in data science, we perform manipulations on the standardized dataset(because it's usually easier) and then convert it back to original scale by destandardizing. \n",
                "So let's write a function to retrieve the data by de-standardizing."
            ]
        },
        {
            "attachments": {},
            "cell_type": "markdown",
            "metadata": {},
            "source": [
                "## Function to de-standardize\n",
                "You wil require the original `mean` and `std` values in order to de-standardize. Perform the following on each element: \n",
                "\n",
                "$x_i = z_i . \\sigma + \\mu$"
            ]
        },
        {
            "cell_type": "code",
            "execution_count": 10,
            "metadata": {},
            "outputs": [],
            "source": [
                "### edTest(test_de) ###\n",
                "# Write a function which takes data, mean and std as input \n",
                "# and returns de-standardized data\n",
                "# Make sure you use the correct mean and std for \n",
                "# data1 and data2 calculated earlier\n",
                "def destandardize(mean,std,data):\n",
                "  return [x * std + mean for x in data]"
            ]
        },
        {
            "cell_type": "code",
            "execution_count": 13,
            "metadata": {},
            "outputs": [
                {
                    "name": "stdout",
                    "output_type": "stream",
                    "text": "[47.0, 64.0, 32.0, 64.0, 21.0, 72.0, 31.0, 11.0, 56.0, 26.0]\n"
                }
            ],
            "source": [
                "### edTest(test_de1) ###\n",
                "# Use mean and std of data1 calculated earlier and destandardize data1_std\n",
                "data_de1 = destandardize(mean1,std1,data1_std)\n",
                "# Display first 10 elements of the destandardized data.\n",
                "print(data_de1[:10])"
            ]
        },
        {
            "cell_type": "code",
            "execution_count": 14,
            "metadata": {},
            "outputs": [
                {
                    "name": "stdout",
                    "output_type": "stream",
                    "text": "[27.0, 11.0, 17.0, 36.0, 24.0, 36.0, 5.0, 9.0, 39.0, 49.0]\n"
                }
            ],
            "source": [
                "### edTest(test_de2) ###\n",
                "# Use mean and std of data2 calculated earlier and destandardize data2_std\n",
                "data_de2 = destandardize(mean2,std2,data2_std)\n",
                "# Display first 10 elements of the destandardized data.\n",
                "print(data_de2[:10])"
            ]
        },
        {
            "attachments": {},
            "cell_type": "markdown",
            "metadata": {},
            "source": [
                "\n",
                "### ⏸ By looking at what data is required for destandardizing, do you observe something out of place?\n",
                "\n",
                "#### A. No, all looks good.\n",
                "#### B. `mean` and `std` got over-written when copy-pasting code.\n",
                "#### C. Function to de-standardize requires extra data(mean,std) which were not given by standardize function.\n",
                "#### D. B and C."
            ]
        },
        {
            "cell_type": "code",
            "execution_count": 15,
            "metadata": {},
            "outputs": [],
            "source": [
                "### edTest(test_chow2) ###\n",
                "# Submit an answer choice as a string below (eg. if you choose option A put 'A')\n",
                "\n",
                "answer = 'C'"
            ]
        }
    ]
}
