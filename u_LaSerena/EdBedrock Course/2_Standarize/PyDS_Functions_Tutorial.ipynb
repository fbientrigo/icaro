{
    "metadata": {
        "kernelspec": {
            "name": "python3",
            "display_name": "Python 3",
            "language": ""
        }
    },
    "nbformat": 4,
    "nbformat_minor": 0,
    "cells": [
        {
            "attachments": {},
            "cell_type": "markdown",
            "metadata": {},
            "source": [
                "## **Functions basics tutorial**\n",
                "### Types of functions in python\n",
                "### How to define a function\n",
                "### How to call a function\n",
                "### Pass arguments to a function\n",
                "### Return values and collect them\n",
                "\n",
                "## **Depth of function args**\n",
                "### Default argument\n",
                "### Expected types of arguments\n",
                "### Unknown no. of args\n",
                "### Unknown number of keyword args\n",
                "### Lambda functions\n",
                "\n",
                "## **Different uses of a function**\n",
                "### Namespaces to explain scope and function name/variable name\n",
                "### Scope of variable\n",
                "### Function within function\n",
                "### Family of functions\n",
                "### Decorators\n",
                "\n",
                "\n",
                ""
            ]
        },
        {
            "attachments": {},
            "cell_type": "markdown",
            "metadata": {},
            "source": [
                "### **Types of functions**\n",
                "Functions can be built-in, imported or user defined\n",
                "Eg. of built in, imported and user defined"
            ]
        },
        {
            "cell_type": "code",
            "execution_count": 1,
            "metadata": {},
            "outputs": [
                {
                    "name": "stdout",
                    "output_type": "stream",
                    "text": "Hello\n"
                }
            ],
            "source": [
                "# User defined\n",
                "def func():\n",
                "  print('Hello')\n",
                "\n",
                "func()"
            ]
        },
        {
            "cell_type": "code",
            "execution_count": 2,
            "metadata": {},
            "outputs": [
                {
                    "data": {
                        "text/plain": [
                            "15"
                        ]
                    },
                    "execution_count": 2,
                    "metadata": {
                        "tags": []
                    },
                    "output_type": "execute_result"
                }
            ],
            "source": [
                "#Built-in functions\n",
                "\n",
                "var1 = -15\n",
                "abs(var1)"
            ]
        },
        {
            "cell_type": "code",
            "execution_count": 3,
            "metadata": {},
            "outputs": [
                {
                    "name": "stdout",
                    "output_type": "stream",
                    "text": "16\n"
                }
            ],
            "source": [
                "# User defined with arguments\n",
                "\n",
                "def user_function1(var1):\n",
                "    x = var1 + 10\n",
                "    return x\n",
                "\n",
                "var1 = 6\n",
                "var2 = user_function1(var1)\n",
                "print(var2)"
            ]
        },
        {
            "cell_type": "code",
            "execution_count": 4,
            "metadata": {},
            "outputs": [
                {
                    "data": {
                        "text/plain": [
                            "[\u003cmatplotlib.lines.Line2D at 0x7f0dcf8a4b10\u003e]"
                        ]
                    },
                    "execution_count": 4,
                    "metadata": {
                        "tags": []
                    },
                    "output_type": "execute_result"
                },
                {
                    "data": {
                        "image/png": "[encoded data removed]",
                        "text/plain": [
                            "\u003cFigure size 432x288 with 1 Axes\u003e"
                        ]
                    },
                    "metadata": {
                        "needs_background": "light",
                        "tags": []
                    },
                    "output_type": "display_data"
                }
            ],
            "source": [
                "# Import function from a python library\n",
                "import matplotlib.pyplot as plt\n",
                "\n",
                "x = [1,2,3,4,5]\n",
                "y = [1,2,3,4,5]\n",
                "\n",
                "plt.plot(x,y)"
            ]
        },
        {
            "attachments": {},
            "cell_type": "markdown",
            "metadata": {},
            "source": [
                "### **How to define a function, pass arguments and collect output**"
            ]
        },
        {
            "cell_type": "code",
            "execution_count": 5,
            "metadata": {},
            "outputs": [
                {
                    "name": "stdout",
                    "output_type": "stream",
                    "text": "I take no inputs\n"
                }
            ],
            "source": [
                "# No argument function\n",
                "\n",
                "def func():\n",
                "  print('I take no inputs')\n",
                "\n",
                "#Calling a function\n",
                "func()"
            ]
        },
        {
            "cell_type": "code",
            "execution_count": 6,
            "metadata": {},
            "outputs": [
                {
                    "name": "stdout",
                    "output_type": "stream",
                    "text": "I take input a : 10\n"
                }
            ],
            "source": [
                "# Function with argument\n",
                "\n",
                "def func(a):\n",
                "  print('I take input a :',a)\n",
                "\n",
                "# Pass argument while calling the function\n",
                "\n",
                "a = 10\n",
                "func(a)"
            ]
        },
        {
            "cell_type": "code",
            "execution_count": 7,
            "metadata": {},
            "outputs": [
                {
                    "name": "stdout",
                    "output_type": "stream",
                    "text": "I take inputs a:  10  and b:  7\n"
                }
            ],
            "source": [
                "# Function with argument and return\n",
                "\n",
                "def func(a,b):\n",
                "  print('I take inputs a: ',a,' and b: ',b)\n",
                "  return a+b\n",
                "\n",
                "# Pass arguments while calling the function and collect return value \n",
                "\n",
                "a=10\n",
                "b=7\n",
                "add = func(a,b)"
            ]
        },
        {
            "attachments": {},
            "cell_type": "markdown",
            "metadata": {},
            "source": [
                "### **Calling functions within a function and default values of arguments**"
            ]
        },
        {
            "cell_type": "code",
            "execution_count": 8,
            "metadata": {},
            "outputs": [],
            "source": [
                "# Let's say we define a function that returns squared value of input\n",
                "def square(a):\n",
                "  return a**2\n",
                "\n",
                "# We want to write a function that calculates hypotenuse value\n",
                "# We can call the previous function within our new function\n",
                "\n",
                "def hypotenuse(a,b):\n",
                "  hypo = (square(a) + square(b))**0.5\n",
                "  return hypo\n",
                "\n",
                "# Call hypotenuse function\n",
                "a = 6\n",
                "b = 8\n",
                "\n",
                "c = hypotenuse(a,b)"
            ]
        },
        {
            "cell_type": "code",
            "execution_count": 9,
            "metadata": {},
            "outputs": [
                {
                    "name": "stdout",
                    "output_type": "stream",
                    "text": "10.0\n15.0\n"
                }
            ],
            "source": [
                "# Setting default value of arguments\n",
                "\n",
                "def hypotenuse(a,b=8):\n",
                "  hypo = (square(a) + square(b))**0.5\n",
                "  return hypo\n",
                "\n",
                "# Now when calling hypotenuse function you can pass one or two arguments\n",
                "# When only given one argument it will assume default value for the other\n",
                "\n",
                "a = 6\n",
                "c = hypotenuse(a)\n",
                "print(c)\n",
                "# When given two values it will not take the default value for b\n",
                "# Rather it will take the user provided value\n",
                "\n",
                "a = 9\n",
                "b = 12\n",
                "c = hypotenuse(a,b)\n",
                "print(c)"
            ]
        },
        {
            "attachments": {},
            "cell_type": "markdown",
            "metadata": {},
            "source": [
                "### **Argument type, abstract args and keyword args**\n",
                "\n",
                "You can specify expected argument type, but it won't be enforced. In order to enforce add a block which captures the typeerror"
            ]
        },
        {
            "cell_type": "code",
            "execution_count": 10,
            "metadata": {},
            "outputs": [
                {
                    "name": "stdout",
                    "output_type": "stream",
                    "text": "16.5\n"
                }
            ],
            "source": [
                "# Mention argument type and expected return type\n",
                "def arg_func(a: int) -\u003e int:\n",
                "    x = a + 10\n",
                "    return x\n",
                "\n",
                "# Passing a float does not throw error\n",
                "var1 = 6.5\n",
                "var2 = arg_func(var1)\n",
                "print (var2)"
            ]
        },
        {
            "attachments": {},
            "cell_type": "markdown",
            "metadata": {},
            "source": [
                "Arbitrary Arguments, *args"
            ]
        },
        {
            "cell_type": "code",
            "execution_count": 11,
            "metadata": {},
            "outputs": [
                {
                    "name": "stdout",
                    "output_type": "stream",
                    "text": "The youngest child is Linus\naverage for 1,2,3:  2.0  average for 1,10,33,43,2:  17.8\n"
                }
            ],
            "source": [
                "# Used when number of inputs are not known\n",
                "def my_function(*kids):\n",
                "  print(\"The youngest child is \" + kids[-1])\n",
                "\n",
                "my_function(\"Emil\", \"Tobias\", \"Linus\")\n",
                "\n",
                "# Pass it as * and treat it like a tuple in the function\n",
                "def average(*numbers):\n",
                "  return sum(numbers)/len(numbers)\n",
                "\n",
                "print('average for 1,2,3: ',average(1,2,3),' average for 1,10,33,43,2: ',average(1,10,33,43,2))"
            ]
        },
        {
            "attachments": {},
            "cell_type": "markdown",
            "metadata": {},
            "source": [
                "Arbitrary Keyword Arguments, **kwargs"
            ]
        },
        {
            "cell_type": "code",
            "execution_count": 12,
            "metadata": {},
            "outputs": [
                {
                    "name": "stdout",
                    "output_type": "stream",
                    "text": "His last name is Refsnes\n"
                }
            ],
            "source": [
                "# Used when number of inputs not known but a specific keyword is expected\n",
                "\n",
                "def my_function(**kid):\n",
                "  print(\"His last name is \" + kid[\"lname\"])\n",
                "\n",
                "my_function(fname = \"Tobias\", lname = \"Refsnes\")"
            ]
        },
        {
            "attachments": {},
            "cell_type": "markdown",
            "metadata": {},
            "source": [
                "### **Lambda functions**"
            ]
        },
        {
            "cell_type": "code",
            "execution_count": 13,
            "metadata": {},
            "outputs": [
                {
                    "name": "stdout",
                    "output_type": "stream",
                    "text": "4\n"
                }
            ],
            "source": [
                "# Define lambda function\n",
                "square = lambda x : x**2\n",
                "\n",
                "# Call lambda function\n",
                "print(square(2))"
            ]
        },
        {
            "cell_type": "code",
            "execution_count": 14,
            "metadata": {},
            "outputs": [
                {
                    "name": "stdout",
                    "output_type": "stream",
                    "text": "[96.0, 240.0, 120.0, 2400.0, 34.04, 53.688]\n['LB', 'CB', 'RB']\n"
                }
            ],
            "source": [
                "## Usage of lambda functions\n",
                "\n",
                "#Example of Map function(calculate discount)\n",
                "a = list(map(lambda x: x - 0.2*x, [120,300,150,3000,42.55,67.11]))\n",
                "\n",
                "#Example of Filter function(get all 'back' positions)\n",
                "b = list(filter(lambda x: 'B' in x, ['LB', 'CB', 'ST','CAM','CMD','GK','RB']))\n",
                "\n",
                "print(a)\n",
                "print(b)"
            ]
        },
        {
            "cell_type": "code",
            "execution_count": 15,
            "metadata": {},
            "outputs": [
                {
                    "name": "stdout",
                    "output_type": "stream",
                    "text": "[('Rodrygo', 18, 91.4), ('De Ligt', 19, 92.1), ('Sancho', 19, 94.0), ('Alexander-Arnold', 20, 90.5), ('Havertz', 20, 93.2)]\n"
                }
            ],
            "source": [
                "# Example of sorted function\n",
                "lst = [('De Ligt',19,92.1), ('Alexander-Arnold',20,90.5), ('Sancho',19,94.0),('Havertz',20,93.2),('Rodrygo',18,91.4)]\n",
                "lst.sort(key=lambda x:x[1])\n",
                "print(lst)"
            ]
        },
        {
            "attachments": {},
            "cell_type": "markdown",
            "metadata": {},
            "source": [
                "### **Scope of variables in functions**"
            ]
        },
        {
            "cell_type": "code",
            "execution_count": 16,
            "metadata": {},
            "outputs": [
                {
                    "name": "stdout",
                    "output_type": "stream",
                    "text": "Value before calling function: 20\nValue inside function: 10\nValue after calling function: 20\n"
                }
            ],
            "source": [
                "# Testing the scope of a variable 'x'\n",
                "\n",
                "def my_func():\n",
                "    x = 10\n",
                "    print(\"Value inside function:\",x)\n",
                "\n",
                "x = 20\n",
                "print(\"Value before calling function:\",x)\n",
                "my_func()\n",
                "print(\"Value after calling function:\",x)"
            ]
        },
        {
            "attachments": {},
            "cell_type": "markdown",
            "metadata": {},
            "source": [
                "### **Declaring fn within fn, returning a function, function as input argument**"
            ]
        },
        {
            "attachments": {},
            "cell_type": "markdown",
            "metadata": {},
            "source": [
                "You can define families of functions easily"
            ]
        },
        {
            "cell_type": "code",
            "execution_count": 17,
            "metadata": {},
            "outputs": [
                {
                    "name": "stdout",
                    "output_type": "stream",
                    "text": "40\n60\n"
                }
            ],
            "source": [
                "# return a function\n",
                "def multiplier(n):\n",
                "  func = lambda x:x*n\n",
                "  return func\n",
                "\n",
                "doubler = multiplier(2)\n",
                "tripler = multiplier(3)\n",
                "\n",
                "print(doubler(20))\n",
                "print(tripler(20))"
            ]
        },
        {
            "cell_type": "code",
            "execution_count": 18,
            "metadata": {},
            "outputs": [
                {
                    "data": {
                        "text/plain": [
                            "13"
                        ]
                    },
                    "execution_count": 18,
                    "metadata": {
                        "tags": []
                    },
                    "output_type": "execute_result"
                }
            ],
            "source": [
                "# Taking a function as input\n",
                "# Definging a function inside a function\n",
                "# Returning a function\n",
                "\n",
                "def sum_of_func(f):\n",
                "  def sum(x,y):\n",
                "    return f(x)+f(y)\n",
                "  return sum\n",
                "\n",
                "# Defining function that is supposed to ge as input\n",
                "square = lambda x: x**2\n",
                "\n",
                "# Collecting function that is returned\n",
                "sum = sum_of_func(square)\n",
                "\n",
                "# Calling the returned function\n",
                "sum(2,3)"
            ]
        },
        {
            "cell_type": "code",
            "execution_count": 19,
            "metadata": {},
            "outputs": [
                {
                    "data": {
                        "text/plain": [
                            "13"
                        ]
                    },
                    "execution_count": 19,
                    "metadata": {
                        "tags": []
                    },
                    "output_type": "execute_result"
                }
            ],
            "source": [
                "# Doing the same thing using decorator\n",
                "\n",
                "# Note: sum gets overwritten by function returned by sum_of_func\n",
                "@sum_of_func\n",
                "def sum(x):\n",
                "  return x**2\n",
                "\n",
                "# Calling returned function\n",
                "sum(2,3)"
            ]
        },
        {
            "attachments": {},
            "cell_type": "markdown",
            "metadata": {},
            "source": [
                "Function decorator used for checking arguments of a function"
            ]
        },
        {
            "cell_type": "code",
            "execution_count": 22,
            "metadata": {},
            "outputs": [
                {
                    "name": "stdout",
                    "output_type": "stream",
                    "text": "24\n"
                },
                {
                    "ename": "ValueError",
                    "evalue": "ignored",
                    "output_type": "error",
                    "traceback": [
                        "\u001b[0;31m---------------------------------------------------------------------------\u001b[0m",
                        "\u001b[0;31mValueError\u001b[0m                                Traceback (most recent call last)",
                        "\u001b[0;32m\u003cipython-input-22-b434bf5b7fa9\u003e\u001b[0m in \u001b[0;36m\u003cmodule\u003e\u001b[0;34m()\u001b[0m\n\u001b[1;32m     14\u001b[0m \u001b[0;34m\u001b[0m\u001b[0m\n\u001b[1;32m     15\u001b[0m \u001b[0mprint\u001b[0m\u001b[0;34m(\u001b[0m\u001b[0mfactorial\u001b[0m\u001b[0;34m(\u001b[0m\u001b[0;36m4\u001b[0m\u001b[0;34m)\u001b[0m\u001b[0;34m)\u001b[0m \u001b[0;31m# returns 24\u001b[0m\u001b[0;34m\u001b[0m\u001b[0;34m\u001b[0m\u001b[0m\n\u001b[0;32m---\u003e 16\u001b[0;31m \u001b[0mprint\u001b[0m\u001b[0;34m(\u001b[0m\u001b[0mfactorial\u001b[0m\u001b[0;34m(\u001b[0m\u001b[0;34m-\u001b[0m\u001b[0;36m1\u001b[0m\u001b[0;34m)\u001b[0m\u001b[0;34m)\u001b[0m \u001b[0;31m# returns 24\u001b[0m\u001b[0;34m\u001b[0m\u001b[0;34m\u001b[0m\u001b[0m\n\u001b[0m",
                        "\u001b[0;32m\u003cipython-input-22-b434bf5b7fa9\u003e\u001b[0m in \u001b[0;36mchecker\u001b[0;34m(n)\u001b[0m\n\u001b[1;32m      6\u001b[0m             \u001b[0;32mreturn\u001b[0m \u001b[0;36m1\u001b[0m\u001b[0;34m\u001b[0m\u001b[0;34m\u001b[0m\u001b[0m\n\u001b[1;32m      7\u001b[0m         \u001b[0;32melse\u001b[0m\u001b[0;34m:\u001b[0m\u001b[0;34m\u001b[0m\u001b[0;34m\u001b[0m\u001b[0m\n\u001b[0;32m----\u003e 8\u001b[0;31m             \u001b[0;32mraise\u001b[0m \u001b[0mValueError\u001b[0m\u001b[0;34m(\u001b[0m\u001b[0;34m\"Not a positive int\"\u001b[0m\u001b[0;34m)\u001b[0m\u001b[0;34m\u001b[0m\u001b[0;34m\u001b[0m\u001b[0m\n\u001b[0m\u001b[1;32m      9\u001b[0m     \u001b[0;32mreturn\u001b[0m \u001b[0mchecker\u001b[0m\u001b[0;34m\u001b[0m\u001b[0;34m\u001b[0m\u001b[0m\n\u001b[1;32m     10\u001b[0m \u001b[0;34m\u001b[0m\u001b[0m\n",
                        "\u001b[0;31mValueError\u001b[0m: Not a positive int"
                    ]
                }
            ],
            "source": [
                "def check_posint(f):\n",
                "    def checker(n):\n",
                "        if n \u003e 0:\n",
                "            return f(n)\n",
                "        elif n == 0:\n",
                "            return 1\n",
                "        else:\n",
                "            raise ValueError(\"Not a positive int\")\n",
                "    return checker\n",
                "\n",
                "@check_posint\n",
                "def factorial(n):\n",
                "    return n*factorial(n-1)\n",
                "    \n",
                "print(factorial(4)) # returns 24\n",
                "print(factorial(-1)) # returns value error"
            ]
        }
    ]
}
