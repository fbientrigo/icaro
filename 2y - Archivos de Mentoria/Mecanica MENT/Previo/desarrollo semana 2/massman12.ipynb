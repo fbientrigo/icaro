{
 "metadata": {
  "language_info": {
   "codemirror_mode": {
    "name": "ipython",
    "version": 3
   },
   "file_extension": ".py",
   "mimetype": "text/x-python",
   "name": "python",
   "nbconvert_exporter": "python",
   "pygments_lexer": "ipython3",
   "version": "3.8.5-final"
  },
  "orig_nbformat": 2,
  "kernelspec": {
   "name": "Python 3.8.5 32-bit",
   "display_name": "Python 3.8.5 32-bit",
   "metadata": {
    "interpreter": {
     "hash": "770994198ebab68008804afc266723fde29c49136b6390748c7155cb9b94349b"
    }
   }
  }
 },
 "nbformat": 4,
 "nbformat_minor": 2,
 "cells": [
  {
   "source": [
    "# Ejercicio 12 del Massman\n",
    "Pelota que se lanza de la punta de un edificio y luego de un tiempo $T = 6 [s] $ se escucha el sonido del impacto"
   ],
   "cell_type": "markdown",
   "metadata": {}
  },
  {
   "cell_type": "code",
   "execution_count": 7,
   "metadata": {},
   "outputs": [],
   "source": [
    "# constantes (todo en unidades sistema internacional)\n",
    "c = 340\n",
    "g = 9.81"
   ]
  },
  {
   "cell_type": "code",
   "execution_count": 5,
   "metadata": {},
   "outputs": [],
   "source": [
    "from math import sqrt\n",
    "\n",
    "# funciones utiles\n",
    "def psi(T):\n",
    "    return g*T/c"
   ]
  },
  {
   "cell_type": "code",
   "execution_count": 11,
   "metadata": {},
   "outputs": [
    {
     "output_type": "execute_result",
     "data": {
      "text/plain": "0.17311764705882352"
     },
     "metadata": {},
     "execution_count": 11
    }
   ],
   "source": [
    "psi(6) # valores de ejemplo"
   ]
  },
  {
   "cell_type": "code",
   "execution_count": 14,
   "metadata": {},
   "outputs": [],
   "source": [
    "# funcion de la altura\n",
    "# las dos soluciones de le ecuacion cuadratica\n",
    "\n",
    "def h1(T):\n",
    "    return 1 + psi(T) + sqrt( ( 1 + psi(T) )**2 + T*c*psi(T) )\n",
    "\n",
    "def h2(T):\n",
    "    return 1 + psi(T) - sqrt( ( 1 + psi(T) )**2 + T*c*psi(T) )"
   ]
  },
  {
   "cell_type": "code",
   "execution_count": 13,
   "metadata": {},
   "outputs": [
    {
     "output_type": "execute_result",
     "data": {
      "text/plain": "20.00224946490536"
     },
     "metadata": {},
     "execution_count": 13
    }
   ],
   "source": [
    "h1(6)"
   ]
  },
  {
   "cell_type": "code",
   "execution_count": 15,
   "metadata": {},
   "outputs": [
    {
     "output_type": "execute_result",
     "data": {
      "text/plain": "-17.656014170787714"
     },
     "metadata": {},
     "execution_count": 15
    }
   ],
   "source": [
    "h2(6) # esto nos da resultados negativos, la altura del edificio no puede ser negativa asi que ignoramos h2(t)"
   ]
  },
  {
   "cell_type": "code",
   "execution_count": 17,
   "metadata": {},
   "outputs": [
    {
     "output_type": "execute_result",
     "data": {
      "text/plain": "32.63594251149245"
     },
     "metadata": {},
     "execution_count": 17
    }
   ],
   "source": [
    "# creando h como una funcion podemos saber la altura para cualquier tiempo total T que nos den\n",
    "\n",
    "h1(10)"
   ]
  },
  {
   "cell_type": "code",
   "execution_count": null,
   "metadata": {},
   "outputs": [],
   "source": []
  }
 ]
}