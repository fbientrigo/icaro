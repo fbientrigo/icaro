{
 "metadata": {
  "language_info": {
   "codemirror_mode": {
    "name": "ipython",
    "version": 3
   },
   "file_extension": ".py",
   "mimetype": "text/x-python",
   "name": "python",
   "nbconvert_exporter": "python",
   "pygments_lexer": "ipython3",
   "version": "3.8.5-final"
  },
  "orig_nbformat": 2,
  "kernelspec": {
   "name": "Python 3.8.5 32-bit",
   "display_name": "Python 3.8.5 32-bit",
   "metadata": {
    "interpreter": {
     "hash": "770994198ebab68008804afc266723fde29c49136b6390748c7155cb9b94349b"
    }
   }
  }
 },
 "nbformat": 4,
 "nbformat_minor": 2,
 "cells": [
  {
   "cell_type": "code",
   "execution_count": 12,
   "metadata": {},
   "outputs": [],
   "source": [
    "import numpy as np\n",
    "from numpy import linalg as LA #algebra lineal\n",
    "\n",
    "#Ingrese su operador y vector estado inicial\n",
    "#H = [{19., 14., 3.}, { 14., 9., 17.}, {3., 17., 1}]\n",
    "#H= np.array([[3,0,0],[0,0,5],[0,5,0]])\n",
    "#inp = np.array([[3],[0],[4]],dtype=np.float64)/5\n",
    "\n"
   ]
  },
  {
   "cell_type": "code",
   "execution_count": 13,
   "metadata": {
    "tags": []
   },
   "outputs": [],
   "source": [
    "# para tomar matrices externas, lo hacemos mediante el formato MTX\n",
    "import scipy as sp\n",
    "from scipy.io import mmread, mmwrite\n",
    "\n",
    "H = mmread('RandomMat.mtx')"
   ]
  },
  {
   "cell_type": "code",
   "execution_count": 21,
   "metadata": {},
   "outputs": [],
   "source": [
    "inp = np.array([ [1],[1],[0],[1],[1] ],dtype='complex128')/np.sqrt(4)"
   ]
  },
  {
   "cell_type": "code",
   "execution_count": 22,
   "metadata": {},
   "outputs": [],
   "source": [
    "#eigen's\n",
    "w, v = LA.eig(H)\n",
    "\n",
    "##_______________________________##\n",
    "\n",
    "#v[:,i]  #eigenvector numero i\n",
    "# w[i] eigenvalue para ese\n",
    "# Proyeccion \n",
    "\n",
    "#array de coeficientes de la proyeccion\n",
    "coefeigen = np.zeros((len(v),1),dtype='complex128')\n",
    "#array para vector input proyectado\n",
    "psi = np.zeros((len(v),len(v)),dtype='complex128')\n",
    "\n",
    "for i in range(len(v)):\n",
    "    coefeigen[i] = np.dot(v[:,i].conj(),inp)\n",
    "    #print(coefeigen[i])\n",
    "    psi[:,i] = coefeigen[i]*v[:,i]"
   ]
  },
  {
   "cell_type": "code",
   "execution_count": 44,
   "metadata": {
    "tags": []
   },
   "outputs": [
    {
     "output_type": "stream",
     "name": "stdout",
     "text": "el resultado de actuar H |psi&gt; = \n[[1.07791657-0.09327756j 1.30291241-0.09121696j 1.03569087+0.4148406j\n  0.99197094+0.07158921j 1.51870555+0.11290532j]]\nel resultado de actuar H |inp&gt; = \n[[1.07791657-0.09327756j]\n [1.30291241-0.09121696j]\n [1.03569087+0.4148406j ]\n [0.99197094+0.07158921j]\n [1.51870555+0.11290532j]]\nson identicos?:  [[-8.88178420e-16+4.16333634e-17j -8.88178420e-16+0.00000000e+00j\n  -4.44089210e-16-1.66533454e-16j -7.77156117e-16-1.24900090e-16j\n  -1.11022302e-15+1.38777878e-17j]]\nOrden de magnitud de las diferencias:  [[-15.05102318+1.34403369j -15.05149978+1.36437635j\n  -15.32395834-1.20856423j -15.10395423-1.29517082j\n  -14.95455584+1.35894796j]]\n"
    }
   ],
   "source": [
    "# Compruebe\n",
    "f = np.zeros((1,len(v)),dtype='complex128')\n",
    "for i in range(len(v)):\n",
    "    f += np.dot(H,psi[:,i])\n",
    "\n",
    "g = np.dot(H,inp[:,0])\n",
    "print('el resultado de actuar H |psi> = ')\n",
    "print(f)\n",
    "\n",
    "print('el resultado de actuar H |inp> = ')\n",
    "print(np.dot(H,inp))\n",
    "\n",
    "print('son identicos?: ',(g-f))\n",
    "print('Orden de magnitud de las diferencias: ',np.log10(g-f))"
   ]
  },
  {
   "cell_type": "code",
   "execution_count": 24,
   "metadata": {},
   "outputs": [
    {
     "output_type": "execute_result",
     "data": {
      "text/plain": "array([[ 0.88139289+0.00066979j],\n       [-0.26978101-0.19514194j],\n       [-0.13634835-0.05165075j],\n       [ 0.15865067+0.04165634j],\n       [ 0.24530492+0.06281306j]])"
     },
     "metadata": {},
     "execution_count": 24
    }
   ],
   "source": [
    "coefeigen #coeficientes"
   ]
  },
  {
   "cell_type": "code",
   "execution_count": 29,
   "metadata": {},
   "outputs": [],
   "source": [
    "#Devolver las matrices respuesta\n",
    "\n",
    "mmwrite('eigenvectors.mtx',v,'cada columna es un eigenvector') # exportamos los eigenvectores en orden\n",
    "\n",
    "mmwrite('coefeigen.mtx',coefeigen,'Fabian Trigo Matrix de Coeficientes') #exportamos los coeficientes"
   ]
  },
  {
   "cell_type": "code",
   "execution_count": 31,
   "metadata": {},
   "outputs": [],
   "source": []
  },
  {
   "cell_type": "code",
   "execution_count": null,
   "metadata": {},
   "outputs": [],
   "source": []
  }
 ]
}