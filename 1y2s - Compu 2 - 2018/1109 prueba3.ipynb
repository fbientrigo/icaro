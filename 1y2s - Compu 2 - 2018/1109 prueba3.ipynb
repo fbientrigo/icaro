{
 "cells": [
  {
   "cell_type": "markdown",
   "metadata": {},
   "source": [
    "# Funcion Gamma\n",
    "\n",
    "$$ \\gamma(a) = \\int_{0}^{\\infty}x^{a-1}e^{-x}dx $$\n",
    "\n",
    "a) Definir la funcion de la integral (ergo, dentro de la integral)"
   ]
  },
  {
   "cell_type": "code",
   "execution_count": 1,
   "metadata": {
    "collapsed": true
   },
   "outputs": [],
   "source": [
    "from numpy import exp\n",
    "def gamma(a,x):\n",
    "    return(x**(a-1) * exp(-x))  #Defino la funcion dentro de la Integral a) Listo\n"
   ]
  },
  {
   "cell_type": "markdown",
   "metadata": {},
   "source": [
    "b) Grafique la funcion para a=2,3y4 entre x=0 y x=10, estos mismos considerelos como los limites de la integracion"
   ]
  },
  {
   "cell_type": "code",
   "execution_count": 2,
   "metadata": {},
   "outputs": [
    {
     "data": {
      "image/png": "[encoded data removed]",
      "text/plain": [
       "<matplotlib.figure.Figure at 0x7f441c143f90>"
      ]
     },
     "metadata": {},
     "output_type": "display_data"
    }
   ],
   "source": [
    "from matplotlib.pyplot import show,plot,title,legend,show\n",
    "from numpy import linspace\n",
    "\n",
    "x_o = 0\n",
    "x_f = 10   #Defino los limites\n",
    "N = 10\n",
    "\n",
    "x = linspace(x_o,x_f,N)\n",
    "\n",
    "\n",
    "y_2 = gamma(2,x)  #Expreso la funcion gamma para evitar problemas de dimension que puede provocar python\n",
    "y_3 = gamma(3,x)\n",
    "y_4 = gamma(4,x)\n",
    "\n",
    "plot(x,y_2,color=\"r\",label=\"gamma a=2\")\n",
    "plot(x,y_3,color=\"b\",label=\"gamma a=3\")\n",
    "plot(x,y_4,color=\"g\",label=\"gamma a=4\")\n",
    "legend()\n",
    "title(\"Funcion Gamma en base a Diferentes valores de a\")\n",
    "show()"
   ]
  },
  {
   "cell_type": "markdown",
   "metadata": {},
   "source": [
    "c) Evalue la integral usando el metodo del trapezoide, evalue el error para alcanzar una precision de e=10^-6\n",
    "Se utilizan valor de a conocidos, tal como a=2"
   ]
  },
  {
   "cell_type": "code",
   "execution_count": 3,
   "metadata": {},
   "outputs": [
    {
     "name": "stdout",
     "output_type": "stream",
     "text": [
      "0.920140579026\n"
     ]
    }
   ],
   "source": [
    "def gammaI(a,x_o,x_f,N):  #Realizare una funcion que integre automaticamente, para hacer los graficos\n",
    "    #Integrare con metodo trapezoide\n",
    "    h = (x_f-x_o)/N #Defino la h\n",
    "    #La segunda y tercera, el valor de 1/2 f(a) y 1/2 f(b)\n",
    "    A1 = 0.5 * gamma(a,x_o) + 0.5 * gamma(a,x_f)\n",
    "    #La ultima es la sumatoria... eso es un loop for btw\n",
    "    A2 = 0 #Como placeholder\n",
    "    for k in range(1,N): #Ira de 1 a N-1\n",
    "        A2 += gamma(a , (x_o + k*h))\n",
    "        #Es\n",
    "\n",
    "    A_total = h*(A1 + A2)\n",
    "    return(A_total)\n",
    "\n",
    "#y ahora calcularemos el error de esta integral para lo que tambien haremos una funcion que calcule los errores\n",
    "\n",
    "#Necesitaremos la derviada de esa funcion en especifico, para a=2\n",
    "#La cual es = -e^(-x) (-1 + x), la definimos\n",
    "def df(x):\n",
    "    return(float(exp(-x) * (1 - x )))\n",
    "\n",
    "def error_t(x_o,x_f,N): \n",
    "    h = float((x_o - x_f)/(N))\n",
    "    d_sum = float(df(x_o) - df(x_f))\n",
    "    return(float(1.0/12.0 * h*h *(d_sum)))\n",
    "\n",
    "print(gammaI(2,x_o,x_f,N))"
   ]
  },
  {
   "cell_type": "code",
   "execution_count": 4,
   "metadata": {},
   "outputs": [
    {
     "ename": "KeyboardInterrupt",
     "evalue": "",
     "output_type": "error",
     "traceback": [
      "\u001b[0;31m---------------------------------------------------------------------------\u001b[0m",
      "\u001b[0;31mKeyboardInterrupt\u001b[0m                         Traceback (most recent call last)",
      "\u001b[0;32m<ipython-input-4-88fbbd573088>\u001b[0m in \u001b[0;36m<module>\u001b[0;34m()\u001b[0m\n\u001b[1;32m     11\u001b[0m         \u001b[0mN\u001b[0m\u001b[0;34m=\u001b[0m\u001b[0mN2\u001b[0m\u001b[0;34m\u001b[0m\u001b[0m\n\u001b[1;32m     12\u001b[0m         \u001b[0mN2\u001b[0m\u001b[0;34m=\u001b[0m\u001b[0;36m2\u001b[0m\u001b[0;34m*\u001b[0m\u001b[0mN2\u001b[0m\u001b[0;34m\u001b[0m\u001b[0m\n\u001b[0;32m---> 13\u001b[0;31m         \u001b[0mi\u001b[0m \u001b[0;34m=\u001b[0m \u001b[0mgammaI\u001b[0m\u001b[0;34m(\u001b[0m\u001b[0;36m2\u001b[0m\u001b[0;34m,\u001b[0m\u001b[0mx_o\u001b[0m\u001b[0;34m,\u001b[0m\u001b[0mx_f\u001b[0m\u001b[0;34m,\u001b[0m\u001b[0mN\u001b[0m\u001b[0;34m)\u001b[0m\u001b[0;34m\u001b[0m\u001b[0m\n\u001b[0m\u001b[1;32m     14\u001b[0m         \u001b[0me2\u001b[0m\u001b[0;34m=\u001b[0m \u001b[0;34m(\u001b[0m\u001b[0;36m1.0\u001b[0m\u001b[0;34m/\u001b[0m\u001b[0;36m3.0\u001b[0m\u001b[0;34m)\u001b[0m\u001b[0;34m*\u001b[0m\u001b[0mabs\u001b[0m\u001b[0;34m(\u001b[0m\u001b[0mi\u001b[0m \u001b[0;34m-\u001b[0m \u001b[0mI2\u001b[0m\u001b[0;34m)\u001b[0m\u001b[0;34m\u001b[0m\u001b[0m\n\u001b[1;32m     15\u001b[0m         \u001b[0;32mif\u001b[0m\u001b[0;34m(\u001b[0m\u001b[0met\u001b[0m\u001b[0;34m<=\u001b[0m\u001b[0mem\u001b[0m\u001b[0;34m)\u001b[0m\u001b[0;34m:\u001b[0m\u001b[0;34m\u001b[0m\u001b[0m\n",
      "\u001b[0;32m<ipython-input-3-c74235afe829>\u001b[0m in \u001b[0;36mgammaI\u001b[0;34m(a, x_o, x_f, N)\u001b[0m\n\u001b[1;32m      7\u001b[0m     \u001b[0mA2\u001b[0m \u001b[0;34m=\u001b[0m \u001b[0;36m0\u001b[0m \u001b[0;31m#Como placeholder\u001b[0m\u001b[0;34m\u001b[0m\u001b[0m\n\u001b[1;32m      8\u001b[0m     \u001b[0;32mfor\u001b[0m \u001b[0mk\u001b[0m \u001b[0;32min\u001b[0m \u001b[0mrange\u001b[0m\u001b[0;34m(\u001b[0m\u001b[0;36m1\u001b[0m\u001b[0;34m,\u001b[0m\u001b[0mN\u001b[0m\u001b[0;34m)\u001b[0m\u001b[0;34m:\u001b[0m \u001b[0;31m#Ira de 1 a N-1\u001b[0m\u001b[0;34m\u001b[0m\u001b[0m\n\u001b[0;32m----> 9\u001b[0;31m         \u001b[0mA2\u001b[0m \u001b[0;34m+=\u001b[0m \u001b[0mgamma\u001b[0m\u001b[0;34m(\u001b[0m\u001b[0ma\u001b[0m \u001b[0;34m,\u001b[0m \u001b[0;34m(\u001b[0m\u001b[0mx_o\u001b[0m \u001b[0;34m+\u001b[0m \u001b[0mk\u001b[0m\u001b[0;34m*\u001b[0m\u001b[0mh\u001b[0m\u001b[0;34m)\u001b[0m\u001b[0;34m)\u001b[0m\u001b[0;34m\u001b[0m\u001b[0m\n\u001b[0m\u001b[1;32m     10\u001b[0m         \u001b[0;31m#Es\u001b[0m\u001b[0;34m\u001b[0m\u001b[0;34m\u001b[0m\u001b[0m\n\u001b[1;32m     11\u001b[0m \u001b[0;34m\u001b[0m\u001b[0m\n",
      "\u001b[0;32m<ipython-input-1-f50b6f745482>\u001b[0m in \u001b[0;36mgamma\u001b[0;34m(a, x)\u001b[0m\n\u001b[1;32m      1\u001b[0m \u001b[0;32mfrom\u001b[0m \u001b[0mnumpy\u001b[0m \u001b[0;32mimport\u001b[0m \u001b[0mexp\u001b[0m\u001b[0;34m\u001b[0m\u001b[0m\n\u001b[1;32m      2\u001b[0m \u001b[0;32mdef\u001b[0m \u001b[0mgamma\u001b[0m\u001b[0;34m(\u001b[0m\u001b[0ma\u001b[0m\u001b[0;34m,\u001b[0m\u001b[0mx\u001b[0m\u001b[0;34m)\u001b[0m\u001b[0;34m:\u001b[0m\u001b[0;34m\u001b[0m\u001b[0m\n\u001b[0;32m----> 3\u001b[0;31m     \u001b[0;32mreturn\u001b[0m\u001b[0;34m(\u001b[0m\u001b[0mx\u001b[0m\u001b[0;34m**\u001b[0m\u001b[0;34m(\u001b[0m\u001b[0ma\u001b[0m\u001b[0;34m-\u001b[0m\u001b[0;36m1\u001b[0m\u001b[0;34m)\u001b[0m \u001b[0;34m*\u001b[0m \u001b[0mexp\u001b[0m\u001b[0;34m(\u001b[0m\u001b[0;34m-\u001b[0m\u001b[0mx\u001b[0m\u001b[0;34m)\u001b[0m\u001b[0;34m)\u001b[0m  \u001b[0;31m#Defino la funcion dentro de la Integral a) Listo\u001b[0m\u001b[0;34m\u001b[0m\u001b[0m\n\u001b[0m",
      "\u001b[0;31mKeyboardInterrupt\u001b[0m: "
     ]
    }
   ],
   "source": [
    "#Ahora pasamos a analizar el error y a buscar una exactitud mayor\n",
    "em = 10e-6 #Es el error que buscamos, error meta\n",
    "\n",
    "\n",
    "N2 = N*2\n",
    "I2 = gammaI(2,x_o,x_f,N2)\n",
    "\n",
    "et= (1.0/3.0)*abs( gammaI(2,x_o,x_f,N)- I2 ) #Error del trapecio\n",
    "\n",
    "while(et>=em):\n",
    "        N=N2\n",
    "        N2=2*N2\n",
    "        i = gammaI(2,x_o,x_f,N)\n",
    "        e2= (1.0/3.0)*abs(i - I2)\n",
    "        if(et<=em):\n",
    "            print(\"El error obtenido con \",N,\"fue de \",e2)\n",
    "            break #Un break adicional, solo por seguridad, los whiles complejos tienden a explotar\n",
    "            \n",
    "        else:\n",
    "            I2=i\n",
    "\n",
    "#Ahora con el valor de N realizamos esa integral\n",
    "print(gammaI(2,x_o,x_f,N2))\n",
    "print(N2)"
   ]
  },
  {
   "cell_type": "markdown",
   "metadata": {},
   "source": [
    "d) Evaluar la integral con el metodo de Simpson y igual que en lo anterior, encontrar con Integracion Adaptativa un error de 10e-6"
   ]
  },
  {
   "cell_type": "code",
   "execution_count": 12,
   "metadata": {},
   "outputs": [
    {
     "name": "stdout",
     "output_type": "stream",
     "text": [
      "0.999500600773\n"
     ]
    }
   ],
   "source": [
    "#Primero que todo Integramos con Metodo de Simpson\n",
    "#Funcion de integracion Simpson\n",
    "def simp(x_o,x_f,N,a=2):\n",
    "    t = 0.333333333333333\n",
    "    h = float(x_f-x_o)/float(N)\n",
    "    A1 = float(gamma(a,x_o)) + float(gamma(a,x_f))\n",
    "    A2 = 0.0\n",
    "    for k in range(1,int(N/2)+1):\n",
    "        A2 += gamma(a,x_o + (2.*k-1)*h)\n",
    "\n",
    "    A3 = 0.0\n",
    "    for k in range(1,int(N/2)):\n",
    "        A3 += gamma(a,x_o +2.*k*h)\n",
    "\n",
    "    return( t*h*(A1+4.*A2+2.*A3) )\n",
    "\n",
    "print(simp(x_o,x_f,N))"
   ]
  },
  {
   "cell_type": "code",
   "execution_count": 14,
   "metadata": {},
   "outputs": [
    {
     "name": "stdout",
     "output_type": "stream",
     "text": [
      "0.999500600773\n",
      "20971520\n"
     ]
    }
   ],
   "source": [
    "#Ahora la parte de integracion adaptativa\n",
    "em = 10e-6 #Es el error que buscamos, error meta\n",
    "\n",
    "\n",
    "N2 = N*2\n",
    "I2 = simp(x_o,x_f,N2)\n",
    "\n",
    "et= (1.0/15.0)*abs( simp(x_o,x_f,N)- I2 ) #Error del trapecio\n",
    "\n",
    "while(et>=em):\n",
    "        N=N2\n",
    "        N2=2*N2\n",
    "        i = simp(x_o,x_f,N)\n",
    "        e2= (1.0/15.0)*abs(i - I2)\n",
    "        if(et<=em):\n",
    "            print(\"El error obtenido con \",N2,\"fue de \",e2)\n",
    "            break\n",
    "            \n",
    "        else:\n",
    "            I2=i\n",
    "            \n",
    "#Ahora con el valor de N realizamos esa integral\n",
    "print(simp(x_o,x_f,N2))\n",
    "print(N2)"
   ]
  },
  {
   "cell_type": "markdown",
   "metadata": {},
   "source": [
    "e) No entendi la cuadratica gaussiana :c"
   ]
  },
  {
   "cell_type": "markdown",
   "metadata": {},
   "source": [
    "f) Comparar resultados con valores conocidos de la funcion Gamma(a=1,a=3/2,a=5/2)"
   ]
  },
  {
   "cell_type": "code",
   "execution_count": null,
   "metadata": {},
   "outputs": [
    {
     "name": "stdout",
     "output_type": "stream",
     "text": [
      "(0.99995460007029469, 'comparado con', 1)\n",
      "(0.99995460007029469, 'comparado con', 0.886)\n"
     ]
    }
   ],
   "source": [
    "print(simp(x_o,x_f,N2,1), \"comparado con\", 1)\n",
    "print(simp(x_o,x_f,N2,3/2), \"comparado con\", 0.886)\n",
    "print(simp(x_o,x_f,N2,5/2), \"comparado con\", 1.329)"
   ]
  },
  {
   "cell_type": "markdown",
   "metadata": {},
   "source": [
    "h) Diferencias entre los metodos\n",
    "* El metodo más efectivo depende de la funcion con la que trabajemos, por ejemplo la trapezoide funciona a base de crear figuras, es excelente para graficos semi lineales; la funcion Simpson aproxima funciones cuadraticas, por lo que las funciones de tipo exponencial son su fuerte, cada una en su debida area funciona mejor.\n",
    "* Para el caso de nuestra funcion, la funcion Gamma que estamos tratando: utilizando el metodo de integracion adaptativa con el trapezoide tomo un tiempo exagerado y ni si quiera llego a la precision que buscaba; con el metodo Simpson obtuve valores muy exactos incluso con N's pequeños, esto debido a la composicion de la funcion, entre potencia y exponencial."
   ]
  }
 ],
 "metadata": {
  "kernelspec": {
   "display_name": "Python 2",
   "language": "python",
   "name": "python2"
  },
  "language_info": {
   "codemirror_mode": {
    "name": "ipython",
    "version": 2
   },
   "file_extension": ".py",
   "mimetype": "text/x-python",
   "name": "python",
   "nbconvert_exporter": "python",
   "pygments_lexer": "ipython2",
   "version": "2.7.12"
  }
 },
 "nbformat": 4,
 "nbformat_minor": 2
}
