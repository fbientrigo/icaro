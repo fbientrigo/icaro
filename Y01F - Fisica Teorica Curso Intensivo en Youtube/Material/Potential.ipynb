{
 "cells": [
  {
   "cell_type": "markdown",
   "metadata": {},
   "source": [
    "# Derivadas y desarrollo en serie para el potencial electrostático\n",
    "En este notebook vemos cómo calcular las derivadas que aparecen en el desarrollo en serie del potencial electrostático en coordenadas cartesianas, usando manipulación simbólica con SymPy. Pueden ver un tutorial básico de SymPy en https://docs.sympy.org/latest/tutorial/calculus.html, y un tutorial sobre cómo operar en forma simbólica con vectores en https://docs.sympy.org/latest/modules/vector/index.html. Comenzamos con código para que Sympy funcione automáticamente en Google colab, o en notebooks Jupyter si alguno de ustedes tiene Python y Jupyter instalado y decide ejecutarlo en sus computadoras. Recordar que cada celda a continuación debe ejecutarse en orden, apretando SHIFT+ENTER:"
   ]
  },
  {
   "cell_type": "code",
   "execution_count": 1,
   "metadata": {},
   "outputs": [],
   "source": [
    "# El código en esta celda asegura que SymPy funcione correctamente en Google colab o en sus computadoras\n",
    "import os\n",
    "if \"COLAB_GPU\" in os.environ:\n",
    "  from sympy import *\n",
    "  def custom_latex_printer(expr, **options):\n",
    "      from IPython.display import Math, HTML\n",
    "      from google.colab.output._publish import javascript\n",
    "      url = \"https://cdnjs.cloudflare.com/ajax/libs/mathjax/2.7.7/MathJax.js?config=TeX-AMS_CHTML\"\n",
    "      javascript(content=\"\"\"window.MathJax = { tex2jax: { inlineMath: [ ['$','$'] ], processEscapes: true } };\"\"\")\n",
    "      javascript(url=url)\n",
    "      return latex(expr, **options)\n",
    "  init_printing(use_latex=\"mathjax\", latex_printer=custom_latex_printer)\n",
    "else:\n",
    "  from sympy import *\n",
    "  init_printing()"
   ]
  },
  {
   "cell_type": "markdown",
   "metadata": {},
   "source": [
    "## Derivadas espaciales del potencial en forma explícita\n",
    "Usemos SymPy para calcular el gradiente del potencial electrostático para una carga puntual unitaria (q=1). Primero lo hacemos escribiendo al módulo en forma explícita en coordenadas cartesianas, y calculando la derivada en cada dirección espacial. Comenzamos definiendo símbolos para el potencial, las coordenadas espaciales (x,y,z), y las coordenadas espaciales primadas (x',y',z')."
   ]
  },
  {
   "cell_type": "code",
   "execution_count": 2,
   "metadata": {},
   "outputs": [],
   "source": [
    "# Definimos variables simbólicas reales phi (para el potencial), x,y,z para las coordenadas, y x',y',z' para las coordenadas primadas\n",
    "phi      = symbols(\"phi\",     real=True)\n",
    "x,y,z    = symbols(\"x y z\",   real=True)\n",
    "xp,yp,zp = symbols(\"x' y' z'\",real=True)"
   ]
  },
  {
   "cell_type": "code",
   "execution_count": 3,
   "metadata": {},
   "outputs": [
    {
     "data": {
      "image/png": "[encoded data removed]",
      "text/latex": [
       "$\\displaystyle \\frac{1}{\\sqrt{\\left(x - x'\\right)^{2} + \\left(y - y'\\right)^{2} + \\left(z - z'\\right)^{2}}}$"
      ],
      "text/plain": [
       "                  1                   \n",
       "──────────────────────────────────────\n",
       "   ___________________________________\n",
       "  ╱         2           2           2 \n",
       "╲╱  (x - x')  + (y - y')  + (z - z')  "
      ]
     },
     "execution_count": 3,
     "metadata": {},
     "output_type": "execute_result"
    }
   ],
   "source": [
    "# Definimos el potencial y lo imprimimos\n",
    "phi = 1/(sqrt((x-xp)**2+(y-yp)**2+(z-zp)**2))\n",
    "phi"
   ]
  },
  {
   "cell_type": "code",
   "execution_count": 4,
   "metadata": {},
   "outputs": [
    {
     "data": {
      "image/png": "[encoded data removed]",
      "text/latex": [
       "$\\displaystyle \\frac{x - x'}{\\left(\\left(x - x'\\right)^{2} + \\left(y - y'\\right)^{2} + \\left(z - z'\\right)^{2}\\right)^{\\frac{3}{2}}}$"
      ],
      "text/plain": [
       "                x - x'                \n",
       "──────────────────────────────────────\n",
       "                                   3/2\n",
       "⎛        2           2           2⎞   \n",
       "⎝(x - x')  + (y - y')  + (z - z') ⎠   "
      ]
     },
     "execution_count": 4,
     "metadata": {},
     "output_type": "execute_result"
    }
   ],
   "source": [
    "# Calculamos la derivada del potencial respecto a x'. Prueben derivar respecto a y' (yp) o z' (zp).\n",
    "diff(phi, xp)"
   ]
  },
  {
   "cell_type": "code",
   "execution_count": 5,
   "metadata": {},
   "outputs": [
    {
     "data": {
      "image/png": "[encoded data removed]",
      "text/latex": [
       "$\\displaystyle \\frac{- x + x'}{\\left(\\left(x - x'\\right)^{2} + \\left(y - y'\\right)^{2} + \\left(z - z'\\right)^{2}\\right)^{\\frac{3}{2}}}$"
      ],
      "text/plain": [
       "               -x + x'                \n",
       "──────────────────────────────────────\n",
       "                                   3/2\n",
       "⎛        2           2           2⎞   \n",
       "⎝(x - x')  + (y - y')  + (z - z') ⎠   "
      ]
     },
     "execution_count": 5,
     "metadata": {},
     "output_type": "execute_result"
    }
   ],
   "source": [
    "# Calculamos la derivada del potencial respecto a x; notar que es igual a menos la derivada respecto a x'.\n",
    "diff(phi, x)"
   ]
  },
  {
   "cell_type": "code",
   "execution_count": 6,
   "metadata": {},
   "outputs": [
    {
     "data": {
      "image/png": "[encoded data removed]",
      "text/latex": [
       "$\\displaystyle \\frac{x}{\\left(x^{2} + y^{2} + z^{2}\\right)^{\\frac{3}{2}}}$"
      ],
      "text/plain": [
       "        x        \n",
       "─────────────────\n",
       "              3/2\n",
       "⎛ 2    2    2⎞   \n",
       "⎝x  + y  + z ⎠   "
      ]
     },
     "execution_count": 6,
     "metadata": {},
     "output_type": "execute_result"
    }
   ],
   "source": [
    "# Calculamos la derivada del potencial respecto a x', y lo evaluamos en x'=y'=z'=0 usando \"subs\"\n",
    "diff(phi, xp).subs(xp,0).subs(yp,0).subs(zp,0)"
   ]
  },
  {
   "cell_type": "code",
   "execution_count": 7,
   "metadata": {},
   "outputs": [
    {
     "data": {
      "image/png": "[encoded data removed]",
      "text/latex": [
       "$\\displaystyle \\frac{2 x^{2} - y^{2} - z^{2}}{\\left(x^{2} + y^{2} + z^{2}\\right)^{\\frac{5}{2}}}$"
      ],
      "text/plain": [
       "     2    2    2 \n",
       "  2⋅x  - y  - z  \n",
       "─────────────────\n",
       "              5/2\n",
       "⎛ 2    2    2⎞   \n",
       "⎝x  + y  + z ⎠   "
      ]
     },
     "execution_count": 7,
     "metadata": {},
     "output_type": "execute_result"
    }
   ],
   "source": [
    "# Finalmente, calculamos la derivada segunda (prueben cambiar las coordenadas en las derivadas), y lo evaluamos en x'=y'=z'=0\n",
    "simplify(diff(diff(phi, xp), xp).subs(xp,0).subs(yp,0).subs(zp,0))"
   ]
  },
  {
   "cell_type": "markdown",
   "metadata": {},
   "source": [
    "## Derivadas del potencial usando notación vectorial\n",
    "Ahora podemos volver a calcular las derivadas, pero usando el módulo para cálculo vectorial en SymPy. Usamos un sistema de coordenadas para las coordenadas primadas, de forma tal que los operadores diferenciales nabla, gradiente, rotor y divergencia se calculen respecto a esas coordenadas."
   ]
  },
  {
   "cell_type": "code",
   "execution_count": 8,
   "metadata": {
    "scrolled": false
   },
   "outputs": [
    {
     "data": {
      "image/png": "[encoded data removed]",
      "text/latex": [
       "$\\displaystyle \\frac{1}{\\sqrt{\\left(- \\mathbf{{x}_{P}} + x\\right)^{2} + \\left(- \\mathbf{{y}_{P}} + y\\right)^{2} + \\left(- \\mathbf{{z}_{P}} + z\\right)^{2}}}$"
      ],
      "text/plain": [
       "                     1                      \n",
       "────────────────────────────────────────────\n",
       "   _________________________________________\n",
       "  ╱           2             2             2 \n",
       "╲╱  (-x_P + x)  + (-y_P + y)  + (-z_P + z)  "
      ]
     },
     "execution_count": 8,
     "metadata": {},
     "output_type": "execute_result"
    }
   ],
   "source": [
    "# Importamos el módulo para cálculo vectorial\n",
    "from sympy.vector import *\n",
    "\n",
    "# Definimos un sistema de coordenadas cartesiano. P.i,P.j,P.k van a ser los 3 versores, y P.x,P.y,Pz las tres coordenadas primadas\n",
    "P = CoordSys3D('P')\n",
    "\n",
    "# Definimos el potencial electrostático para una carga puntual unitaria (q=1)\n",
    "phi = 1/sqrt((x-P.x)**2+(y-P.y)**2+(z-P.z)**2)\n",
    "phi"
   ]
  },
  {
   "cell_type": "code",
   "execution_count": 9,
   "metadata": {},
   "outputs": [
    {
     "data": {
      "image/png": "[encoded data removed]",
      "text/latex": [
       "$\\displaystyle (\\frac{- \\mathbf{{x}_{P}} + x}{\\left(\\left(\\mathbf{{x}_{P}} - x\\right)^{2} + \\left(\\mathbf{{y}_{P}} - y\\right)^{2} + \\left(\\mathbf{{z}_{P}} - z\\right)^{2}\\right)^{\\frac{3}{2}}})\\mathbf{\\hat{i}_{P}} + (\\frac{- \\mathbf{{y}_{P}} + y}{\\left(\\left(\\mathbf{{x}_{P}} - x\\right)^{2} + \\left(\\mathbf{{y}_{P}} - y\\right)^{2} + \\left(\\mathbf{{z}_{P}} - z\\right)^{2}\\right)^{\\frac{3}{2}}})\\mathbf{\\hat{j}_{P}} + (\\frac{- \\mathbf{{z}_{P}} + z}{\\left(\\left(\\mathbf{{x}_{P}} - x\\right)^{2} + \\left(\\mathbf{{y}_{P}} - y\\right)^{2} + \\left(\\mathbf{{z}_{P}} - z\\right)^{2}\\right)^{\\frac{3}{2}}})\\mathbf{\\hat{k}_{P}}$"
      ],
      "text/plain": [
       "((-P.x + x)/((P.x - x)**2 + (P.y - y)**2 + (P.z - z)**2)**(3/2))*P.i + ((-P.y + y)/((P.x - x)**2 + (P.y - y)**2 + (P.z - z)**2)**(3/2))*P.j + ((-P.z + z)/((P.x - x)**2 + (P.y - y)**2 + (P.z - z)**2)**(3/2))*P.k"
      ]
     },
     "execution_count": 9,
     "metadata": {},
     "output_type": "execute_result"
    }
   ],
   "source": [
    "# Calculamos el gradiente del potencial\n",
    "simplify(gradient(phi))"
   ]
  },
  {
   "cell_type": "code",
   "execution_count": 10,
   "metadata": {},
   "outputs": [
    {
     "data": {
      "image/png": "[encoded data removed]",
      "text/latex": [
       "$\\displaystyle \\mathbf{\\hat{0}}$"
      ],
      "text/plain": [
       "0"
      ]
     },
     "execution_count": 10,
     "metadata": {},
     "output_type": "execute_result"
    }
   ],
   "source": [
    "# Veamos que el rotor del gradiente que calculamos es cero\n",
    "simplify(curl(_))"
   ]
  },
  {
   "cell_type": "code",
   "execution_count": 11,
   "metadata": {},
   "outputs": [
    {
     "data": {
      "image/png": "[encoded data removed]",
      "text/latex": [
       "$\\displaystyle (\\frac{x}{\\left(x^{2} + y^{2} + z^{2}\\right)^{\\frac{3}{2}}})\\mathbf{\\hat{i}_{P}} + (\\frac{y}{\\left(x^{2} + y^{2} + z^{2}\\right)^{\\frac{3}{2}}})\\mathbf{\\hat{j}_{P}} + (\\frac{z}{\\left(x^{2} + y^{2} + z^{2}\\right)^{\\frac{3}{2}}})\\mathbf{\\hat{k}_{P}}$"
      ],
      "text/plain": [
       "(x/(x**2 + y**2 + z**2)**(3/2))*P.i + (y/(x**2 + y**2 + z**2)**(3/2))*P.j + (z/(x**2 + y**2 + z**2)**(3/2))*P.k"
      ]
     },
     "execution_count": 11,
     "metadata": {},
     "output_type": "execute_result"
    }
   ],
   "source": [
    "# Finalmente, calculamos el gradiente del potencial y lo evaluamos en x'=y'=z'=0\n",
    "simplify(gradient(phi)).subs(P.x,0).subs(P.y,0).subs(P.z,0)"
   ]
  }
 ],
 "metadata": {
  "kernelspec": {
   "display_name": "Python 3",
   "language": "python",
   "name": "python3"
  },
  "language_info": {
   "codemirror_mode": {
    "name": "ipython",
    "version": 3
   },
   "file_extension": ".py",
   "mimetype": "text/x-python",
   "name": "python",
   "nbconvert_exporter": "python",
   "pygments_lexer": "ipython3",
   "version": "3.7.7"
  }
 },
 "nbformat": 4,
 "nbformat_minor": 2
}
