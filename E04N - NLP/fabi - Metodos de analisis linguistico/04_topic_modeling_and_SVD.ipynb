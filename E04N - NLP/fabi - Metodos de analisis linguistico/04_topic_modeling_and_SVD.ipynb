{
 "cells": [
  {
   "attachments": {},
   "cell_type": "markdown",
   "metadata": {},
   "source": [
    "Un approach para conocer los mecanismos detras de los fenomenos, tengamos de ejemplo una reaccion quimica:\n",
    "### reaccion quimica\n",
    "- partimos por el trabajo de tener todas las posibles interacciones\n",
    "- luego se programa cada interaccion\n",
    "\n",
    "en este caso se consigue la reaccio de una encima, la cual depende tambien de concentraciones a distancias, haciendo el uso de farmacos mas dificil de analizar\n",
    "$$\n",
    "V_{CBS} = complejo\n",
    "$$\n",
    "\n",
    "sin embargo en la imagen de machine learning es posible solo conocer los resultados experimentales y en base a ello actuar, claro que para machine learning es necesario tener muchos datos\n",
    "\n",
    "## para que puede ser util esto?\n",
    "- en modelos de transito, puede obtener datos sobre tacos y distintas cosas utilizando datos de twitter y natural language processing"
   ]
  },
  {
   "cell_type": "code",
   "execution_count": null,
   "metadata": {},
   "outputs": [],
   "source": []
  }
 ],
 "metadata": {
  "language_info": {
   "name": "python"
  },
  "orig_nbformat": 4
 },
 "nbformat": 4,
 "nbformat_minor": 2
}
